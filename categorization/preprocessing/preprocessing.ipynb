{
 "cells": [
  {
   "cell_type": "code",
   "execution_count": 1,
   "id": "7aaaaadd",
   "metadata": {},
   "outputs": [],
   "source": [
    "import pandas as pd\n",
    "import os\n",
    "from sklearn.preprocessing import LabelEncoder\n",
    "from sklearn.feature_extraction.text import TfidfVectorizer"
   ]
  },
  {
   "cell_type": "code",
   "execution_count": 2,
   "id": "8f63c330",
   "metadata": {},
   "outputs": [],
   "source": [
    "# Change working directory to project directory\n",
    "os.chdir(path=\"/home/yegekucuk/Documents/Projects/smart-invoice-analyzer\")\n",
    "# Extract the name of all CSV files\n",
    "all_files = os.listdir(path=\"./ocr/machine_learning/category_dataset\")\n",
    "csv_files = sorted([file for file in all_files if file.endswith(\".csv\")])"
   ]
  },
  {
   "cell_type": "code",
   "execution_count": 3,
   "id": "872aa586",
   "metadata": {},
   "outputs": [
    {
     "data": {
      "application/vnd.microsoft.datawrangler.viewer.v0+json": {
       "columns": [
        {
         "name": "index",
         "rawType": "int64",
         "type": "integer"
        },
        {
         "name": "name",
         "rawType": "object",
         "type": "string"
        },
        {
         "name": "main_category",
         "rawType": "object",
         "type": "string"
        }
       ],
       "conversionMethod": "pd.DataFrame",
       "ref": "a9e95b82-3ca7-4fcc-9705-5d4e42b3d517",
       "rows": [
        [
         "0",
         "Lloyd 1.5 Ton 3 Star Inverter Split Ac (5 In 1 Convertible, Copper, Anti-Viral + Pm 2.5 Filter, 2023 Model, White, Gls18I3...",
         "appliances"
        ],
        [
         "1",
         "LG 1.5 Ton 5 Star AI DUAL Inverter Split AC (Copper, Super Convertible 6-in-1 Cooling, HD Filter with Anti-Virus Protectio...",
         "appliances"
        ],
        [
         "2",
         "LG 1 Ton 4 Star Ai Dual Inverter Split Ac (Copper, Super Convertible 6-In-1 Cooling, Hd Filter With Anti Virus Protection,...",
         "appliances"
        ],
        [
         "3",
         "LG 1.5 Ton 3 Star AI DUAL Inverter Split AC (Copper, Super Convertible 6-in-1 Cooling, HD Filter with Anti-Virus Protectio...",
         "appliances"
        ],
        [
         "4",
         "Carrier 1.5 Ton 3 Star Inverter Split AC (Copper,ESTER Dxi, 4-in-1 Flexicool Inverter, 2022 Model,R32,White)",
         "appliances"
        ],
        [
         "5",
         "Voltas 1.4 Ton 3 Star Inverter Split AC(Copper, Adjustable Cooling, Anti-dust Filter, 2023 Model, 173V Vectra Platina, White)",
         "appliances"
        ],
        [
         "6",
         "Lloyd 1.0 Ton 3 Star Inverter Split Ac (5 In 1 Convertible, Copper, Anti-Viral + Pm 2.5 Filter, 2023 Model, White With Chr...",
         "appliances"
        ],
        [
         "7",
         "Lloyd 1.5 Ton 5 Star Inverter Split Ac (5 In 1 Convertible, Copper, Anti-Viral + Pm 2.5 Filter, 2023 Model, White With Chr...",
         "appliances"
        ],
        [
         "8",
         "Carrier 1 Ton 3 Star AI Flexicool Inverter Split AC (Copper, Convertible 4-in-1 Cooling,Dual Filtration with HD & PM 2.5 F...",
         "appliances"
        ],
        [
         "9",
         "Voltas 1.5 Ton, 5 Star, Inverter Split AC(Copper, 4-in-1 Adjustable Mode, Anti-dust Filter, 2023 Model, 185V DAZJ, White)",
         "appliances"
        ],
        [
         "10",
         "Daikin 1 Ton 3 Star Inverter Split AC (Copper, PM 2.5 Filter, Triple Display, Dew Clean Technology, Coanda Airflow, 2023 M...",
         "appliances"
        ],
        [
         "11",
         "Daikin 1.5 Ton 5 Star Inverter Split AC (Copper, PM 2.5 Filter, 2022 Model, MTKM50U, White)",
         "appliances"
        ],
        [
         "12",
         "Panasonic 1.5 Ton 5 Star Wi-Fi Inverter Smart Split AC (Copper Condenser, 7 in 1 Convertible with additional AI Mode, 4 Wa...",
         "appliances"
        ],
        [
         "13",
         "Carrier 1.5 Ton 5 Star AI Flexicool Inverter Split AC (Copper, Convertible 6-in-1 Cooling,Dual Filtration with HD & PM 2.5...",
         "appliances"
        ],
        [
         "14",
         "Whirlpool 1.5 Ton 3 Star, Flexicool Inverter Split AC (Copper, Convertible 4-in-1 Cooling Mode, HD Filter 2023 Model, S3K1...",
         "appliances"
        ],
        [
         "15",
         "Samsung 1.5 Ton 3 Star Inverter Split AC (Copper, Convertible 5-in-1 Cooling Mode, Easy Filter Plus (Anti-Bacteria), 2023 ...",
         "appliances"
        ],
        [
         "16",
         "Lloyd 1.0 Ton 5 Star Inverter Split Ac (5 In 1 Convertible, Copper, Anti-Viral + Pm 2.5 Filter, 2023 Model, White With Chr...",
         "appliances"
        ],
        [
         "17",
         "Godrej 1.5 Ton 5 Star 5-In-1 Convertible, Inverter Split AC (100% Copper, Heavy Duty Cooling at 52°C, 2023 Model,AC 1.5T E...",
         "appliances"
        ],
        [
         "18",
         "Godrej 1 Ton 3 Star Inverter Split Ac Model 2023 (100% Copper,5-In-1 Convertible, Ac 1T Ei 12Tinv3R32-Gwa Split, White)",
         "appliances"
        ],
        [
         "19",
         "Daikin 1.5 Ton 3 Star Inverter Split AC (Copper, PM 2.5 Filter, Triple Display, Dew Clean Technology, Coanda Airflow, MTKL...",
         "appliances"
        ],
        [
         "20",
         "Blue Star 1.5 Ton 3 Star Convertible 4 in 1 Cooling Inverter Split AC (Copper, Multi Sensors, Stabalizer Free Operation, D...",
         "appliances"
        ],
        [
         "21",
         "LG 1.5 Ton 2 Star DUAL Inverter Split AC (Copper, Convertible 4-in-1 Cooling, HD Filter with Anti-virus Protection, 2023 M...",
         "appliances"
        ],
        [
         "22",
         "LG 1.5 Ton 4 Star AI DUAL Inverter Split AC (Copper, Super Convertible 6-in-1 Cooling, HD Filter with Anti-Virus Protectio...",
         "appliances"
        ],
        [
         "23",
         "Panasonic 1 Ton 5 Star Wi-Fi Inverter Smart Split AC (Copper Condenser, 7 in 1 Convertible with additional AI Mode, 4 Way ...",
         "appliances"
        ],
        [
         "24",
         "Lloyd 1.5 Ton 3 Star Fixed Speed Window Ac (Copper, 2023 Model, White With Silver Deco Strip, Glw18C3Ywsew)",
         "appliances"
        ],
        [
         "25",
         "Samsung 1.5 Ton 5 Star Inverter Split AC (Copper, Convertible 5-in-1 Cooling Mode, Anti-Bacteria, 2023 Model AR18CYNZABE W...",
         "appliances"
        ],
        [
         "26",
         "Voltas 1.5 Ton 5 Star, Inverter Window AC (Copper, 2-in-1 Adjustable Mode, 2023 Model, 185V Vertis Elite, White)",
         "appliances"
        ],
        [
         "27",
         "Samsung 1 Ton 3 Star Inverter Split Ac (Copper, Convertible 5-In-1 Cooling Mode, Easy Filter Plus (Anti-Bacteria), 2023 Mo...",
         "appliances"
        ],
        [
         "28",
         "LG 1.0 Ton 5 Star DUAL Inverter Wi-Fi Window AC (Copper, Convertible 4-in-1 cooling, PW-Q12WUZA, 2022 Model, HD Filter, Wh...",
         "appliances"
        ],
        [
         "29",
         "Godrej 1.5 Ton 3 Star 5-In-1 Convertible, Inverter Split AC (100% Copper,I-Sense, 2023 Model, AC 1.5T EI 18TINV3R32-GWA/AC...",
         "appliances"
        ],
        [
         "30",
         "Voltas 2 Ton 3 Star, Inverter Split AC(Copper, 4-in-1 Adjustable Mode, Anti-dust Filter, 2023 Model, 243V Vectra Elite, Wh...",
         "appliances"
        ],
        [
         "31",
         "Samsung 1.5 Ton 3 Star Wi-fi Enabled, Wind-Free Technology Inverter Split AC (Copper, Convertible 5-in-1 Cooling Mode, Ant...",
         "appliances"
        ],
        [
         "32",
         "Whirlpool 1.0 Ton 3 Star, Flexicool Inverter Split AC (Copper, Convertible 4-in-1 Cooling Mode, HD Filter 2023 Model, S3K1...",
         "appliances"
        ],
        [
         "33",
         "Whirlpool 1.5 Ton 5 Star, Flexicool Inverter Split AC (Copper, Convertible 4-in-1 Cooling Mode, HD Filter 2023 Model, S3I3...",
         "appliances"
        ],
        [
         "34",
         "Voltas 0.8 Ton 3 Star, Inverter Split AC(Copper, 4-in-1 Adjustable Mode, Anti-dust Filter, 2023 Model, 103V Vectra Elite, ...",
         "appliances"
        ],
        [
         "35",
         "LG 0.8 Ton 3 Star AI DUAL Inverter Split AC (Copper, Super Convertible 6-in-1 Cooling, HD Filter with Anti Virus protectio...",
         "appliances"
        ],
        [
         "36",
         "Daikin 1 Ton 5 Star Inverter Split AC (Copper, PM 2.5 Filter, 2022 Model, MTKM35U, White)",
         "appliances"
        ],
        [
         "37",
         "Blue Star 1 Ton Fixed Speed Portable AC (Copper, Anti Bacterial Silver Coating, Self Diagnosis, Comfort Sleep Modes-Auto/C...",
         "appliances"
        ],
        [
         "38",
         "Blue Star 1 Ton 3 Star Fixed Speed Window AC (Copper, Turbo Cool, Humidity Control, Fan Modes-Auto/High/Medium/Low, Hydrop...",
         "appliances"
        ],
        [
         "39",
         "Panasonic 1.5 Ton 3 Star Wi-Fi Inverter Smart Split AC (Copper Condenser, 7 in 1 Convertible with additional AI Mode, PM ...",
         "appliances"
        ],
        [
         "40",
         "Samsung 1 Ton 3 Star Wi-fi Enabled, Wind-Free Technology Inverter Split AC (Copper, Convertible 5-in-1 Cooling Mode, Anti-...",
         "appliances"
        ],
        [
         "41",
         "Daikin 1.5 Ton 3 Star Fixed Speed Split AC (Copper, PM 2.5 Filter, 2022 Model, FTL50U, White)",
         "appliances"
        ],
        [
         "42",
         "Carrier 1.5 Ton 3 Star Fixed Speed Window AC( Copper,High Density Filter for Dust Filtration, 2Way Air Directional Contro...",
         "appliances"
        ],
        [
         "43",
         "IFB 1.5 Ton 3 Star Heavy Duty Inverter Split AC (Copper, Convertible Flexi 8-in-1 Cooling, PM 0.3 Filter, 2022 Model, CI18...",
         "appliances"
        ],
        [
         "44",
         "Blue Star 0.8 Ton 3 Star Inverter Split Ac (Copper, Turbo Cool, Gold Fins, Comfort Sleep, Self Clean Technology, Multi Sen...",
         "appliances"
        ],
        [
         "45",
         "Carrier 2 Ton 5 Star AI Flexicool Inverter Split AC (Copper, Convertible 6-in-1 Cooling,Dual Filtration with HD & PM 2.5 F...",
         "appliances"
        ],
        [
         "46",
         "Blue Star 1 Ton 3 Star Convertible 4 in 1 Cooling Inverter Split AC (Copper, Multi Sensors, Stabalizer Free Operation, Dus...",
         "appliances"
        ],
        [
         "47",
         "Cruise 1.5 Ton 3 Star Inverter Split AC with 7-Stage Air Filtration (100% Copper, Convertible 4-in-1, PM 2.5 Filter, 2022 ...",
         "appliances"
        ],
        [
         "48",
         "AmazonBasics 1.5 Ton 5 Star Inverter Split AC (White, Air Purifier, Copper)",
         "appliances"
        ],
        [
         "49",
         "Voltas 1 Ton 3 Star, Inverter Split AC(Copper, 4-in-1 Adjustable Mode, Anti-dust Filter, 2023 Model, 123V Vectra Elegant, ...",
         "appliances"
        ]
       ],
       "shape": {
        "columns": 2,
        "rows": 1103170
       }
      },
      "text/html": [
       "<div>\n",
       "<style scoped>\n",
       "    .dataframe tbody tr th:only-of-type {\n",
       "        vertical-align: middle;\n",
       "    }\n",
       "\n",
       "    .dataframe tbody tr th {\n",
       "        vertical-align: top;\n",
       "    }\n",
       "\n",
       "    .dataframe thead th {\n",
       "        text-align: right;\n",
       "    }\n",
       "</style>\n",
       "<table border=\"1\" class=\"dataframe\">\n",
       "  <thead>\n",
       "    <tr style=\"text-align: right;\">\n",
       "      <th></th>\n",
       "      <th>name</th>\n",
       "      <th>main_category</th>\n",
       "    </tr>\n",
       "  </thead>\n",
       "  <tbody>\n",
       "    <tr>\n",
       "      <th>0</th>\n",
       "      <td>Lloyd 1.5 Ton 3 Star Inverter Split Ac (5 In 1...</td>\n",
       "      <td>appliances</td>\n",
       "    </tr>\n",
       "    <tr>\n",
       "      <th>1</th>\n",
       "      <td>LG 1.5 Ton 5 Star AI DUAL Inverter Split AC (C...</td>\n",
       "      <td>appliances</td>\n",
       "    </tr>\n",
       "    <tr>\n",
       "      <th>2</th>\n",
       "      <td>LG 1 Ton 4 Star Ai Dual Inverter Split Ac (Cop...</td>\n",
       "      <td>appliances</td>\n",
       "    </tr>\n",
       "    <tr>\n",
       "      <th>3</th>\n",
       "      <td>LG 1.5 Ton 3 Star AI DUAL Inverter Split AC (C...</td>\n",
       "      <td>appliances</td>\n",
       "    </tr>\n",
       "    <tr>\n",
       "      <th>4</th>\n",
       "      <td>Carrier 1.5 Ton 3 Star Inverter Split AC (Copp...</td>\n",
       "      <td>appliances</td>\n",
       "    </tr>\n",
       "    <tr>\n",
       "      <th>...</th>\n",
       "      <td>...</td>\n",
       "      <td>...</td>\n",
       "    </tr>\n",
       "    <tr>\n",
       "      <th>1103165</th>\n",
       "      <td>Adidas Regular Fit Men's Track Tops</td>\n",
       "      <td>sports &amp; fitness</td>\n",
       "    </tr>\n",
       "    <tr>\n",
       "      <th>1103166</th>\n",
       "      <td>Redwolf Noice Toit Smort - Hoodie (Black)</td>\n",
       "      <td>sports &amp; fitness</td>\n",
       "    </tr>\n",
       "    <tr>\n",
       "      <th>1103167</th>\n",
       "      <td>Redwolf Schrute Farms B&amp;B - Hoodie (Navy Blue)</td>\n",
       "      <td>sports &amp; fitness</td>\n",
       "    </tr>\n",
       "    <tr>\n",
       "      <th>1103168</th>\n",
       "      <td>Puma Men Shorts</td>\n",
       "      <td>sports &amp; fitness</td>\n",
       "    </tr>\n",
       "    <tr>\n",
       "      <th>1103169</th>\n",
       "      <td>Mothercare Printed Cotton Elastane Girls Infan...</td>\n",
       "      <td>sports &amp; fitness</td>\n",
       "    </tr>\n",
       "  </tbody>\n",
       "</table>\n",
       "<p>1103170 rows × 2 columns</p>\n",
       "</div>"
      ],
      "text/plain": [
       "                                                      name     main_category\n",
       "0        Lloyd 1.5 Ton 3 Star Inverter Split Ac (5 In 1...        appliances\n",
       "1        LG 1.5 Ton 5 Star AI DUAL Inverter Split AC (C...        appliances\n",
       "2        LG 1 Ton 4 Star Ai Dual Inverter Split Ac (Cop...        appliances\n",
       "3        LG 1.5 Ton 3 Star AI DUAL Inverter Split AC (C...        appliances\n",
       "4        Carrier 1.5 Ton 3 Star Inverter Split AC (Copp...        appliances\n",
       "...                                                    ...               ...\n",
       "1103165                Adidas Regular Fit Men's Track Tops  sports & fitness\n",
       "1103166          Redwolf Noice Toit Smort - Hoodie (Black)  sports & fitness\n",
       "1103167     Redwolf Schrute Farms B&B - Hoodie (Navy Blue)  sports & fitness\n",
       "1103168                                    Puma Men Shorts  sports & fitness\n",
       "1103169  Mothercare Printed Cotton Elastane Girls Infan...  sports & fitness\n",
       "\n",
       "[1103170 rows x 2 columns]"
      ]
     },
     "execution_count": 3,
     "metadata": {},
     "output_type": "execute_result"
    }
   ],
   "source": [
    "# For all csv files, extract 'name' and 'main_category' columns\n",
    "df = pd.DataFrame(columns=['name','main_category'])\n",
    "\n",
    "for i in range(len(csv_files)):\n",
    "    df_temp = pd.read_csv(f\"./ocr/machine_learning/category_dataset/{csv_files[i]}\")\n",
    "    filtered_df = df_temp[['name','main_category']]\n",
    "    del df_temp\n",
    "    df = pd.concat([df, filtered_df], ignore_index=True)\n",
    "\n",
    "df"
   ]
  },
  {
   "cell_type": "code",
   "execution_count": null,
   "id": "2c54c094",
   "metadata": {},
   "outputs": [],
   "source": [
    "# Save to a CSV file\n",
    "df.to_csv(\"./ocr/machine_learning/data.csv\", index=False)"
   ]
  },
  {
   "cell_type": "code",
   "execution_count": 5,
   "id": "582eb371",
   "metadata": {},
   "outputs": [],
   "source": [
    "# Apply label encoding to the 'main_category' column\n",
    "le = LabelEncoder()\n",
    "df['main_category'] = le.fit_transform(df['main_category'])\n",
    "\n",
    "# Save categories as word in a list\n",
    "categories = le.classes_.tolist()"
   ]
  }
 ],
 "metadata": {
  "kernelspec": {
   "display_name": "bitirme",
   "language": "python",
   "name": "python3"
  },
  "language_info": {
   "codemirror_mode": {
    "name": "ipython",
    "version": 3
   },
   "file_extension": ".py",
   "mimetype": "text/x-python",
   "name": "python",
   "nbconvert_exporter": "python",
   "pygments_lexer": "ipython3",
   "version": "3.12.3"
  }
 },
 "nbformat": 4,
 "nbformat_minor": 5
}
