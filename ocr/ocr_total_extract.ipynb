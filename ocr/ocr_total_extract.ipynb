{
 "cells": [
  {
   "cell_type": "code",
   "execution_count": 1,
   "metadata": {},
   "outputs": [
    {
     "name": "stderr",
     "output_type": "stream",
     "text": [
      "/home/yegekucuk/venv/bitirme/lib/python3.12/site-packages/paddle/base/framework.py:688: UserWarning: You are using GPU version Paddle, but your CUDA device is not set properly. CPU device will be used by default.\n",
      "  warnings.warn(\n"
     ]
    },
    {
     "name": "stdout",
     "output_type": "stream",
     "text": [
      "[2025/03/13 22:25:17] ppocr DEBUG: Namespace(help='==SUPPRESS==', use_gpu=False, use_xpu=False, use_npu=False, use_mlu=False, use_gcu=False, ir_optim=True, use_tensorrt=False, min_subgraph_size=15, precision='fp32', gpu_mem=500, gpu_id=0, image_dir=None, page_num=0, det_algorithm='DB', det_model_dir='/home/yegekucuk/.paddleocr/whl/det/en/en_PP-OCRv3_det_infer', det_limit_side_len=960, det_limit_type='max', det_box_type='quad', det_db_thresh=0.3, det_db_box_thresh=0.6, det_db_unclip_ratio=1.5, max_batch_size=10, use_dilation=False, det_db_score_mode='fast', det_east_score_thresh=0.8, det_east_cover_thresh=0.1, det_east_nms_thresh=0.2, det_sast_score_thresh=0.5, det_sast_nms_thresh=0.2, det_pse_thresh=0, det_pse_box_thresh=0.85, det_pse_min_area=16, det_pse_scale=1, scales=[8, 16, 32], alpha=1.0, beta=1.0, fourier_degree=5, rec_algorithm='SVTR_LCNet', rec_model_dir='/home/yegekucuk/.paddleocr/whl/rec/en/en_PP-OCRv4_rec_infer', rec_image_inverse=True, rec_image_shape='3, 48, 320', rec_batch_num=6, max_text_length=25, rec_char_dict_path='/home/yegekucuk/venv/bitirme/lib/python3.12/site-packages/paddleocr/ppocr/utils/en_dict.txt', use_space_char=True, vis_font_path='./doc/fonts/simfang.ttf', drop_score=0.5, e2e_algorithm='PGNet', e2e_model_dir=None, e2e_limit_side_len=768, e2e_limit_type='max', e2e_pgnet_score_thresh=0.5, e2e_char_dict_path='./ppocr/utils/ic15_dict.txt', e2e_pgnet_valid_set='totaltext', e2e_pgnet_mode='fast', use_angle_cls=True, cls_model_dir='/home/yegekucuk/.paddleocr/whl/cls/ch_ppocr_mobile_v2.0_cls_infer', cls_image_shape='3, 48, 192', label_list=['0', '180'], cls_batch_num=6, cls_thresh=0.9, enable_mkldnn=False, cpu_threads=10, use_pdserving=False, warmup=False, sr_model_dir=None, sr_image_shape='3, 32, 128', sr_batch_num=1, draw_img_save_dir='./inference_results', save_crop_res=False, crop_res_save_dir='./output', use_mp=False, total_process_num=1, process_id=0, benchmark=False, save_log_path='./log_output/', show_log=True, use_onnx=False, onnx_providers=False, onnx_sess_options=False, return_word_box=False, output='./output', table_max_len=488, table_algorithm='TableAttn', table_model_dir=None, merge_no_span_structure=True, table_char_dict_path=None, formula_algorithm='LaTeXOCR', formula_model_dir=None, formula_char_dict_path=None, formula_batch_num=1, layout_model_dir=None, layout_dict_path=None, layout_score_threshold=0.5, layout_nms_threshold=0.5, kie_algorithm='LayoutXLM', ser_model_dir=None, re_model_dir=None, use_visual_backbone=True, ser_dict_path='../train_data/XFUND/class_list_xfun.txt', ocr_order_method=None, mode='structure', image_orientation=False, layout=True, table=True, formula=False, ocr=True, recovery=False, recovery_to_markdown=False, use_pdf2docx_api=False, invert=False, binarize=False, alphacolor=(255, 255, 255), lang='en', det=True, rec=True, type='ocr', savefile=False, ocr_version='PP-OCRv4', structure_version='PP-StructureV2')\n"
     ]
    }
   ],
   "source": [
    "import invoiceocr"
   ]
  },
  {
   "cell_type": "code",
   "execution_count": 2,
   "metadata": {},
   "outputs": [
    {
     "name": "stdout",
     "output_type": "stream",
     "text": [
      "[2025/03/13 22:25:23] ppocr DEBUG: dt_boxes num : 36, elapsed : 0.4138936996459961\n",
      "[2025/03/13 22:25:23] ppocr DEBUG: cls num  : 36, elapsed : 0.10205388069152832\n",
      "[2025/03/13 22:25:27] ppocr DEBUG: rec_res num  : 36, elapsed : 4.402079343795776\n",
      "[2025/03/13 22:25:28] ppocr DEBUG: dt_boxes num : 58, elapsed : 0.3654615879058838\n",
      "[2025/03/13 22:25:28] ppocr DEBUG: cls num  : 58, elapsed : 0.12815523147583008\n",
      "[2025/03/13 22:25:31] ppocr DEBUG: rec_res num  : 58, elapsed : 3.392528772354126\n",
      "[2025/03/13 22:25:31] ppocr DEBUG: dt_boxes num : 51, elapsed : 0.14760684967041016\n",
      "[2025/03/13 22:25:32] ppocr DEBUG: cls num  : 51, elapsed : 0.08586931228637695\n",
      "[2025/03/13 22:25:34] ppocr DEBUG: rec_res num  : 51, elapsed : 2.0248098373413086\n",
      "[2025/03/13 22:25:34] ppocr DEBUG: dt_boxes num : 120, elapsed : 0.22603225708007812\n",
      "[2025/03/13 22:25:34] ppocr DEBUG: cls num  : 120, elapsed : 0.12722492218017578\n",
      "[2025/03/13 22:25:38] ppocr DEBUG: rec_res num  : 120, elapsed : 3.6900506019592285\n",
      "[2025/03/13 22:25:38] ppocr DEBUG: dt_boxes num : 39, elapsed : 0.09736299514770508\n",
      "[2025/03/13 22:25:38] ppocr DEBUG: cls num  : 39, elapsed : 0.05782055854797363\n",
      "[2025/03/13 22:25:39] ppocr DEBUG: rec_res num  : 39, elapsed : 1.582669734954834\n",
      "[2025/03/13 22:25:40] ppocr DEBUG: dt_boxes num : 43, elapsed : 0.1520981788635254\n",
      "[2025/03/13 22:25:40] ppocr DEBUG: cls num  : 43, elapsed : 0.05820178985595703\n",
      "[2025/03/13 22:25:43] ppocr DEBUG: rec_res num  : 43, elapsed : 3.5913219451904297\n",
      "[2025/03/13 22:25:44] ppocr DEBUG: dt_boxes num : 38, elapsed : 0.18923187255859375\n",
      "[2025/03/13 22:25:44] ppocr DEBUG: cls num  : 38, elapsed : 0.0556337833404541\n",
      "[2025/03/13 22:25:45] ppocr DEBUG: rec_res num  : 38, elapsed : 1.558568000793457\n",
      "[2025/03/13 22:25:45] ppocr DEBUG: dt_boxes num : 54, elapsed : 0.10575294494628906\n",
      "[2025/03/13 22:25:45] ppocr DEBUG: cls num  : 54, elapsed : 0.05944991111755371\n",
      "[2025/03/13 22:25:48] ppocr DEBUG: rec_res num  : 54, elapsed : 2.155667781829834\n",
      "[2025/03/13 22:25:48] ppocr DEBUG: dt_boxes num : 56, elapsed : 0.1301746368408203\n",
      "[2025/03/13 22:25:48] ppocr DEBUG: cls num  : 56, elapsed : 0.07747149467468262\n",
      "[2025/03/13 22:25:50] ppocr DEBUG: rec_res num  : 56, elapsed : 2.0140955448150635\n",
      "[2025/03/13 22:25:50] ppocr DEBUG: dt_boxes num : 96, elapsed : 0.15816283226013184\n",
      "[2025/03/13 22:25:50] ppocr DEBUG: cls num  : 96, elapsed : 0.10404109954833984\n",
      "[2025/03/13 22:25:53] ppocr DEBUG: rec_res num  : 96, elapsed : 2.9715659618377686\n",
      "[2025/03/13 22:25:53] ppocr DEBUG: dt_boxes num : 82, elapsed : 0.1864790916442871\n",
      "[2025/03/13 22:25:53] ppocr DEBUG: cls num  : 82, elapsed : 0.10325932502746582\n",
      "[2025/03/13 22:25:56] ppocr DEBUG: rec_res num  : 82, elapsed : 2.5184099674224854\n",
      "[2025/03/13 22:25:56] ppocr DEBUG: dt_boxes num : 48, elapsed : 0.13637685775756836\n",
      "[2025/03/13 22:25:56] ppocr DEBUG: cls num  : 48, elapsed : 0.05253171920776367\n",
      "[2025/03/13 22:25:58] ppocr DEBUG: rec_res num  : 48, elapsed : 1.7331407070159912\n",
      "[2025/03/13 22:25:58] ppocr DEBUG: dt_boxes num : 45, elapsed : 0.18425941467285156\n",
      "[2025/03/13 22:25:58] ppocr DEBUG: cls num  : 45, elapsed : 0.06301307678222656\n",
      "[2025/03/13 22:26:00] ppocr DEBUG: rec_res num  : 45, elapsed : 1.6974608898162842\n",
      "[2025/03/13 22:26:00] ppocr DEBUG: dt_boxes num : 39, elapsed : 0.1534430980682373\n",
      "[2025/03/13 22:26:00] ppocr DEBUG: cls num  : 39, elapsed : 0.04832887649536133\n",
      "[2025/03/13 22:26:01] ppocr DEBUG: rec_res num  : 39, elapsed : 1.535526990890503\n",
      "[2025/03/13 22:26:02] ppocr DEBUG: dt_boxes num : 65, elapsed : 0.32251429557800293\n",
      "[2025/03/13 22:26:02] ppocr DEBUG: cls num  : 65, elapsed : 0.08150410652160645\n",
      "[2025/03/13 22:26:04] ppocr DEBUG: rec_res num  : 65, elapsed : 2.3569304943084717\n",
      "[2025/03/13 22:26:05] ppocr DEBUG: dt_boxes num : 63, elapsed : 0.18263697624206543\n",
      "[2025/03/13 22:26:05] ppocr DEBUG: cls num  : 63, elapsed : 0.08267736434936523\n",
      "[2025/03/13 22:26:07] ppocr DEBUG: rec_res num  : 63, elapsed : 2.1868128776550293\n",
      "[2025/03/13 22:26:07] ppocr DEBUG: dt_boxes num : 54, elapsed : 0.10518288612365723\n",
      "[2025/03/13 22:26:07] ppocr DEBUG: cls num  : 54, elapsed : 0.058441162109375\n",
      "[2025/03/13 22:26:09] ppocr DEBUG: rec_res num  : 54, elapsed : 2.139634847640991\n",
      "[2025/03/13 22:26:09] ppocr DEBUG: dt_boxes num : 81, elapsed : 0.1861286163330078\n",
      "[2025/03/13 22:26:10] ppocr DEBUG: cls num  : 81, elapsed : 0.1026923656463623\n",
      "[2025/03/13 22:26:12] ppocr DEBUG: rec_res num  : 81, elapsed : 2.659115791320801\n",
      "[2025/03/13 22:26:12] ppocr DEBUG: dt_boxes num : 87, elapsed : 0.1368272304534912\n",
      "[2025/03/13 22:26:12] ppocr DEBUG: cls num  : 87, elapsed : 0.09936332702636719\n",
      "[2025/03/13 22:26:15] ppocr DEBUG: rec_res num  : 87, elapsed : 3.0133345127105713\n",
      "[2025/03/13 22:26:16] ppocr DEBUG: dt_boxes num : 37, elapsed : 0.1328716278076172\n",
      "[2025/03/13 22:26:16] ppocr DEBUG: cls num  : 37, elapsed : 0.05783653259277344\n",
      "[2025/03/13 22:26:17] ppocr DEBUG: rec_res num  : 37, elapsed : 1.2308974266052246\n",
      "[5.11, 40.0, 49.9, 144.02, 7.43, 28.28, 175.0, 23.19, 85.61, 1.37, 338.16, None, 18.75, None, 26.6, 12.58, 23.19, 38.68, 86.35, 3.61]\n"
     ]
    }
   ],
   "source": [
    "# Extract \"Total\" data from each image\n",
    "\n",
    "# Number of images\n",
    "NUM_IMAGES = 20\n",
    "totals = []\n",
    "\n",
    "for i in range(NUM_IMAGES):\n",
    "    # Image path\n",
    "    image_path = f\"./kaggle/images/{i}.jpg\"\n",
    "    totals.append(invoiceocr.extract_total(invoiceocr.read(image_path)))\n",
    "print(totals)"
   ]
  },
  {
   "cell_type": "code",
   "execution_count": 3,
   "metadata": {},
   "outputs": [
    {
     "name": "stdout",
     "output_type": "stream",
     "text": [
      "Successful: 18, Failure: 2\n"
     ]
    }
   ],
   "source": [
    "# Check how many of them are successful\n",
    "\n",
    "failure = totals.count(None)\n",
    "successful = len(totals) - failure\n",
    "\n",
    "print(f\"Successful: {successful}, Failure: {failure}\")"
   ]
  }
 ],
 "metadata": {
  "kernelspec": {
   "display_name": "bitirme",
   "language": "python",
   "name": "python3"
  },
  "language_info": {
   "codemirror_mode": {
    "name": "ipython",
    "version": 3
   },
   "file_extension": ".py",
   "mimetype": "text/x-python",
   "name": "python",
   "nbconvert_exporter": "python",
   "pygments_lexer": "ipython3",
   "version": "3.12.3"
  }
 },
 "nbformat": 4,
 "nbformat_minor": 2
}
