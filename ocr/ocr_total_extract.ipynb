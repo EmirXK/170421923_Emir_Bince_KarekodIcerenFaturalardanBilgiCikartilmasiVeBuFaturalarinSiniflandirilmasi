{
 "cells": [
  {
   "cell_type": "code",
   "execution_count": 1,
   "metadata": {},
   "outputs": [
    {
     "name": "stderr",
     "output_type": "stream",
     "text": [
      "/home/yegekucuk/venv/bitirme/lib/python3.12/site-packages/paddle/base/framework.py:688: UserWarning: You are using GPU version Paddle, but your CUDA device is not set properly. CPU device will be used by default.\n",
      "  warnings.warn(\n",
      "/home/yegekucuk/venv/bitirme/lib/python3.12/site-packages/tqdm/auto.py:21: TqdmWarning: IProgress not found. Please update jupyter and ipywidgets. See https://ipywidgets.readthedocs.io/en/stable/user_install.html\n",
      "  from .autonotebook import tqdm as notebook_tqdm\n"
     ]
    },
    {
     "name": "stdout",
     "output_type": "stream",
     "text": [
      "[2025/03/22 23:25:04] ppocr DEBUG: Namespace(help='==SUPPRESS==', use_gpu=False, use_xpu=False, use_npu=False, use_mlu=False, use_gcu=False, ir_optim=True, use_tensorrt=False, min_subgraph_size=15, precision='fp32', gpu_mem=500, gpu_id=0, image_dir=None, page_num=0, det_algorithm='DB', det_model_dir='/home/yegekucuk/.paddleocr/whl/det/en/en_PP-OCRv3_det_infer', det_limit_side_len=960, det_limit_type='max', det_box_type='quad', det_db_thresh=0.3, det_db_box_thresh=0.6, det_db_unclip_ratio=1.5, max_batch_size=10, use_dilation=False, det_db_score_mode='fast', det_east_score_thresh=0.8, det_east_cover_thresh=0.1, det_east_nms_thresh=0.2, det_sast_score_thresh=0.5, det_sast_nms_thresh=0.2, det_pse_thresh=0, det_pse_box_thresh=0.85, det_pse_min_area=16, det_pse_scale=1, scales=[8, 16, 32], alpha=1.0, beta=1.0, fourier_degree=5, rec_algorithm='SVTR_LCNet', rec_model_dir='/home/yegekucuk/.paddleocr/whl/rec/en/en_PP-OCRv4_rec_infer', rec_image_inverse=True, rec_image_shape='3, 48, 320', rec_batch_num=6, max_text_length=25, rec_char_dict_path='/home/yegekucuk/venv/bitirme/lib/python3.12/site-packages/paddleocr/ppocr/utils/en_dict.txt', use_space_char=True, vis_font_path='./doc/fonts/simfang.ttf', drop_score=0.5, e2e_algorithm='PGNet', e2e_model_dir=None, e2e_limit_side_len=768, e2e_limit_type='max', e2e_pgnet_score_thresh=0.5, e2e_char_dict_path='./ppocr/utils/ic15_dict.txt', e2e_pgnet_valid_set='totaltext', e2e_pgnet_mode='fast', use_angle_cls=True, cls_model_dir='/home/yegekucuk/.paddleocr/whl/cls/ch_ppocr_mobile_v2.0_cls_infer', cls_image_shape='3, 48, 192', label_list=['0', '180'], cls_batch_num=6, cls_thresh=0.9, enable_mkldnn=False, cpu_threads=10, use_pdserving=False, warmup=False, sr_model_dir=None, sr_image_shape='3, 32, 128', sr_batch_num=1, draw_img_save_dir='./inference_results', save_crop_res=False, crop_res_save_dir='./output', use_mp=False, total_process_num=1, process_id=0, benchmark=False, save_log_path='./log_output/', show_log=True, use_onnx=False, onnx_providers=False, onnx_sess_options=False, return_word_box=False, output='./output', table_max_len=488, table_algorithm='TableAttn', table_model_dir=None, merge_no_span_structure=True, table_char_dict_path=None, formula_algorithm='LaTeXOCR', formula_model_dir=None, formula_char_dict_path=None, formula_batch_num=1, layout_model_dir=None, layout_dict_path=None, layout_score_threshold=0.5, layout_nms_threshold=0.5, kie_algorithm='LayoutXLM', ser_model_dir=None, re_model_dir=None, use_visual_backbone=True, ser_dict_path='../train_data/XFUND/class_list_xfun.txt', ocr_order_method=None, mode='structure', image_orientation=False, layout=True, table=True, formula=False, ocr=True, recovery=False, recovery_to_markdown=False, use_pdf2docx_api=False, invert=False, binarize=False, alphacolor=(255, 255, 255), lang='en', det=True, rec=True, type='ocr', savefile=False, ocr_version='PP-OCRv4', structure_version='PP-StructureV2')\n"
     ]
    }
   ],
   "source": [
    "import invoiceocr"
   ]
  },
  {
   "cell_type": "code",
   "execution_count": 2,
   "metadata": {},
   "outputs": [
    {
     "name": "stdout",
     "output_type": "stream",
     "text": [
      "[2025/03/22 23:25:05] ppocr DEBUG: dt_boxes num : 36, elapsed : 0.20733022689819336\n",
      "[2025/03/22 23:25:05] ppocr DEBUG: cls num  : 36, elapsed : 0.049983978271484375\n",
      "[2025/03/22 23:25:07] ppocr DEBUG: rec_res num  : 36, elapsed : 2.435206651687622\n",
      "[2025/03/22 23:25:07] ppocr DEBUG: dt_boxes num : 58, elapsed : 0.20838546752929688\n",
      "[2025/03/22 23:25:08] ppocr DEBUG: cls num  : 58, elapsed : 0.06779742240905762\n",
      "[2025/03/22 23:25:10] ppocr DEBUG: rec_res num  : 58, elapsed : 2.2630317211151123\n",
      "[2025/03/22 23:25:10] ppocr DEBUG: dt_boxes num : 51, elapsed : 0.1114342212677002\n",
      "[2025/03/22 23:25:10] ppocr DEBUG: cls num  : 51, elapsed : 0.06315445899963379\n",
      "[2025/03/22 23:25:12] ppocr DEBUG: rec_res num  : 51, elapsed : 1.9947452545166016\n",
      "[2025/03/22 23:25:12] ppocr DEBUG: dt_boxes num : 120, elapsed : 0.23693323135375977\n",
      "[2025/03/22 23:25:12] ppocr DEBUG: cls num  : 120, elapsed : 0.12458419799804688\n",
      "[2025/03/22 23:25:16] ppocr DEBUG: rec_res num  : 120, elapsed : 3.7520196437835693\n",
      "[2025/03/22 23:25:16] ppocr DEBUG: dt_boxes num : 39, elapsed : 0.0955197811126709\n",
      "[2025/03/22 23:25:16] ppocr DEBUG: cls num  : 39, elapsed : 0.05607414245605469\n",
      "[2025/03/22 23:25:18] ppocr DEBUG: rec_res num  : 39, elapsed : 1.617037057876587\n",
      "[2025/03/22 23:25:18] ppocr DEBUG: dt_boxes num : 43, elapsed : 0.1404247283935547\n",
      "[2025/03/22 23:25:18] ppocr DEBUG: cls num  : 43, elapsed : 0.057969093322753906\n",
      "[2025/03/22 23:25:22] ppocr DEBUG: rec_res num  : 43, elapsed : 3.6302483081817627\n",
      "[2025/03/22 23:25:22] ppocr DEBUG: dt_boxes num : 38, elapsed : 0.18423128128051758\n",
      "[2025/03/22 23:25:22] ppocr DEBUG: cls num  : 38, elapsed : 0.05352902412414551\n",
      "[2025/03/22 23:25:24] ppocr DEBUG: rec_res num  : 38, elapsed : 1.5643970966339111\n",
      "[2025/03/22 23:25:24] ppocr DEBUG: dt_boxes num : 54, elapsed : 0.10516023635864258\n",
      "[2025/03/22 23:25:24] ppocr DEBUG: cls num  : 54, elapsed : 0.057507991790771484\n",
      "[2025/03/22 23:25:26] ppocr DEBUG: rec_res num  : 54, elapsed : 2.1591689586639404\n",
      "[2025/03/22 23:25:26] ppocr DEBUG: dt_boxes num : 56, elapsed : 0.12485003471374512\n",
      "[2025/03/22 23:25:26] ppocr DEBUG: cls num  : 56, elapsed : 0.07346701622009277\n",
      "[2025/03/22 23:25:28] ppocr DEBUG: rec_res num  : 56, elapsed : 2.013491153717041\n",
      "[2025/03/22 23:25:28] ppocr DEBUG: dt_boxes num : 96, elapsed : 0.15523362159729004\n",
      "[2025/03/22 23:25:29] ppocr DEBUG: cls num  : 96, elapsed : 0.10248088836669922\n",
      "[2025/03/22 23:25:32] ppocr DEBUG: rec_res num  : 96, elapsed : 3.0048370361328125\n",
      "[2025/03/22 23:25:32] ppocr DEBUG: dt_boxes num : 82, elapsed : 0.18461155891418457\n",
      "[2025/03/22 23:25:32] ppocr DEBUG: cls num  : 82, elapsed : 0.10177230834960938\n",
      "[2025/03/22 23:25:34] ppocr DEBUG: rec_res num  : 82, elapsed : 2.540160655975342\n",
      "[2025/03/22 23:25:35] ppocr DEBUG: dt_boxes num : 48, elapsed : 0.13663363456726074\n",
      "[2025/03/22 23:25:35] ppocr DEBUG: cls num  : 48, elapsed : 0.05287814140319824\n",
      "[2025/03/22 23:25:36] ppocr DEBUG: rec_res num  : 48, elapsed : 1.7408201694488525\n",
      "[2025/03/22 23:25:36] ppocr DEBUG: dt_boxes num : 45, elapsed : 0.17649054527282715\n",
      "[2025/03/22 23:25:37] ppocr DEBUG: cls num  : 45, elapsed : 0.06289792060852051\n",
      "[2025/03/22 23:25:38] ppocr DEBUG: rec_res num  : 45, elapsed : 1.7370188236236572\n",
      "[2025/03/22 23:25:38] ppocr DEBUG: dt_boxes num : 39, elapsed : 0.16199994087219238\n",
      "[2025/03/22 23:25:39] ppocr DEBUG: cls num  : 39, elapsed : 0.04573369026184082\n",
      "[2025/03/22 23:25:40] ppocr DEBUG: rec_res num  : 39, elapsed : 1.556933879852295\n",
      "[2025/03/22 23:25:41] ppocr DEBUG: dt_boxes num : 65, elapsed : 0.32447290420532227\n",
      "[2025/03/22 23:25:41] ppocr DEBUG: cls num  : 65, elapsed : 0.0807187557220459\n",
      "[2025/03/22 23:25:43] ppocr DEBUG: rec_res num  : 65, elapsed : 2.350313901901245\n",
      "[2025/03/22 23:25:43] ppocr DEBUG: dt_boxes num : 63, elapsed : 0.18117117881774902\n",
      "[2025/03/22 23:25:43] ppocr DEBUG: cls num  : 63, elapsed : 0.08113431930541992\n",
      "[2025/03/22 23:25:45] ppocr DEBUG: rec_res num  : 63, elapsed : 2.1694304943084717\n",
      "[2025/03/22 23:25:46] ppocr DEBUG: dt_boxes num : 84, elapsed : 0.09087419509887695\n",
      "[2025/03/22 23:25:46] ppocr DEBUG: cls num  : 84, elapsed : 0.08786225318908691\n",
      "[2025/03/22 23:25:49] ppocr DEBUG: rec_res num  : 84, elapsed : 3.0963294506073\n",
      "[2025/03/22 23:25:49] ppocr DEBUG: dt_boxes num : 81, elapsed : 0.18418431282043457\n",
      "[2025/03/22 23:25:49] ppocr DEBUG: cls num  : 81, elapsed : 0.10137295722961426\n",
      "[2025/03/22 23:25:52] ppocr DEBUG: rec_res num  : 81, elapsed : 2.636763095855713\n",
      "[2025/03/22 23:25:52] ppocr DEBUG: dt_boxes num : 87, elapsed : 0.14975357055664062\n",
      "[2025/03/22 23:25:52] ppocr DEBUG: cls num  : 87, elapsed : 0.0975489616394043\n",
      "[2025/03/22 23:25:55] ppocr DEBUG: rec_res num  : 87, elapsed : 2.951502799987793\n",
      "[2025/03/22 23:25:55] ppocr DEBUG: dt_boxes num : 37, elapsed : 0.12691807746887207\n",
      "[2025/03/22 23:25:55] ppocr DEBUG: cls num  : 37, elapsed : 0.05336475372314453\n",
      "[2025/03/22 23:25:56] ppocr DEBUG: rec_res num  : 37, elapsed : 1.1822714805603027\n",
      "[5.11, 40.0, 49.9, 144.02, 7.43, 28.28, 175.0, 23.19, 85.61, 1.37, 338.16, None, 18.75, None, 7.0, 12.58, 8.93, 38.68, 86.35, 3.61]\n"
     ]
    }
   ],
   "source": [
    "# Extract \"Total\" data from each image\n",
    "\n",
    "# Number of images\n",
    "NUM_IMAGES = 20\n",
    "totals = []\n",
    "\n",
    "for i in range(NUM_IMAGES):\n",
    "    # Image path\n",
    "    image_path = f\"./kaggle/images/{i}.jpg\"\n",
    "    totals.append(invoiceocr.extract_total(invoiceocr.read(image_path)))\n",
    "print(totals)"
   ]
  },
  {
   "cell_type": "code",
   "execution_count": 3,
   "metadata": {},
   "outputs": [
    {
     "name": "stdout",
     "output_type": "stream",
     "text": [
      "Successful: 18, Failure: 2\n"
     ]
    }
   ],
   "source": [
    "# Check how many of them are successful\n",
    "\n",
    "failure = totals.count(None)\n",
    "successful = len(totals) - failure\n",
    "\n",
    "print(f\"Successful: {successful}, Failure: {failure}\")"
   ]
  },
  {
   "cell_type": "markdown",
   "metadata": {},
   "source": []
  }
 ],
 "metadata": {
  "kernelspec": {
   "display_name": "bitirme",
   "language": "python",
   "name": "python3"
  },
  "language_info": {
   "codemirror_mode": {
    "name": "ipython",
    "version": 3
   },
   "file_extension": ".py",
   "mimetype": "text/x-python",
   "name": "python",
   "nbconvert_exporter": "python",
   "pygments_lexer": "ipython3",
   "version": "3.12.3"
  }
 },
 "nbformat": 4,
 "nbformat_minor": 2
}
