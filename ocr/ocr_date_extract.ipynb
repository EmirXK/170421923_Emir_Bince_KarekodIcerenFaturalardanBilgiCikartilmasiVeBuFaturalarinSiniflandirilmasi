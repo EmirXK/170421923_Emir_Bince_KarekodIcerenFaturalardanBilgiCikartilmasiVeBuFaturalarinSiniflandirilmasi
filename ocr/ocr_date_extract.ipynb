{
 "cells": [
  {
   "cell_type": "code",
   "execution_count": 1,
   "metadata": {},
   "outputs": [],
   "source": [
    "import pytesseract\n",
    "import json\n",
    "import cv2\n",
    "import matplotlib.pyplot as plt\n",
    "import re\n",
    "import numpy as np\n",
    "from PIL import Image"
   ]
  },
  {
   "cell_type": "code",
   "execution_count": 2,
   "metadata": {},
   "outputs": [
    {
     "name": "stdout",
     "output_type": "stream",
     "text": [
      "[None, '06-28-2014', '10/18/20', None, '12/08/15', '9/15/2020', '26/01/2016', '11/13/17', None, '09/08/14', None, None, None, None, '05/04/17', '07/22/16', '05.11.2024', '01/18/17', '10/31/21', None]\n"
     ]
    }
   ],
   "source": [
    "# Extract \"Date\" data from each image\n",
    "\n",
    "# Number of images\n",
    "NUM_IMAGES = 20\n",
    "dates = []\n",
    "\n",
    "for i in range(NUM_IMAGES):\n",
    "    # Image path\n",
    "    image_path = f\"./kaggle/images/{i}.jpg\"\n",
    "\n",
    "    # Open the image and apply image preprocessing\n",
    "    image = cv2.imread(image_path)\n",
    "    image = cv2.cvtColor(image, cv2.COLOR_BGR2GRAY)\n",
    "\n",
    "    # Apply OCR\n",
    "    extracted_text = pytesseract.image_to_string(image, lang=\"eng\")\n",
    "    \n",
    "    # Date Matching Regex (ex: 26/01/2018, 01-02-2024)\n",
    "    date_match = re.search(r\"(\\d{1,2}[./\\-]\\d{1,2}[./\\-]\\d{2,4})\", extracted_text)\n",
    "    date = date_match.group(0) if date_match else None\n",
    "\n",
    "    # Add dates to the list\n",
    "    dates.append(date)\n",
    "\n",
    "print(dates)"
   ]
  },
  {
   "cell_type": "code",
   "execution_count": 3,
   "metadata": {},
   "outputs": [
    {
     "name": "stdout",
     "output_type": "stream",
     "text": [
      "Successful: 12, Failure: 8\n"
     ]
    }
   ],
   "source": [
    "# Check how many of them are successful\n",
    "\n",
    "failure = dates.count(None)\n",
    "successful = len(dates) - failure\n",
    "\n",
    "print(f\"Successful: {successful}, Failure: {failure}\")"
   ]
  },
  {
   "cell_type": "code",
   "execution_count": 4,
   "metadata": {},
   "outputs": [
    {
     "name": "stderr",
     "output_type": "stream",
     "text": [
      "/home/yegekucuk/venv/bitirme/lib/python3.12/site-packages/paddle/base/framework.py:688: UserWarning: You are using GPU version Paddle, but your CUDA device is not set properly. CPU device will be used by default.\n",
      "  warnings.warn(\n",
      "/home/yegekucuk/venv/bitirme/lib/python3.12/site-packages/tqdm/auto.py:21: TqdmWarning: IProgress not found. Please update jupyter and ipywidgets. See https://ipywidgets.readthedocs.io/en/stable/user_install.html\n",
      "  from .autonotebook import tqdm as notebook_tqdm\n"
     ]
    },
    {
     "name": "stdout",
     "output_type": "stream",
     "text": [
      "[2025/03/22 23:39:48] ppocr DEBUG: Namespace(help='==SUPPRESS==', use_gpu=False, use_xpu=False, use_npu=False, use_mlu=False, use_gcu=False, ir_optim=True, use_tensorrt=False, min_subgraph_size=15, precision='fp32', gpu_mem=500, gpu_id=0, image_dir=None, page_num=0, det_algorithm='DB', det_model_dir='/home/yegekucuk/.paddleocr/whl/det/en/en_PP-OCRv3_det_infer', det_limit_side_len=960, det_limit_type='max', det_box_type='quad', det_db_thresh=0.3, det_db_box_thresh=0.6, det_db_unclip_ratio=1.5, max_batch_size=10, use_dilation=False, det_db_score_mode='fast', det_east_score_thresh=0.8, det_east_cover_thresh=0.1, det_east_nms_thresh=0.2, det_sast_score_thresh=0.5, det_sast_nms_thresh=0.2, det_pse_thresh=0, det_pse_box_thresh=0.85, det_pse_min_area=16, det_pse_scale=1, scales=[8, 16, 32], alpha=1.0, beta=1.0, fourier_degree=5, rec_algorithm='SVTR_LCNet', rec_model_dir='/home/yegekucuk/.paddleocr/whl/rec/en/en_PP-OCRv4_rec_infer', rec_image_inverse=True, rec_image_shape='3, 48, 320', rec_batch_num=6, max_text_length=25, rec_char_dict_path='/home/yegekucuk/venv/bitirme/lib/python3.12/site-packages/paddleocr/ppocr/utils/en_dict.txt', use_space_char=True, vis_font_path='./doc/fonts/simfang.ttf', drop_score=0.5, e2e_algorithm='PGNet', e2e_model_dir=None, e2e_limit_side_len=768, e2e_limit_type='max', e2e_pgnet_score_thresh=0.5, e2e_char_dict_path='./ppocr/utils/ic15_dict.txt', e2e_pgnet_valid_set='totaltext', e2e_pgnet_mode='fast', use_angle_cls=True, cls_model_dir='/home/yegekucuk/.paddleocr/whl/cls/ch_ppocr_mobile_v2.0_cls_infer', cls_image_shape='3, 48, 192', label_list=['0', '180'], cls_batch_num=6, cls_thresh=0.9, enable_mkldnn=False, cpu_threads=10, use_pdserving=False, warmup=False, sr_model_dir=None, sr_image_shape='3, 32, 128', sr_batch_num=1, draw_img_save_dir='./inference_results', save_crop_res=False, crop_res_save_dir='./output', use_mp=False, total_process_num=1, process_id=0, benchmark=False, save_log_path='./log_output/', show_log=True, use_onnx=False, onnx_providers=False, onnx_sess_options=False, return_word_box=False, output='./output', table_max_len=488, table_algorithm='TableAttn', table_model_dir=None, merge_no_span_structure=True, table_char_dict_path=None, formula_algorithm='LaTeXOCR', formula_model_dir=None, formula_char_dict_path=None, formula_batch_num=1, layout_model_dir=None, layout_dict_path=None, layout_score_threshold=0.5, layout_nms_threshold=0.5, kie_algorithm='LayoutXLM', ser_model_dir=None, re_model_dir=None, use_visual_backbone=True, ser_dict_path='../train_data/XFUND/class_list_xfun.txt', ocr_order_method=None, mode='structure', image_orientation=False, layout=True, table=True, formula=False, ocr=True, recovery=False, recovery_to_markdown=False, use_pdf2docx_api=False, invert=False, binarize=False, alphacolor=(255, 255, 255), lang='en', det=True, rec=True, type='ocr', savefile=False, ocr_version='PP-OCRv4', structure_version='PP-StructureV2')\n",
      "[2025/03/22 23:39:49] ppocr DEBUG: dt_boxes num : 36, elapsed : 0.19702744483947754\n",
      "[2025/03/22 23:39:49] ppocr DEBUG: cls num  : 36, elapsed : 0.04609942436218262\n",
      "[2025/03/22 23:39:51] ppocr DEBUG: rec_res num  : 36, elapsed : 2.403562068939209\n",
      "[2025/03/22 23:39:52] ppocr DEBUG: dt_boxes num : 58, elapsed : 0.20349502563476562\n",
      "[2025/03/22 23:39:52] ppocr DEBUG: cls num  : 58, elapsed : 0.06821465492248535\n",
      "[2025/03/22 23:39:54] ppocr DEBUG: rec_res num  : 58, elapsed : 2.2331228256225586\n",
      "[2025/03/22 23:39:54] ppocr DEBUG: dt_boxes num : 51, elapsed : 0.10579824447631836\n",
      "[2025/03/22 23:39:54] ppocr DEBUG: cls num  : 51, elapsed : 0.06374716758728027\n",
      "[2025/03/22 23:39:56] ppocr DEBUG: rec_res num  : 51, elapsed : 2.0368971824645996\n",
      "[2025/03/22 23:39:56] ppocr DEBUG: dt_boxes num : 120, elapsed : 0.22846770286560059\n",
      "[2025/03/22 23:39:56] ppocr DEBUG: cls num  : 120, elapsed : 0.1203317642211914\n",
      "[2025/03/22 23:40:00] ppocr DEBUG: rec_res num  : 120, elapsed : 3.9199843406677246\n",
      "[2025/03/22 23:40:01] ppocr DEBUG: dt_boxes num : 39, elapsed : 0.11619710922241211\n",
      "[2025/03/22 23:40:01] ppocr DEBUG: cls num  : 39, elapsed : 0.061313629150390625\n",
      "[2025/03/22 23:40:02] ppocr DEBUG: rec_res num  : 39, elapsed : 1.6664705276489258\n",
      "[2025/03/22 23:40:03] ppocr DEBUG: dt_boxes num : 43, elapsed : 0.15320420265197754\n",
      "[2025/03/22 23:40:03] ppocr DEBUG: cls num  : 43, elapsed : 0.06682014465332031\n",
      "[2025/03/22 23:40:06] ppocr DEBUG: rec_res num  : 43, elapsed : 3.7010982036590576\n",
      "[2025/03/22 23:40:07] ppocr DEBUG: dt_boxes num : 38, elapsed : 0.17302441596984863\n",
      "[2025/03/22 23:40:07] ppocr DEBUG: cls num  : 38, elapsed : 0.0542140007019043\n",
      "[2025/03/22 23:40:08] ppocr DEBUG: rec_res num  : 38, elapsed : 1.5440218448638916\n",
      "[2025/03/22 23:40:08] ppocr DEBUG: dt_boxes num : 54, elapsed : 0.1055915355682373\n",
      "[2025/03/22 23:40:08] ppocr DEBUG: cls num  : 54, elapsed : 0.058176517486572266\n",
      "[2025/03/22 23:40:10] ppocr DEBUG: rec_res num  : 54, elapsed : 2.131399393081665\n",
      "[2025/03/22 23:40:11] ppocr DEBUG: dt_boxes num : 56, elapsed : 0.12847542762756348\n",
      "[2025/03/22 23:40:11] ppocr DEBUG: cls num  : 56, elapsed : 0.0749354362487793\n",
      "[2025/03/22 23:40:13] ppocr DEBUG: rec_res num  : 56, elapsed : 2.0235416889190674\n",
      "[2025/03/22 23:40:13] ppocr DEBUG: dt_boxes num : 96, elapsed : 0.1635286808013916\n",
      "[2025/03/22 23:40:13] ppocr DEBUG: cls num  : 96, elapsed : 0.10190510749816895\n",
      "[2025/03/22 23:40:16] ppocr DEBUG: rec_res num  : 96, elapsed : 2.9505066871643066\n",
      "[2025/03/22 23:40:16] ppocr DEBUG: dt_boxes num : 82, elapsed : 0.18414616584777832\n",
      "[2025/03/22 23:40:16] ppocr DEBUG: cls num  : 82, elapsed : 0.10335254669189453\n",
      "[2025/03/22 23:40:19] ppocr DEBUG: rec_res num  : 82, elapsed : 2.5186283588409424\n",
      "[2025/03/22 23:40:19] ppocr DEBUG: dt_boxes num : 48, elapsed : 0.14249968528747559\n",
      "[2025/03/22 23:40:19] ppocr DEBUG: cls num  : 48, elapsed : 0.05349159240722656\n",
      "[2025/03/22 23:40:21] ppocr DEBUG: rec_res num  : 48, elapsed : 1.7503702640533447\n",
      "[2025/03/22 23:40:21] ppocr DEBUG: dt_boxes num : 45, elapsed : 0.17741632461547852\n",
      "[2025/03/22 23:40:21] ppocr DEBUG: cls num  : 45, elapsed : 0.0631568431854248\n",
      "[2025/03/22 23:40:23] ppocr DEBUG: rec_res num  : 45, elapsed : 1.7754323482513428\n",
      "[2025/03/22 23:40:23] ppocr DEBUG: dt_boxes num : 39, elapsed : 0.1567068099975586\n",
      "[2025/03/22 23:40:23] ppocr DEBUG: cls num  : 39, elapsed : 0.047101736068725586\n",
      "[2025/03/22 23:40:24] ppocr DEBUG: rec_res num  : 39, elapsed : 1.5467679500579834\n",
      "[2025/03/22 23:40:25] ppocr DEBUG: dt_boxes num : 65, elapsed : 0.2670252323150635\n",
      "[2025/03/22 23:40:25] ppocr DEBUG: cls num  : 65, elapsed : 0.08586478233337402\n",
      "[2025/03/22 23:40:27] ppocr DEBUG: rec_res num  : 65, elapsed : 2.3593661785125732\n",
      "[2025/03/22 23:40:28] ppocr DEBUG: dt_boxes num : 63, elapsed : 0.19129300117492676\n",
      "[2025/03/22 23:40:28] ppocr DEBUG: cls num  : 63, elapsed : 0.08049631118774414\n",
      "[2025/03/22 23:40:30] ppocr DEBUG: rec_res num  : 63, elapsed : 2.186028003692627\n",
      "[2025/03/22 23:40:30] ppocr DEBUG: dt_boxes num : 84, elapsed : 0.0934438705444336\n",
      "[2025/03/22 23:40:30] ppocr DEBUG: cls num  : 84, elapsed : 0.08948898315429688\n",
      "[2025/03/22 23:40:33] ppocr DEBUG: rec_res num  : 84, elapsed : 3.176370620727539\n",
      "[2025/03/22 23:40:33] ppocr DEBUG: dt_boxes num : 81, elapsed : 0.19120073318481445\n",
      "[2025/03/22 23:40:34] ppocr DEBUG: cls num  : 81, elapsed : 0.1021585464477539\n",
      "[2025/03/22 23:40:36] ppocr DEBUG: rec_res num  : 81, elapsed : 2.751596689224243\n",
      "[2025/03/22 23:40:36] ppocr DEBUG: dt_boxes num : 87, elapsed : 0.14646077156066895\n",
      "[2025/03/22 23:40:37] ppocr DEBUG: cls num  : 87, elapsed : 0.09876370429992676\n",
      "[2025/03/22 23:40:40] ppocr DEBUG: rec_res num  : 87, elapsed : 3.0875470638275146\n",
      "[2025/03/22 23:40:40] ppocr DEBUG: dt_boxes num : 37, elapsed : 0.13584637641906738\n",
      "[2025/03/22 23:40:40] ppocr DEBUG: cls num  : 37, elapsed : 0.05377984046936035\n",
      "[2025/03/22 23:40:41] ppocr DEBUG: rec_res num  : 37, elapsed : 1.2079925537109375\n",
      "['08/20/10', '06-28-2014', '10/18/20', '04/27/19', '12/08/15', '9/15/2020', '26/01/2015', '11/13/1712', None, '09/80/60', '23.02.21', None, '10/20/07', '08/11/17', '05/04/17', '07/22/16', '05.11.2024', '01/15/17', '10/31/2110', '10/16/21']\n"
     ]
    }
   ],
   "source": [
    "import invoiceocr\n",
    "\n",
    "# Extract \"Date\" data from each image\n",
    "\n",
    "# Number of images\n",
    "NUM_IMAGES = 20\n",
    "dates = []\n",
    "\n",
    "for i in range(NUM_IMAGES):\n",
    "    # Image path\n",
    "    image_path = f\"./kaggle/images/{i}.jpg\"\n",
    "    dates.append(invoiceocr.extract_date(invoiceocr.read(image_path)))\n",
    "print(dates)"
   ]
  },
  {
   "cell_type": "code",
   "execution_count": 5,
   "metadata": {},
   "outputs": [
    {
     "name": "stdout",
     "output_type": "stream",
     "text": [
      "Successful: 18, Failure: 2\n"
     ]
    }
   ],
   "source": [
    "# Check how many of them are successful\n",
    "\n",
    "failure = dates.count(None)\n",
    "successful = len(dates) - failure\n",
    "\n",
    "print(f\"Successful: {successful}, Failure: {failure}\")"
   ]
  }
 ],
 "metadata": {
  "kernelspec": {
   "display_name": "bitirme",
   "language": "python",
   "name": "python3"
  },
  "language_info": {
   "codemirror_mode": {
    "name": "ipython",
    "version": 3
   },
   "file_extension": ".py",
   "mimetype": "text/x-python",
   "name": "python",
   "nbconvert_exporter": "python",
   "pygments_lexer": "ipython3",
   "version": "3.12.3"
  }
 },
 "nbformat": 4,
 "nbformat_minor": 2
}
