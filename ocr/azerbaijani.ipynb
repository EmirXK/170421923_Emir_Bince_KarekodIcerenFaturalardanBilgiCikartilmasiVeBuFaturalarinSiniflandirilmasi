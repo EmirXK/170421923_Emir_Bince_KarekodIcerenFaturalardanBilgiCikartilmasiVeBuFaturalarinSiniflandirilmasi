{
 "cells": [
  {
   "cell_type": "code",
   "execution_count": 1,
   "id": "614f01ba",
   "metadata": {},
   "outputs": [
    {
     "name": "stdout",
     "output_type": "stream",
     "text": [
      "[2025/04/28 21:10:55] ppocr DEBUG: Namespace(help='==SUPPRESS==', use_gpu=False, use_xpu=False, use_npu=False, use_mlu=False, use_gcu=False, ir_optim=True, use_tensorrt=False, min_subgraph_size=15, precision='fp32', gpu_mem=500, gpu_id=0, image_dir=None, page_num=0, det_algorithm='DB', det_model_dir='/home/yegekucuk/.paddleocr/whl/det/en/en_PP-OCRv3_det_infer', det_limit_side_len=960, det_limit_type='max', det_box_type='quad', det_db_thresh=0.3, det_db_box_thresh=0.6, det_db_unclip_ratio=1.5, max_batch_size=10, use_dilation=False, det_db_score_mode='fast', det_east_score_thresh=0.8, det_east_cover_thresh=0.1, det_east_nms_thresh=0.2, det_sast_score_thresh=0.5, det_sast_nms_thresh=0.2, det_pse_thresh=0, det_pse_box_thresh=0.85, det_pse_min_area=16, det_pse_scale=1, scales=[8, 16, 32], alpha=1.0, beta=1.0, fourier_degree=5, rec_algorithm='SVTR_LCNet', rec_model_dir='/home/yegekucuk/.paddleocr/whl/rec/en/en_PP-OCRv4_rec_infer', rec_image_inverse=True, rec_image_shape='3, 48, 320', rec_batch_num=6, max_text_length=25, rec_char_dict_path='/home/yegekucuk/venv/bitirme/lib/python3.12/site-packages/paddleocr/ppocr/utils/en_dict.txt', use_space_char=True, vis_font_path='./doc/fonts/simfang.ttf', drop_score=0.5, e2e_algorithm='PGNet', e2e_model_dir=None, e2e_limit_side_len=768, e2e_limit_type='max', e2e_pgnet_score_thresh=0.5, e2e_char_dict_path='./ppocr/utils/ic15_dict.txt', e2e_pgnet_valid_set='totaltext', e2e_pgnet_mode='fast', use_angle_cls=True, cls_model_dir='/home/yegekucuk/.paddleocr/whl/cls/ch_ppocr_mobile_v2.0_cls_infer', cls_image_shape='3, 48, 192', label_list=['0', '180'], cls_batch_num=6, cls_thresh=0.9, enable_mkldnn=False, cpu_threads=10, use_pdserving=False, warmup=False, sr_model_dir=None, sr_image_shape='3, 32, 128', sr_batch_num=1, draw_img_save_dir='./inference_results', save_crop_res=False, crop_res_save_dir='./output', use_mp=False, total_process_num=1, process_id=0, benchmark=False, save_log_path='./log_output/', show_log=True, use_onnx=False, onnx_providers=False, onnx_sess_options=False, return_word_box=False, output='./output', table_max_len=488, table_algorithm='TableAttn', table_model_dir=None, merge_no_span_structure=True, table_char_dict_path=None, formula_algorithm='LaTeXOCR', formula_model_dir=None, formula_char_dict_path=None, formula_batch_num=1, layout_model_dir=None, layout_dict_path=None, layout_score_threshold=0.5, layout_nms_threshold=0.5, kie_algorithm='LayoutXLM', ser_model_dir=None, re_model_dir=None, use_visual_backbone=True, ser_dict_path='../train_data/XFUND/class_list_xfun.txt', ocr_order_method=None, mode='structure', image_orientation=False, layout=True, table=True, formula=False, ocr=True, recovery=False, recovery_to_markdown=False, use_pdf2docx_api=False, invert=False, binarize=False, alphacolor=(255, 255, 255), lang='en', det=True, rec=True, type='ocr', savefile=False, ocr_version='PP-OCRv4', structure_version='PP-StructureV2')\n"
     ]
    }
   ],
   "source": [
    "import invoiceocr"
   ]
  },
  {
   "cell_type": "code",
   "execution_count": 3,
   "id": "7a3459f6",
   "metadata": {},
   "outputs": [
    {
     "name": "stdout",
     "output_type": "stream",
     "text": [
      "[2025/04/28 21:11:31] ppocr DEBUG: dt_boxes num : 84, elapsed : 0.18541526794433594\n",
      "[2025/04/28 21:11:31] ppocr DEBUG: cls num  : 84, elapsed : 0.14876484870910645\n",
      "[2025/04/28 21:11:37] ppocr DEBUG: rec_res num  : 84, elapsed : 6.401120901107788\n",
      "[[[[59.0, 22.0], [293.0, 22.0], [293.0, 39.0], [59.0, 39.0]], ('Object name: OBA MARKET SARAY', 0.9786548018455505)], [[[45.0, 41.0], [305.0, 41.0], [305.0, 54.0], [45.0, 54.0]], ('Object address: AZ0121 AB$ERON RAYONU', 0.9920449256896973)], [[[41.0, 55.0], [305.0, 57.0], [305.0, 73.0], [41.0, 72.0]], ('SARAY STQ SARAY - SUMQAYIT SOSSESI eV.', 0.9599442481994629)], [[[164.0, 76.0], [185.0, 76.0], [185.0, 86.0], [164.0, 86.0]], ('m..', 0.8458502888679504)], [[[75.0, 91.0], [275.0, 91.0], [275.0, 104.0], [75.0, 104.0]], ('Object code: 2903885001-31104', 0.9973984956741333)], [[[49.0, 126.0], [302.0, 126.0], [302.0, 143.0], [49.0, 143.0]], ('Taxpayer name: \"OBA MARKET\" MaHDUD', 0.954482913017273)], [[[93.0, 144.0], [254.0, 144.0], [254.0, 157.0], [93.0, 157.0]], ('MNSULiyYaTLi CaMiyYaTi', 0.5446605682373047)], [[[122.0, 161.0], [227.0, 161.0], [227.0, 174.0], [122.0, 174.0]], ('TIN: 2903885001', 0.9985913038253784)], [[[97.0, 195.0], [254.0, 195.0], [254.0, 212.0], [97.0, 212.0]], ('Sale receipt N 355962', 0.9975724220275879)], [[[10.0, 229.0], [60.0, 229.0], [60.0, 243.0], [10.0, 243.0]], ('Cashier:', 0.9949281215667725)], [[[176.0, 228.0], [219.0, 228.0], [219.0, 246.0], [176.0, 246.0]], ('Date:', 0.9828052520751953)], [[[269.0, 229.0], [342.0, 229.0], [342.0, 243.0], [269.0, 243.0]], ('05.11.2024', 0.9997261166572571)], [[[7.0, 244.0], [167.0, 244.0], [167.0, 261.0], [7.0, 261.0]], ('Brilyant Mohsunova Mo...', 0.9967984557151794)], [[[178.0, 246.0], [219.0, 246.0], [219.0, 260.0], [178.0, 260.0]], ('Time:', 0.994674563407898)], [[[284.0, 246.0], [342.0, 246.0], [342.0, 260.0], [284.0, 260.0]], ('11:15:14', 0.9961825609207153)], [[[10.0, 305.0], [67.0, 305.0], [67.0, 319.0], [10.0, 319.0]], ('Product', 0.9988425374031067)], [[[206.0, 303.0], [340.0, 303.0], [340.0, 320.0], [206.0, 320.0]], ('Quantity Price Total', 0.9737316370010376)], [[[10.0, 325.0], [163.0, 325.0], [163.0, 338.0], [10.0, 338.0]], ('MARNEULI TOMAT PASTA', 0.998754620552063)], [[[172.0, 325.0], [202.0, 325.0], [202.0, 341.0], [172.0, 341.0]], ('(pc)', 0.8950753211975098)], [[[230.0, 324.0], [246.0, 324.0], [246.0, 342.0], [230.0, 342.0]], ('1', 0.9988995790481567)], [[[269.0, 323.0], [342.0, 323.0], [342.0, 341.0], [269.0, 341.0]], ('2.892.89', 0.9984114170074463)], [[[9.0, 339.0], [69.0, 342.0], [68.0, 356.0], [8.0, 353.0]], ('*VAT: 18%', 0.9848530888557434)], [[[8.0, 357.0], [157.0, 357.0], [157.0, 374.0], [8.0, 374.0]], ('GALLINA BLANKA ET BU', 0.9751466512680054)], [[[172.0, 356.0], [204.0, 356.0], [204.0, 375.0], [172.0, 375.0]], ('(pc)', 0.8929980397224426)], [[[228.0, 357.0], [249.0, 357.0], [249.0, 374.0], [228.0, 374.0]], ('10', 0.9974074959754944)], [[[272.0, 359.0], [306.0, 359.0], [306.0, 373.0], [272.0, 373.0]], ('0.20', 0.9882767796516418)], [[[301.0, 359.0], [340.0, 359.0], [340.0, 373.0], [301.0, 373.0]], ('2.00', 0.9670853018760681)], [[[11.0, 375.0], [68.0, 375.0], [68.0, 389.0], [11.0, 389.0]], ('*VAT: 18%', 0.9937918782234192)], [[[8.0, 391.0], [160.0, 391.0], [160.0, 407.0], [8.0, 407.0]], ('MARRY MOORE MAYE SA', 0.9976502656936646)], [[[172.0, 392.0], [201.0, 392.0], [201.0, 407.0], [172.0, 407.0]], ('(pc)', 0.8028581142425537)], [[[230.0, 391.0], [246.0, 391.0], [246.0, 409.0], [230.0, 409.0]], ('1', 0.9990310668945312)], [[[271.0, 391.0], [342.0, 391.0], [342.0, 409.0], [271.0, 409.0]], ('1.49 1.49', 0.947966456413269)], [[[8.0, 410.0], [22.0, 410.0], [22.0, 423.0], [8.0, 423.0]], ('B', 0.9898762106895447)], [[[10.0, 425.0], [68.0, 425.0], [68.0, 440.0], [10.0, 440.0]], ('*VAT: 18%', 0.9997991919517517)], [[[8.0, 442.0], [168.0, 442.0], [168.0, 459.0], [8.0, 459.0]], ('XIRDALAN ZAVOD COREY', 0.9974676370620728)], [[[165.0, 443.0], [200.0, 443.0], [200.0, 459.0], [165.0, 459.0]], ('pc', 0.9872921705245972)], [[[232.0, 442.0], [245.0, 442.0], [245.0, 459.0], [232.0, 459.0]], ('1', 0.9987797141075134)], [[[271.0, 441.0], [316.0, 441.0], [316.0, 459.0], [271.0, 459.0]], ('0.50', 0.9964082837104797)], [[[309.0, 443.0], [340.0, 443.0], [340.0, 458.0], [309.0, 458.0]], ('0.50', 0.9995018243789673)], [[[11.0, 460.0], [83.0, 460.0], [83.0, 474.0], [11.0, 474.0]], ('*VAT-exempt', 0.9995420575141907)], [[[8.0, 474.0], [150.0, 474.0], [150.0, 491.0], [8.0, 491.0]], ('CHOREKCI-BAKI BATON', 0.9921423196792603)], [[[172.0, 476.0], [204.0, 476.0], [204.0, 495.0], [172.0, 495.0]], ('(pc)', 0.9044497609138489)], [[[272.0, 477.0], [305.0, 477.0], [305.0, 492.0], [272.0, 492.0]], ('1.05', 0.9986990094184875)], [[[301.0, 476.0], [342.0, 476.0], [342.0, 494.0], [301.0, 494.0]], ('1.05', 0.9981936812400818)], [[[10.0, 494.0], [83.0, 494.0], [83.0, 508.0], [10.0, 508.0]], ('*VAT-exempt', 0.999504029750824)], [[[8.0, 510.0], [153.0, 510.0], [153.0, 527.0], [8.0, 527.0]], ('CHOREKCI-BAKI BATON', 0.9723635315895081)], [[[172.0, 509.0], [204.0, 509.0], [204.0, 528.0], [172.0, 528.0]], ('(pc)', 0.8866522908210754)], [[[232.0, 512.0], [245.0, 512.0], [245.0, 527.0], [232.0, 527.0]], ('1', 0.9984939098358154)], [[[272.0, 512.0], [340.0, 512.0], [340.0, 526.0], [272.0, 526.0]], ('0.950.95', 0.9993568658828735)], [[[10.0, 528.0], [82.0, 528.0], [82.0, 542.0], [10.0, 542.0]], ('*VAT-exempt', 0.9995511770248413)], [[[8.0, 545.0], [160.0, 545.0], [160.0, 562.0], [8.0, 562.0]], ('OBA SELLOFAN BOYUK E', 0.9889310002326965)], [[[172.0, 546.0], [201.0, 546.0], [201.0, 562.0], [172.0, 562.0]], ('(pc)', 0.8684358596801758)], [[[230.0, 544.0], [246.0, 544.0], [246.0, 562.0], [230.0, 562.0]], ('1', 0.9991958737373352)], [[[272.0, 546.0], [340.0, 546.0], [340.0, 560.0], [272.0, 560.0]], ('0.050.05', 0.9993656873703003)], [[[9.0, 560.0], [69.0, 563.0], [68.0, 577.0], [8.0, 574.0]], ('*VAT: 18%', 0.9580947160720825)], [[[7.0, 612.0], [45.0, 612.0], [45.0, 626.0], [7.0, 626.0]], ('Total', 0.9992818832397461)], [[[308.0, 612.0], [342.0, 612.0], [342.0, 627.0], [308.0, 627.0]], ('8.93', 0.9992762207984924)], [[[8.0, 629.0], [116.0, 629.0], [116.0, 645.0], [8.0, 645.0]], ('*VAT 18% = 0.98', 0.9884859919548035)], [[[310.0, 629.0], [342.0, 629.0], [342.0, 644.0], [310.0, 644.0]], ('6.43', 0.9984569549560547)], [[[7.0, 641.0], [90.0, 644.0], [90.0, 662.0], [7.0, 659.0]], ('*VAT-exempt', 0.9972177743911743)], [[[310.0, 645.0], [342.0, 645.0], [342.0, 661.0], [310.0, 661.0]], ('2.50', 0.9996265172958374)], [[[8.0, 662.0], [113.0, 662.0], [113.0, 677.0], [8.0, 677.0]], ('*Total tax = 0.98', 0.9870709776878357)], [[[6.0, 715.0], [105.0, 717.0], [105.0, 735.0], [5.0, 733.0]], ('Payment type', 0.9911708831787109)], [[[6.0, 731.0], [70.0, 734.0], [69.0, 752.0], [5.0, 749.0]], ('Cashless:', 0.9934862852096558)], [[[310.0, 734.0], [342.0, 734.0], [342.0, 749.0], [310.0, 749.0]], ('0.00', 0.9989852905273438)], [[[7.0, 751.0], [48.0, 751.0], [48.0, 769.0], [7.0, 769.0]], ('Cash:', 0.9974268078804016)], [[[310.0, 752.0], [342.0, 752.0], [342.0, 767.0], [310.0, 767.0]], ('8.93', 0.9988129138946533)], [[[8.0, 770.0], [53.0, 770.0], [53.0, 784.0], [8.0, 784.0]], ('Bonus:', 0.994570255279541)], [[[310.0, 769.0], [342.0, 769.0], [342.0, 784.0], [310.0, 784.0]], ('0.00', 0.9993960857391357)], [[[7.0, 784.0], [89.0, 784.0], [89.0, 802.0], [7.0, 802.0]], ('Prepayment:', 0.9987857341766357)], [[[310.0, 785.0], [342.0, 785.0], [342.0, 801.0], [310.0, 801.0]], ('0.00', 0.998803436756134)], [[[6.0, 799.0], [52.0, 802.0], [51.0, 818.0], [5.0, 815.0]], ('Credit:', 0.9883164167404175)], [[[310.0, 802.0], [342.0, 802.0], [342.0, 818.0], [310.0, 818.0]], ('0.00', 0.9987896680831909)], [[[11.0, 834.0], [94.0, 834.0], [94.0, 843.0], [11.0, 843.0]], ('*********', 0.8440672159194946)], [[[276.0, 834.0], [340.0, 834.0], [340.0, 843.0], [276.0, 843.0]], ('********', 0.7558455467224121)], [[[8.0, 857.0], [168.0, 857.0], [168.0, 874.0], [8.0, 874.0]], ('Receipt order in shift: 115', 0.9947274327278137)], [[[10.0, 877.0], [257.0, 877.0], [257.0, 890.0], [10.0, 890.0]], ('Cash register model: Az Smart Fiscal Box', 0.9971885681152344)], [[[10.0, 893.0], [294.0, 893.0], [294.0, 906.0], [10.0, 906.0]], ('Cash register factory number: AFB000o0oo735', 0.9665513038635254)], [[[8.0, 909.0], [156.0, 909.0], [156.0, 926.0], [8.0, 926.0]], ('Fiscal ID: B19ez5YAjXue', 0.9921902418136597)], [[[8.0, 927.0], [269.0, 927.0], [269.0, 940.0], [8.0, 940.0]], ('Cashbox registration number: 0000024760', 0.9792550802230835)], [[[115.0, 1071.0], [237.0, 1071.0], [237.0, 1084.0], [115.0, 1084.0]], ('www.e-kassa.gov.az', 0.9978039264678955)], [[[112.0, 1150.0], [237.0, 1150.0], [237.0, 1167.0], [112.0, 1167.0]], ('VAT refund', 0.9991873502731323)], [[[70.0, 1192.0], [278.0, 1192.0], [278.0, 1208.0], [70.0, 1208.0]], ('No VAT refund on the receipt..', 0.9940042495727539)]]\n"
     ]
    }
   ],
   "source": [
    "path = \"./images/indir.jpg\"\n",
    "extracted_text = invoiceocr.read(path)\n",
    "print(extracted_text)"
   ]
  },
  {
   "cell_type": "code",
   "execution_count": 5,
   "id": "89578548",
   "metadata": {},
   "outputs": [
    {
     "name": "stdout",
     "output_type": "stream",
     "text": [
      "8.93\n"
     ]
    }
   ],
   "source": [
    "# Total price extraction\n",
    "extracted_total = invoiceocr.extract_total(extracted_text)\n",
    "print(extracted_total)"
   ]
  },
  {
   "cell_type": "code",
   "execution_count": 6,
   "id": "2c8a574e",
   "metadata": {},
   "outputs": [
    {
     "name": "stdout",
     "output_type": "stream",
     "text": [
      "05.11.2024\n"
     ]
    }
   ],
   "source": [
    "# Date extraction\n",
    "extracted_date = invoiceocr.extract_date(extracted_text)\n",
    "print(extracted_date)"
   ]
  },
  {
   "cell_type": "code",
   "execution_count": 8,
   "id": "92de299b",
   "metadata": {},
   "outputs": [
    {
     "name": "stdout",
     "output_type": "stream",
     "text": [
      "[{\"description\": \"MARNEULI TOMAT PASTA\", \"quantity\": 1, \"unit_price\": 2.89289}, {\"description\": \"GALLINA BLANKA ET BU\", \"quantity\": 10, \"unit_price\": 0.20}, {\"description\": \"MARRY MOORE MAYE SA\", \"quantity\": 1, \"unit_price\": 1.49}, {\"description\": \"XIRDALAN ZAVOD COREY\", \"quantity\": 1, \"unit_price\": 0.5}, {\"description\": \"CHOREKCI-BAKI BATON\", \"quantity\": 2, \"unit_price\": 1.05}, {\"description\": \"OBA SELLOFAN BOYUK E\", \"quantity\": 1, \"unit_price\": 0.05}]\n"
     ]
    }
   ],
   "source": [
    "# Items extraction\n",
    "extracted_items = invoiceocr.extract_items_with_llm(extracted_text, jsonfile=\"../llm_outputs/output_aze.json\")\n",
    "print(extracted_items)"
   ]
  },
  {
   "cell_type": "code",
   "execution_count": null,
   "id": "1be7881b",
   "metadata": {},
   "outputs": [
    {
     "name": "stdout",
     "output_type": "stream",
     "text": [
      "Date:  05.11.2024\n",
      "Total price:  8.93\n",
      "Items:  [{\"description\": \"MARNEULI TOMAT PASTA\", \"quantity\": 1, \"unit_price\": 2.89289}, {\"description\": \"GALLINA BLANKA ET BU\", \"quantity\": 10, \"unit_price\": 0.20}, {\"description\": \"MARRY MOORE MAYE SA\", \"quantity\": 1, \"unit_price\": 1.49}, {\"description\": \"XIRDALAN ZAVOD COREY\", \"quantity\": 1, \"unit_price\": 0.5}, {\"description\": \"CHOREKCI-BAKI BATON\", \"quantity\": 2, \"unit_price\": 1.05}, {\"description\": \"OBA SELLOFAN BOYUK E\", \"quantity\": 1, \"unit_price\": 0.05}]\n"
     ]
    },
    {
     "ename": "",
     "evalue": "",
     "output_type": "error",
     "traceback": [
      "\u001b[1;31mThe Kernel crashed while executing code in the current cell or a previous cell. \n",
      "\u001b[1;31mPlease review the code in the cell(s) to identify a possible cause of the failure. \n",
      "\u001b[1;31mClick <a href='https://aka.ms/vscodeJupyterKernelCrash'>here</a> for more info. \n",
      "\u001b[1;31mView Jupyter <a href='command:jupyter.viewOutput'>log</a> for further details."
     ]
    }
   ],
   "source": [
    "print(\"Date: \", extracted_date)\n",
    "print(\"Total price: \", extracted_total)\n",
    "print(\"Items: \", extracted_items)"
   ]
  }
 ],
 "metadata": {
  "kernelspec": {
   "display_name": "bitirme",
   "language": "python",
   "name": "python3"
  },
  "language_info": {
   "codemirror_mode": {
    "name": "ipython",
    "version": 3
   },
   "file_extension": ".py",
   "mimetype": "text/x-python",
   "name": "python",
   "nbconvert_exporter": "python",
   "pygments_lexer": "ipython3",
   "version": "3.12.3"
  }
 },
 "nbformat": 4,
 "nbformat_minor": 5
}
