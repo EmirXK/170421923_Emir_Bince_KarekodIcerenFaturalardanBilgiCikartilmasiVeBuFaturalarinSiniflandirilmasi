{
 "cells": [
  {
   "cell_type": "code",
   "execution_count": 1,
   "id": "614f01ba",
   "metadata": {},
   "outputs": [],
   "source": [
    "import os\n",
    "os.chdir(\"..\")\n",
    "import module.invoiceocr as invoiceocr\n",
    "\n",
    "os.chdir(\"./ocr\")"
   ]
  },
  {
   "cell_type": "code",
   "execution_count": 2,
   "id": "30b1e567",
   "metadata": {},
   "outputs": [
    {
     "name": "stdout",
     "output_type": "stream",
     "text": [
      "[2025/05/12 17:15:45] ppocr DEBUG: Namespace(help='==SUPPRESS==', use_gpu=False, use_xpu=False, use_npu=False, use_mlu=False, use_gcu=False, ir_optim=True, use_tensorrt=False, min_subgraph_size=15, precision='fp32', gpu_mem=500, gpu_id=0, image_dir=None, page_num=0, det_algorithm='DB', det_model_dir='/home/yegekucuk/.paddleocr/whl/det/en/en_PP-OCRv3_det_infer', det_limit_side_len=960, det_limit_type='max', det_box_type='quad', det_db_thresh=0.3, det_db_box_thresh=0.6, det_db_unclip_ratio=1.5, max_batch_size=10, use_dilation=False, det_db_score_mode='fast', det_east_score_thresh=0.8, det_east_cover_thresh=0.1, det_east_nms_thresh=0.2, det_sast_score_thresh=0.5, det_sast_nms_thresh=0.2, det_pse_thresh=0, det_pse_box_thresh=0.85, det_pse_min_area=16, det_pse_scale=1, scales=[8, 16, 32], alpha=1.0, beta=1.0, fourier_degree=5, rec_algorithm='SVTR_LCNet', rec_model_dir='/home/yegekucuk/.paddleocr/whl/rec/en/en_PP-OCRv4_rec_infer', rec_image_inverse=True, rec_image_shape='3, 48, 320', rec_batch_num=6, max_text_length=25, rec_char_dict_path='/home/yegekucuk/venv/bitirme/lib/python3.12/site-packages/paddleocr/ppocr/utils/en_dict.txt', use_space_char=True, vis_font_path='./doc/fonts/simfang.ttf', drop_score=0.5, e2e_algorithm='PGNet', e2e_model_dir=None, e2e_limit_side_len=768, e2e_limit_type='max', e2e_pgnet_score_thresh=0.5, e2e_char_dict_path='./ppocr/utils/ic15_dict.txt', e2e_pgnet_valid_set='totaltext', e2e_pgnet_mode='fast', use_angle_cls=True, cls_model_dir='/home/yegekucuk/.paddleocr/whl/cls/ch_ppocr_mobile_v2.0_cls_infer', cls_image_shape='3, 48, 192', label_list=['0', '180'], cls_batch_num=6, cls_thresh=0.9, enable_mkldnn=False, cpu_threads=10, use_pdserving=False, warmup=False, sr_model_dir=None, sr_image_shape='3, 32, 128', sr_batch_num=1, draw_img_save_dir='./inference_results', save_crop_res=False, crop_res_save_dir='./output', use_mp=False, total_process_num=1, process_id=0, benchmark=False, save_log_path='./log_output/', show_log=True, use_onnx=False, onnx_providers=False, onnx_sess_options=False, return_word_box=False, output='./output', table_max_len=488, table_algorithm='TableAttn', table_model_dir=None, merge_no_span_structure=True, table_char_dict_path=None, formula_algorithm='LaTeXOCR', formula_model_dir=None, formula_char_dict_path=None, formula_batch_num=1, layout_model_dir=None, layout_dict_path=None, layout_score_threshold=0.5, layout_nms_threshold=0.5, kie_algorithm='LayoutXLM', ser_model_dir=None, re_model_dir=None, use_visual_backbone=True, ser_dict_path='../train_data/XFUND/class_list_xfun.txt', ocr_order_method=None, mode='structure', image_orientation=False, layout=True, table=True, formula=False, ocr=True, recovery=False, recovery_to_markdown=False, use_pdf2docx_api=False, invert=False, binarize=False, alphacolor=(255, 255, 255), lang='en', det=True, rec=True, type='ocr', savefile=False, ocr_version='PP-OCRv4', structure_version='PP-StructureV2')\n"
     ]
    }
   ],
   "source": [
    "# OCR init\n",
    "invoiceocr.init()"
   ]
  },
  {
   "cell_type": "code",
   "execution_count": 3,
   "id": "7a3459f6",
   "metadata": {},
   "outputs": [
    {
     "name": "stdout",
     "output_type": "stream",
     "text": [
      "[2025/05/12 17:15:45] ppocr DEBUG: dt_boxes num : 64, elapsed : 0.1269536018371582\n",
      "[2025/05/12 17:15:45] ppocr DEBUG: cls num  : 64, elapsed : 0.08854413032531738\n",
      "[2025/05/12 17:15:49] ppocr DEBUG: rec_res num  : 64, elapsed : 3.6194210052490234\n",
      "[[[[168.0, 9.0], [230.0, 0.0], [233.0, 16.0], [171.0, 27.0]], ('shbac', 0.9061712026596069)], [[[79.0, 22.0], [272.0, 22.0], [272.0, 38.0], [79.0, 38.0]], ('Objectname:ARAZ MARKET', 0.9449514746665955)], [[[45.0, 39.0], [306.0, 38.0], [306.0, 54.0], [45.0, 56.0]], ('Objectagqress:AZ0115 ABSERON RAYONU', 0.9483904242515564)], [[[81.0, 73.0], [269.0, 73.0], [269.0, 89.0], [81.0, 89.0]], ('m.69 SAYLI YASAYIS BINASININ', 0.9799568057060242)], [[[75.0, 90.0], [275.0, 90.0], [275.0, 105.0], [75.0, 105.0]], ('Object code: 1001994141-31031', 0.9981485605239868)], [[[63.0, 143.0], [287.0, 143.0], [287.0, 158.0], [63.0, 158.0]], ('MNHDUD MNSULiYYaTLi CaMiyYaTi', 0.6795254945755005)], [[[122.0, 159.0], [228.0, 159.0], [228.0, 175.0], [122.0, 175.0]], ('TIN: 1001994141', 0.9800705313682556)], [[[96.0, 196.0], [254.0, 196.0], [254.0, 211.0], [96.0, 211.0]], ('Sale receipt N436848', 0.9909361004829407)], [[[10.0, 229.0], [173.0, 229.0], [173.0, 245.0], [10.0, 245.0]], ('Cashier: ismayil Qafarov', 0.9599164128303528)], [[[171.0, 230.0], [216.0, 230.0], [216.0, 243.0], [171.0, 243.0]], ('Date:', 0.9029650688171387)], [[[269.0, 225.0], [342.0, 228.0], [341.0, 245.0], [268.0, 242.0]], ('03.02.2025', 0.9957407712936401)], [[[179.0, 245.0], [218.0, 245.0], [218.0, 261.0], [179.0, 261.0]], ('Time:', 0.9983499646186829)], [[[284.0, 245.0], [343.0, 245.0], [343.0, 261.0], [284.0, 261.0]], ('18:45:08', 0.9692749977111816)], [[[10.0, 304.0], [67.0, 304.0], [67.0, 320.0], [10.0, 320.0]], ('Product', 0.9992908835411072)], [[[209.0, 304.0], [340.0, 304.0], [340.0, 319.0], [209.0, 319.0]], ('Quantity Price Total', 0.9738174676895142)], [[[10.0, 324.0], [157.0, 324.0], [157.0, 339.0], [10.0, 339.0]], ('PIKANTA BADIMCAN IKR', 0.9993277788162231)], [[[219.0, 324.0], [259.0, 324.0], [259.0, 340.0], [219.0, 340.0]], ('1.000', 0.9996541738510132)], [[[270.0, 324.0], [310.0, 324.0], [310.0, 340.0], [270.0, 340.0]], ('2.75', 0.9839194416999817)], [[[300.0, 324.0], [340.0, 324.0], [340.0, 340.0], [300.0, 340.0]], ('2.75', 0.9845821857452393)], [[[10.0, 341.0], [68.0, 341.0], [68.0, 354.0], [10.0, 354.0]], ('*VAT: 18%', 0.9997363686561584)], [[[11.0, 359.0], [164.0, 359.0], [164.0, 371.0], [11.0, 371.0]], ('TAC MAKARON BORU 500', 0.9984012842178345)], [[[218.0, 357.0], [258.0, 357.0], [258.0, 373.0], [218.0, 373.0]], ('2.000', 0.9995951652526855)], [[[272.0, 359.0], [303.0, 359.0], [303.0, 372.0], [272.0, 372.0]], ('0.75', 0.9981116652488708)], [[[303.0, 359.0], [340.0, 359.0], [340.0, 372.0], [303.0, 372.0]], ('1.50', 0.9935906529426575)], [[[11.0, 376.0], [69.0, 376.0], [69.0, 389.0], [11.0, 389.0]], ('*VAT: 18%', 0.9992316365242004)], [[[11.0, 392.0], [153.0, 392.0], [153.0, 404.0], [11.0, 404.0]], ('GZ KEPEKLI COREK 400', 0.9555816650390625)], [[[218.0, 391.0], [258.0, 391.0], [258.0, 408.0], [218.0, 408.0]], ('2.000', 0.9997203946113586)], [[[272.0, 392.0], [306.0, 392.0], [306.0, 408.0], [272.0, 408.0]], ('0.95', 0.9920746088027954)], [[[303.0, 393.0], [340.0, 393.0], [340.0, 406.0], [303.0, 406.0]], ('1.90', 0.9886074066162109)], [[[11.0, 410.0], [83.0, 410.0], [83.0, 423.0], [11.0, 423.0]], ('*VAT-exempt', 0.9995618462562561)], [[[9.0, 424.0], [145.0, 425.0], [145.0, 442.0], [8.0, 441.0]], ('Paket Araz 27*50 3KG', 0.9977208971977234)], [[[218.0, 425.0], [258.0, 425.0], [258.0, 442.0], [218.0, 442.0]], ('1.000', 0.9998292922973633)], [[[271.0, 425.0], [341.0, 425.0], [341.0, 442.0], [271.0, 442.0]], ('0.030.03', 0.9981454014778137)], [[[8.0, 439.0], [70.0, 442.0], [69.0, 459.0], [7.0, 456.0]], ('*VAT: 18%', 0.9944937825202942)], [[[7.0, 491.0], [46.0, 491.0], [46.0, 508.0], [7.0, 508.0]], ('Total', 0.999536395072937)], [[[310.0, 493.0], [341.0, 493.0], [341.0, 507.0], [310.0, 507.0]], ('6.18', 0.998884379863739)], [[[9.0, 508.0], [114.0, 508.0], [114.0, 523.0], [9.0, 523.0]], ('*VAT 18% = 0.65', 0.9721641540527344)], [[[310.0, 508.0], [343.0, 508.0], [343.0, 526.0], [310.0, 526.0]], ('4.28', 0.9994382858276367)], [[[8.0, 523.0], [90.0, 526.0], [90.0, 542.0], [7.0, 540.0]], ('*VAT-exempt', 0.9945992827415466)], [[[311.0, 527.0], [341.0, 527.0], [341.0, 541.0], [311.0, 541.0]], ('1.90', 0.9998618364334106)], [[[9.0, 543.0], [112.0, 543.0], [112.0, 559.0], [9.0, 559.0]], ('*Total tax = 0.65', 0.9974125027656555)], [[[7.0, 598.0], [105.0, 599.0], [104.0, 616.0], [7.0, 614.0]], ('Payment type', 0.9952888488769531)], [[[7.0, 613.0], [70.0, 616.0], [69.0, 632.0], [6.0, 629.0]], ('Cashless:', 0.9958139061927795)], [[[312.0, 617.0], [341.0, 617.0], [341.0, 631.0], [312.0, 631.0]], ('6.18', 0.9994534254074097)], [[[7.0, 628.0], [47.0, 631.0], [45.0, 649.0], [6.0, 646.0]], ('Cash:', 0.9721022844314575)], [[[310.0, 631.0], [343.0, 631.0], [343.0, 649.0], [310.0, 649.0]], ('0.00', 0.998873770236969)], [[[7.0, 649.0], [52.0, 649.0], [52.0, 665.0], [7.0, 665.0]], ('Bonus:', 0.9956349730491638)], [[[311.0, 650.0], [341.0, 650.0], [341.0, 664.0], [311.0, 664.0]], ('0.00', 0.9996850490570068)], [[[9.0, 667.0], [88.0, 667.0], [88.0, 680.0], [9.0, 680.0]], ('Prepayment:', 0.9982629418373108)], [[[311.0, 666.0], [341.0, 666.0], [341.0, 680.0], [311.0, 680.0]], ('0.00', 0.9993817806243896)], [[[7.0, 683.0], [52.0, 683.0], [52.0, 699.0], [7.0, 699.0]], ('Credit:', 0.927747368812561)], [[[310.0, 682.0], [343.0, 682.0], [343.0, 699.0], [310.0, 699.0]], ('0.00', 0.9987919330596924)], [[[10.0, 739.0], [165.0, 739.0], [165.0, 751.0], [10.0, 751.0]], ('Receipt order in shift: 375', 0.9951679706573486)], [[[9.0, 756.0], [225.0, 756.0], [225.0, 771.0], [9.0, 771.0]], ('Cash register model: NBA FiscalBox', 0.9995176792144775)], [[[9.0, 773.0], [287.0, 773.0], [287.0, 788.0], [9.0, 788.0]], ('Cash register factory number: 900120010167', 0.9888366460800171)], [[[9.0, 789.0], [158.0, 789.0], [158.0, 804.0], [9.0, 804.0]], ('Fiscal ID: 8tvr2sGK96cW', 0.9935635328292847)], [[[9.0, 807.0], [270.0, 807.0], [270.0, 822.0], [9.0, 822.0]], ('Cashbox registration number: 0000013725', 0.9966227412223816)], [[[113.0, 951.0], [237.0, 951.0], [237.0, 966.0], [113.0, 966.0]], ('www.e-kassa.gov.az', 0.9992896318435669)], [[[112.0, 1030.0], [237.0, 1030.0], [237.0, 1050.0], [112.0, 1050.0]], ('VAT refund', 0.9997673034667969)], [[[9.0, 1073.0], [149.0, 1073.0], [149.0, 1088.0], [9.0, 1088.0]], ('VAT refund amount:', 0.9958794116973877)], [[[273.0, 1074.0], [340.0, 1074.0], [340.0, 1087.0], [273.0, 1087.0]], ('0.11 AZN', 0.9984568357467651)], [[[9.0, 1091.0], [126.0, 1091.0], [126.0, 1107.0], [9.0, 1107.0]], ('VAT refund date:', 0.9956052899360657)], [[[214.0, 1091.0], [341.0, 1091.0], [341.0, 1107.0], [214.0, 1107.0]], ('17.03.2025 10:39', 0.9850989580154419)]]\n"
     ]
    }
   ],
   "source": [
    "path = \"./images/ornek2.jpg\"\n",
    "extracted_text = invoiceocr.read(path)\n",
    "print(extracted_text)"
   ]
  },
  {
   "cell_type": "code",
   "execution_count": 4,
   "id": "30b35cee",
   "metadata": {},
   "outputs": [
    {
     "name": "stdout",
     "output_type": "stream",
     "text": [
      "shbac\n",
      "Objectname:ARAZ MARKET\n",
      "Objectagqress:AZ0115 ABSERON RAYONU\n",
      "m.69 SAYLI YASAYIS BINASININ\n",
      "Object code: 1001994141-31031\n",
      "MNHDUD MNSULiYYaTLi CaMiyYaTi\n",
      "TIN: 1001994141\n",
      "Sale receipt N436848\n",
      "Cashier: ismayil Qafarov\n",
      "Date:\n",
      "03.02.2025\n",
      "Time:\n",
      "18:45:08\n",
      "Product\n",
      "Quantity Price Total\n",
      "PIKANTA BADIMCAN IKR\n",
      "1.000\n",
      "2.75\n",
      "2.75\n",
      "*VAT: 18%\n",
      "TAC MAKARON BORU 500\n",
      "2.000\n",
      "0.75\n",
      "1.50\n",
      "*VAT: 18%\n",
      "GZ KEPEKLI COREK 400\n",
      "2.000\n",
      "0.95\n",
      "1.90\n",
      "*VAT-exempt\n",
      "Paket Araz 27*50 3KG\n",
      "1.000\n",
      "0.030.03\n",
      "*VAT: 18%\n",
      "Total\n",
      "6.18\n",
      "*VAT 18% = 0.65\n",
      "4.28\n",
      "*VAT-exempt\n",
      "1.90\n",
      "*Total tax = 0.65\n",
      "Payment type\n",
      "Cashless:\n",
      "6.18\n",
      "Cash:\n",
      "0.00\n",
      "Bonus:\n",
      "0.00\n",
      "Prepayment:\n",
      "0.00\n",
      "Credit:\n",
      "0.00\n",
      "Receipt order in shift: 375\n",
      "Cash register model: NBA FiscalBox\n",
      "Cash register factory number: 900120010167\n",
      "Fiscal ID: 8tvr2sGK96cW\n",
      "Cashbox registration number: 0000013725\n",
      "www.e-kassa.gov.az\n",
      "VAT refund\n",
      "VAT refund amount:\n",
      "0.11 AZN\n",
      "VAT refund date:\n",
      "17.03.2025 10:39\n"
     ]
    }
   ],
   "source": [
    "# Text only\n",
    "print(\"\\n\".join(invoiceocr.to_list_of_texts(extracted_text)))"
   ]
  },
  {
   "cell_type": "code",
   "execution_count": 5,
   "id": "89578548",
   "metadata": {},
   "outputs": [
    {
     "name": "stdout",
     "output_type": "stream",
     "text": [
      "6.18\n"
     ]
    }
   ],
   "source": [
    "# Total price extraction\n",
    "extracted_total = invoiceocr.extract_total(extracted_text)\n",
    "print(extracted_total)"
   ]
  },
  {
   "cell_type": "code",
   "execution_count": 6,
   "id": "2c8a574e",
   "metadata": {},
   "outputs": [
    {
     "name": "stdout",
     "output_type": "stream",
     "text": [
      "03.02.2025\n"
     ]
    }
   ],
   "source": [
    "# Date extraction\n",
    "extracted_date = invoiceocr.extract_date(extracted_text)\n",
    "print(extracted_date)"
   ]
  }
 ],
 "metadata": {
  "kernelspec": {
   "display_name": "bitirme",
   "language": "python",
   "name": "python3"
  },
  "language_info": {
   "codemirror_mode": {
    "name": "ipython",
    "version": 3
   },
   "file_extension": ".py",
   "mimetype": "text/x-python",
   "name": "python",
   "nbconvert_exporter": "python",
   "pygments_lexer": "ipython3",
   "version": "3.12.3"
  }
 },
 "nbformat": 4,
 "nbformat_minor": 5
}
