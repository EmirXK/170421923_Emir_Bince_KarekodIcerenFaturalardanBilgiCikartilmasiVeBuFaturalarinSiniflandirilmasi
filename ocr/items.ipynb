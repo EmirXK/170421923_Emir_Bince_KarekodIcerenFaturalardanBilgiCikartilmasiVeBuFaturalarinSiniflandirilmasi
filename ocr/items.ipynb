{
 "cells": [
  {
   "cell_type": "code",
   "execution_count": 1,
   "id": "da44d3d8",
   "metadata": {},
   "outputs": [
    {
     "name": "stdout",
     "output_type": "stream",
     "text": [
      "[2025/04/28 20:56:20] ppocr DEBUG: Namespace(help='==SUPPRESS==', use_gpu=False, use_xpu=False, use_npu=False, use_mlu=False, use_gcu=False, ir_optim=True, use_tensorrt=False, min_subgraph_size=15, precision='fp32', gpu_mem=500, gpu_id=0, image_dir=None, page_num=0, det_algorithm='DB', det_model_dir='/home/yegekucuk/.paddleocr/whl/det/en/en_PP-OCRv3_det_infer', det_limit_side_len=960, det_limit_type='max', det_box_type='quad', det_db_thresh=0.3, det_db_box_thresh=0.6, det_db_unclip_ratio=1.5, max_batch_size=10, use_dilation=False, det_db_score_mode='fast', det_east_score_thresh=0.8, det_east_cover_thresh=0.1, det_east_nms_thresh=0.2, det_sast_score_thresh=0.5, det_sast_nms_thresh=0.2, det_pse_thresh=0, det_pse_box_thresh=0.85, det_pse_min_area=16, det_pse_scale=1, scales=[8, 16, 32], alpha=1.0, beta=1.0, fourier_degree=5, rec_algorithm='SVTR_LCNet', rec_model_dir='/home/yegekucuk/.paddleocr/whl/rec/en/en_PP-OCRv4_rec_infer', rec_image_inverse=True, rec_image_shape='3, 48, 320', rec_batch_num=6, max_text_length=25, rec_char_dict_path='/home/yegekucuk/venv/bitirme/lib/python3.12/site-packages/paddleocr/ppocr/utils/en_dict.txt', use_space_char=True, vis_font_path='./doc/fonts/simfang.ttf', drop_score=0.5, e2e_algorithm='PGNet', e2e_model_dir=None, e2e_limit_side_len=768, e2e_limit_type='max', e2e_pgnet_score_thresh=0.5, e2e_char_dict_path='./ppocr/utils/ic15_dict.txt', e2e_pgnet_valid_set='totaltext', e2e_pgnet_mode='fast', use_angle_cls=True, cls_model_dir='/home/yegekucuk/.paddleocr/whl/cls/ch_ppocr_mobile_v2.0_cls_infer', cls_image_shape='3, 48, 192', label_list=['0', '180'], cls_batch_num=6, cls_thresh=0.9, enable_mkldnn=False, cpu_threads=10, use_pdserving=False, warmup=False, sr_model_dir=None, sr_image_shape='3, 32, 128', sr_batch_num=1, draw_img_save_dir='./inference_results', save_crop_res=False, crop_res_save_dir='./output', use_mp=False, total_process_num=1, process_id=0, benchmark=False, save_log_path='./log_output/', show_log=True, use_onnx=False, onnx_providers=False, onnx_sess_options=False, return_word_box=False, output='./output', table_max_len=488, table_algorithm='TableAttn', table_model_dir=None, merge_no_span_structure=True, table_char_dict_path=None, formula_algorithm='LaTeXOCR', formula_model_dir=None, formula_char_dict_path=None, formula_batch_num=1, layout_model_dir=None, layout_dict_path=None, layout_score_threshold=0.5, layout_nms_threshold=0.5, kie_algorithm='LayoutXLM', ser_model_dir=None, re_model_dir=None, use_visual_backbone=True, ser_dict_path='../train_data/XFUND/class_list_xfun.txt', ocr_order_method=None, mode='structure', image_orientation=False, layout=True, table=True, formula=False, ocr=True, recovery=False, recovery_to_markdown=False, use_pdf2docx_api=False, invert=False, binarize=False, alphacolor=(255, 255, 255), lang='en', det=True, rec=True, type='ocr', savefile=False, ocr_version='PP-OCRv4', structure_version='PP-StructureV2')\n"
     ]
    }
   ],
   "source": [
    "import invoiceocr"
   ]
  },
  {
   "cell_type": "code",
   "execution_count": 4,
   "id": "f1e03127",
   "metadata": {},
   "outputs": [
    {
     "name": "stdout",
     "output_type": "stream",
     "text": [
      "[2025/04/28 21:01:08] ppocr DEBUG: dt_boxes num : 69, elapsed : 0.28125548362731934\n",
      "[2025/04/28 21:01:08] ppocr DEBUG: cls num  : 69, elapsed : 0.11856961250305176\n",
      "[2025/04/28 21:01:14] ppocr DEBUG: rec_res num  : 69, elapsed : 5.656221389770508\n",
      "['IYAWOEMIT CETIMIN', 'HTUNSIAH.', 'Walmart', 'Save money. Live better.', '972731-9576', 'MANAGER JOE RIVERA', '8801OHI0DR', 'PLANOTX75024', 'ST#2883 0P# 00007355TE#09TR#05061', 'COM 3PC SET', '088851018239', '9.44X', 'COM3PK BDS', '088614999361', '7.24X', 'COM BDS', '088614999352', '7.24X', 'DR SMITHS', '030178033003', '7.97N', 'COM 2PK HAIR 007153412962', '4.97X', 'BABY WIPES', '003700087095', '1.97X', 'COM 4PK S0CK 007153413049', '4.97X', 'COM 4PK S0CK 007153413048', '4.97X', '1P 0PUG 0/3004721376373', '2.00', 'X', 'PAMPERS', '003700086358', '24.94X', 'BBRNMSANML004400000379F', '1.48N', 'AU PATROL', '077898806441', '6.97X', 'SUBTOTAL', '84.16', 'TAX1', '8.250%', '6.16', 'TOTAL', '90.32', 'DEBIT TEND', '90.32', 'CHANGE DUE', '0.00', 'EFT DEBIT', 'PAY FROM PRIMARY', '90.32TOTAL PURCHASE', 'ACCOUNT #', '******2900S', 'REF#421000235152', 'NETW0RK ID.0090 APPR C0DE 887979', 'TERMINAL#MX294477', '07/29/14', '13:57:53', '#ITEMSSOLD12', 'TC#02430702 192351634126', 'Teacher Appreciation 7/25-7/31', 'Walmart.com/teachers,redeem by 8/15', '07/29/14', '13:57:55', 'so0br\\\\nos.bssrlsatsriw.www']\n"
     ]
    }
   ],
   "source": [
    "path = \"./images/walmart.jpg\"\n",
    "extracted_text = invoiceocr.read(path, only_texts=True)\n",
    "print(extracted_text)"
   ]
  },
  {
   "cell_type": "code",
   "execution_count": 5,
   "id": "15f32be0",
   "metadata": {},
   "outputs": [
    {
     "data": {
      "text/plain": [
       "'[{\"description\": \"3PC SET\", \"quantity\": 1, \"unit_price\": 9.44}, {\"description\": \"COM3PK BDS\", \"quantity\": 1, \"unit_price\": 7.24}, {\"description\": \"DR SMITHS\", \"quantity\": 1, \"unit_price\": 7.97}, {\"description\": \"2PK HAIR\", \"quantity\": 1, \"unit_price\": 4.97}, {\"description\": \"BABY WIPES\", \"quantity\": 1, \"unit_price\": 1.97}, {\"description\": \"COM 4PK S0CK\", \"quantity\": 2, \"unit_price\": 4.97}, {\"description\": \"PAMPERS\", \"quantity\": 1, \"unit_price\": 24.94}, {\"description\": \"AU PATROL\", \"quantity\": 1, \"unit_price\": 6.97}]'"
      ]
     },
     "execution_count": 5,
     "metadata": {},
     "output_type": "execute_result"
    }
   ],
   "source": [
    "invoiceocr.extract_items_with_llm(extracted_text, jsonfile=\"../llm_outputs/output_walmart.json\")"
   ]
  }
 ],
 "metadata": {
  "kernelspec": {
   "display_name": "bitirme",
   "language": "python",
   "name": "python3"
  },
  "language_info": {
   "codemirror_mode": {
    "name": "ipython",
    "version": 3
   },
   "file_extension": ".py",
   "mimetype": "text/x-python",
   "name": "python",
   "nbconvert_exporter": "python",
   "pygments_lexer": "ipython3",
   "version": "3.12.3"
  }
 },
 "nbformat": 4,
 "nbformat_minor": 5
}
