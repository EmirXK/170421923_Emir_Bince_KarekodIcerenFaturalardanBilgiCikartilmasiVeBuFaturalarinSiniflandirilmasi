{
 "cells": [
  {
   "cell_type": "code",
   "execution_count": null,
   "id": "cdd98ccd",
   "metadata": {},
   "outputs": [],
   "source": [
    "from module import models\n",
    "from module import datasets\n",
    "from sklearn.feature_extraction.text import CountVectorizer\n",
    "from sklearn.preprocessing import LabelEncoder\n",
    "import nltk\n",
    "import pandas as pd\n",
    "from nltk.corpus import stopwords\n",
    "from nltk.tokenize import word_tokenize"
   ]
  },
  {
   "cell_type": "code",
   "execution_count": 17,
   "id": "0f7496c7",
   "metadata": {},
   "outputs": [
    {
     "ename": "FileNotFoundError",
     "evalue": "[Errno 2] No such file or directory: './datasets/data.csv'",
     "output_type": "error",
     "traceback": [
      "\u001b[31m---------------------------------------------------------------------------\u001b[39m",
      "\u001b[31mFileNotFoundError\u001b[39m                         Traceback (most recent call last)",
      "\u001b[36mCell\u001b[39m\u001b[36m \u001b[39m\u001b[32mIn[17]\u001b[39m\u001b[32m, line 3\u001b[39m\n\u001b[32m      1\u001b[39m \u001b[38;5;66;03m# Load dataset\u001b[39;00m\n\u001b[32m----> \u001b[39m\u001b[32m3\u001b[39m df = \u001b[43mdatasets\u001b[49m\u001b[43m.\u001b[49m\u001b[43mamazon\u001b[49m\u001b[43m(\u001b[49m\u001b[43m)\u001b[49m\n\u001b[32m      4\u001b[39m df\n",
      "\u001b[36mFile \u001b[39m\u001b[32mc:\\Users\\Lenovo\\Desktop\\github_projects\\smart-invoice-analyzer\\module\\datasets\\__init__.py:21\u001b[39m, in \u001b[36mamazon\u001b[39m\u001b[34m(rows)\u001b[39m\n\u001b[32m     19\u001b[39m             \u001b[38;5;28;01mreturn\u001b[39;00m \u001b[38;5;28;01mNone\u001b[39;00m\n\u001b[32m     20\u001b[39m \u001b[38;5;28;01melse\u001b[39;00m:\n\u001b[32m---> \u001b[39m\u001b[32m21\u001b[39m     \u001b[38;5;28;01mreturn\u001b[39;00m \u001b[43mread_csv\u001b[49m\u001b[43m(\u001b[49m\u001b[33;43m\"\u001b[39;49m\u001b[33;43m./datasets/data.csv\u001b[39;49m\u001b[33;43m\"\u001b[39;49m\u001b[43m)\u001b[49m\n",
      "\u001b[36mFile \u001b[39m\u001b[32mc:\\Users\\Lenovo\\Desktop\\github_projects\\smart-invoice-analyzer\\venv\\Lib\\site-packages\\pandas\\util\\_decorators.py:211\u001b[39m, in \u001b[36mdeprecate_kwarg.<locals>._deprecate_kwarg.<locals>.wrapper\u001b[39m\u001b[34m(*args, **kwargs)\u001b[39m\n\u001b[32m    209\u001b[39m     \u001b[38;5;28;01melse\u001b[39;00m:\n\u001b[32m    210\u001b[39m         kwargs[new_arg_name] = new_arg_value\n\u001b[32m--> \u001b[39m\u001b[32m211\u001b[39m \u001b[38;5;28;01mreturn\u001b[39;00m \u001b[43mfunc\u001b[49m\u001b[43m(\u001b[49m\u001b[43m*\u001b[49m\u001b[43margs\u001b[49m\u001b[43m,\u001b[49m\u001b[43m \u001b[49m\u001b[43m*\u001b[49m\u001b[43m*\u001b[49m\u001b[43mkwargs\u001b[49m\u001b[43m)\u001b[49m\n",
      "\u001b[36mFile \u001b[39m\u001b[32mc:\\Users\\Lenovo\\Desktop\\github_projects\\smart-invoice-analyzer\\venv\\Lib\\site-packages\\pandas\\util\\_decorators.py:331\u001b[39m, in \u001b[36mdeprecate_nonkeyword_arguments.<locals>.decorate.<locals>.wrapper\u001b[39m\u001b[34m(*args, **kwargs)\u001b[39m\n\u001b[32m    325\u001b[39m \u001b[38;5;28;01mif\u001b[39;00m \u001b[38;5;28mlen\u001b[39m(args) > num_allow_args:\n\u001b[32m    326\u001b[39m     warnings.warn(\n\u001b[32m    327\u001b[39m         msg.format(arguments=_format_argument_list(allow_args)),\n\u001b[32m    328\u001b[39m         \u001b[38;5;167;01mFutureWarning\u001b[39;00m,\n\u001b[32m    329\u001b[39m         stacklevel=find_stack_level(),\n\u001b[32m    330\u001b[39m     )\n\u001b[32m--> \u001b[39m\u001b[32m331\u001b[39m \u001b[38;5;28;01mreturn\u001b[39;00m \u001b[43mfunc\u001b[49m\u001b[43m(\u001b[49m\u001b[43m*\u001b[49m\u001b[43margs\u001b[49m\u001b[43m,\u001b[49m\u001b[43m \u001b[49m\u001b[43m*\u001b[49m\u001b[43m*\u001b[49m\u001b[43mkwargs\u001b[49m\u001b[43m)\u001b[49m\n",
      "\u001b[36mFile \u001b[39m\u001b[32mc:\\Users\\Lenovo\\Desktop\\github_projects\\smart-invoice-analyzer\\venv\\Lib\\site-packages\\pandas\\io\\parsers\\readers.py:950\u001b[39m, in \u001b[36mread_csv\u001b[39m\u001b[34m(filepath_or_buffer, sep, delimiter, header, names, index_col, usecols, squeeze, prefix, mangle_dupe_cols, dtype, engine, converters, true_values, false_values, skipinitialspace, skiprows, skipfooter, nrows, na_values, keep_default_na, na_filter, verbose, skip_blank_lines, parse_dates, infer_datetime_format, keep_date_col, date_parser, dayfirst, cache_dates, iterator, chunksize, compression, thousands, decimal, lineterminator, quotechar, quoting, doublequote, escapechar, comment, encoding, encoding_errors, dialect, error_bad_lines, warn_bad_lines, on_bad_lines, delim_whitespace, low_memory, memory_map, float_precision, storage_options)\u001b[39m\n\u001b[32m    935\u001b[39m kwds_defaults = _refine_defaults_read(\n\u001b[32m    936\u001b[39m     dialect,\n\u001b[32m    937\u001b[39m     delimiter,\n\u001b[32m   (...)\u001b[39m\u001b[32m    946\u001b[39m     defaults={\u001b[33m\"\u001b[39m\u001b[33mdelimiter\u001b[39m\u001b[33m\"\u001b[39m: \u001b[33m\"\u001b[39m\u001b[33m,\u001b[39m\u001b[33m\"\u001b[39m},\n\u001b[32m    947\u001b[39m )\n\u001b[32m    948\u001b[39m kwds.update(kwds_defaults)\n\u001b[32m--> \u001b[39m\u001b[32m950\u001b[39m \u001b[38;5;28;01mreturn\u001b[39;00m \u001b[43m_read\u001b[49m\u001b[43m(\u001b[49m\u001b[43mfilepath_or_buffer\u001b[49m\u001b[43m,\u001b[49m\u001b[43m \u001b[49m\u001b[43mkwds\u001b[49m\u001b[43m)\u001b[49m\n",
      "\u001b[36mFile \u001b[39m\u001b[32mc:\\Users\\Lenovo\\Desktop\\github_projects\\smart-invoice-analyzer\\venv\\Lib\\site-packages\\pandas\\io\\parsers\\readers.py:605\u001b[39m, in \u001b[36m_read\u001b[39m\u001b[34m(filepath_or_buffer, kwds)\u001b[39m\n\u001b[32m    602\u001b[39m _validate_names(kwds.get(\u001b[33m\"\u001b[39m\u001b[33mnames\u001b[39m\u001b[33m\"\u001b[39m, \u001b[38;5;28;01mNone\u001b[39;00m))\n\u001b[32m    604\u001b[39m \u001b[38;5;66;03m# Create the parser.\u001b[39;00m\n\u001b[32m--> \u001b[39m\u001b[32m605\u001b[39m parser = \u001b[43mTextFileReader\u001b[49m\u001b[43m(\u001b[49m\u001b[43mfilepath_or_buffer\u001b[49m\u001b[43m,\u001b[49m\u001b[43m \u001b[49m\u001b[43m*\u001b[49m\u001b[43m*\u001b[49m\u001b[43mkwds\u001b[49m\u001b[43m)\u001b[49m\n\u001b[32m    607\u001b[39m \u001b[38;5;28;01mif\u001b[39;00m chunksize \u001b[38;5;129;01mor\u001b[39;00m iterator:\n\u001b[32m    608\u001b[39m     \u001b[38;5;28;01mreturn\u001b[39;00m parser\n",
      "\u001b[36mFile \u001b[39m\u001b[32mc:\\Users\\Lenovo\\Desktop\\github_projects\\smart-invoice-analyzer\\venv\\Lib\\site-packages\\pandas\\io\\parsers\\readers.py:1442\u001b[39m, in \u001b[36mTextFileReader.__init__\u001b[39m\u001b[34m(self, f, engine, **kwds)\u001b[39m\n\u001b[32m   1439\u001b[39m     \u001b[38;5;28mself\u001b[39m.options[\u001b[33m\"\u001b[39m\u001b[33mhas_index_names\u001b[39m\u001b[33m\"\u001b[39m] = kwds[\u001b[33m\"\u001b[39m\u001b[33mhas_index_names\u001b[39m\u001b[33m\"\u001b[39m]\n\u001b[32m   1441\u001b[39m \u001b[38;5;28mself\u001b[39m.handles: IOHandles | \u001b[38;5;28;01mNone\u001b[39;00m = \u001b[38;5;28;01mNone\u001b[39;00m\n\u001b[32m-> \u001b[39m\u001b[32m1442\u001b[39m \u001b[38;5;28mself\u001b[39m._engine = \u001b[38;5;28;43mself\u001b[39;49m\u001b[43m.\u001b[49m\u001b[43m_make_engine\u001b[49m\u001b[43m(\u001b[49m\u001b[43mf\u001b[49m\u001b[43m,\u001b[49m\u001b[43m \u001b[49m\u001b[38;5;28;43mself\u001b[39;49m\u001b[43m.\u001b[49m\u001b[43mengine\u001b[49m\u001b[43m)\u001b[49m\n",
      "\u001b[36mFile \u001b[39m\u001b[32mc:\\Users\\Lenovo\\Desktop\\github_projects\\smart-invoice-analyzer\\venv\\Lib\\site-packages\\pandas\\io\\parsers\\readers.py:1735\u001b[39m, in \u001b[36mTextFileReader._make_engine\u001b[39m\u001b[34m(self, f, engine)\u001b[39m\n\u001b[32m   1733\u001b[39m     \u001b[38;5;28;01mif\u001b[39;00m \u001b[33m\"\u001b[39m\u001b[33mb\u001b[39m\u001b[33m\"\u001b[39m \u001b[38;5;129;01mnot\u001b[39;00m \u001b[38;5;129;01min\u001b[39;00m mode:\n\u001b[32m   1734\u001b[39m         mode += \u001b[33m\"\u001b[39m\u001b[33mb\u001b[39m\u001b[33m\"\u001b[39m\n\u001b[32m-> \u001b[39m\u001b[32m1735\u001b[39m \u001b[38;5;28mself\u001b[39m.handles = \u001b[43mget_handle\u001b[49m\u001b[43m(\u001b[49m\n\u001b[32m   1736\u001b[39m \u001b[43m    \u001b[49m\u001b[43mf\u001b[49m\u001b[43m,\u001b[49m\n\u001b[32m   1737\u001b[39m \u001b[43m    \u001b[49m\u001b[43mmode\u001b[49m\u001b[43m,\u001b[49m\n\u001b[32m   1738\u001b[39m \u001b[43m    \u001b[49m\u001b[43mencoding\u001b[49m\u001b[43m=\u001b[49m\u001b[38;5;28;43mself\u001b[39;49m\u001b[43m.\u001b[49m\u001b[43moptions\u001b[49m\u001b[43m.\u001b[49m\u001b[43mget\u001b[49m\u001b[43m(\u001b[49m\u001b[33;43m\"\u001b[39;49m\u001b[33;43mencoding\u001b[39;49m\u001b[33;43m\"\u001b[39;49m\u001b[43m,\u001b[49m\u001b[43m \u001b[49m\u001b[38;5;28;43;01mNone\u001b[39;49;00m\u001b[43m)\u001b[49m\u001b[43m,\u001b[49m\n\u001b[32m   1739\u001b[39m \u001b[43m    \u001b[49m\u001b[43mcompression\u001b[49m\u001b[43m=\u001b[49m\u001b[38;5;28;43mself\u001b[39;49m\u001b[43m.\u001b[49m\u001b[43moptions\u001b[49m\u001b[43m.\u001b[49m\u001b[43mget\u001b[49m\u001b[43m(\u001b[49m\u001b[33;43m\"\u001b[39;49m\u001b[33;43mcompression\u001b[39;49m\u001b[33;43m\"\u001b[39;49m\u001b[43m,\u001b[49m\u001b[43m \u001b[49m\u001b[38;5;28;43;01mNone\u001b[39;49;00m\u001b[43m)\u001b[49m\u001b[43m,\u001b[49m\n\u001b[32m   1740\u001b[39m \u001b[43m    \u001b[49m\u001b[43mmemory_map\u001b[49m\u001b[43m=\u001b[49m\u001b[38;5;28;43mself\u001b[39;49m\u001b[43m.\u001b[49m\u001b[43moptions\u001b[49m\u001b[43m.\u001b[49m\u001b[43mget\u001b[49m\u001b[43m(\u001b[49m\u001b[33;43m\"\u001b[39;49m\u001b[33;43mmemory_map\u001b[39;49m\u001b[33;43m\"\u001b[39;49m\u001b[43m,\u001b[49m\u001b[43m \u001b[49m\u001b[38;5;28;43;01mFalse\u001b[39;49;00m\u001b[43m)\u001b[49m\u001b[43m,\u001b[49m\n\u001b[32m   1741\u001b[39m \u001b[43m    \u001b[49m\u001b[43mis_text\u001b[49m\u001b[43m=\u001b[49m\u001b[43mis_text\u001b[49m\u001b[43m,\u001b[49m\n\u001b[32m   1742\u001b[39m \u001b[43m    \u001b[49m\u001b[43merrors\u001b[49m\u001b[43m=\u001b[49m\u001b[38;5;28;43mself\u001b[39;49m\u001b[43m.\u001b[49m\u001b[43moptions\u001b[49m\u001b[43m.\u001b[49m\u001b[43mget\u001b[49m\u001b[43m(\u001b[49m\u001b[33;43m\"\u001b[39;49m\u001b[33;43mencoding_errors\u001b[39;49m\u001b[33;43m\"\u001b[39;49m\u001b[43m,\u001b[49m\u001b[43m \u001b[49m\u001b[33;43m\"\u001b[39;49m\u001b[33;43mstrict\u001b[39;49m\u001b[33;43m\"\u001b[39;49m\u001b[43m)\u001b[49m\u001b[43m,\u001b[49m\n\u001b[32m   1743\u001b[39m \u001b[43m    \u001b[49m\u001b[43mstorage_options\u001b[49m\u001b[43m=\u001b[49m\u001b[38;5;28;43mself\u001b[39;49m\u001b[43m.\u001b[49m\u001b[43moptions\u001b[49m\u001b[43m.\u001b[49m\u001b[43mget\u001b[49m\u001b[43m(\u001b[49m\u001b[33;43m\"\u001b[39;49m\u001b[33;43mstorage_options\u001b[39;49m\u001b[33;43m\"\u001b[39;49m\u001b[43m,\u001b[49m\u001b[43m \u001b[49m\u001b[38;5;28;43;01mNone\u001b[39;49;00m\u001b[43m)\u001b[49m\u001b[43m,\u001b[49m\n\u001b[32m   1744\u001b[39m \u001b[43m\u001b[49m\u001b[43m)\u001b[49m\n\u001b[32m   1745\u001b[39m \u001b[38;5;28;01massert\u001b[39;00m \u001b[38;5;28mself\u001b[39m.handles \u001b[38;5;129;01mis\u001b[39;00m \u001b[38;5;129;01mnot\u001b[39;00m \u001b[38;5;28;01mNone\u001b[39;00m\n\u001b[32m   1746\u001b[39m f = \u001b[38;5;28mself\u001b[39m.handles.handle\n",
      "\u001b[36mFile \u001b[39m\u001b[32mc:\\Users\\Lenovo\\Desktop\\github_projects\\smart-invoice-analyzer\\venv\\Lib\\site-packages\\pandas\\io\\common.py:856\u001b[39m, in \u001b[36mget_handle\u001b[39m\u001b[34m(path_or_buf, mode, encoding, compression, memory_map, is_text, errors, storage_options)\u001b[39m\n\u001b[32m    851\u001b[39m \u001b[38;5;28;01melif\u001b[39;00m \u001b[38;5;28misinstance\u001b[39m(handle, \u001b[38;5;28mstr\u001b[39m):\n\u001b[32m    852\u001b[39m     \u001b[38;5;66;03m# Check whether the filename is to be opened in binary mode.\u001b[39;00m\n\u001b[32m    853\u001b[39m     \u001b[38;5;66;03m# Binary mode does not support 'encoding' and 'newline'.\u001b[39;00m\n\u001b[32m    854\u001b[39m     \u001b[38;5;28;01mif\u001b[39;00m ioargs.encoding \u001b[38;5;129;01mand\u001b[39;00m \u001b[33m\"\u001b[39m\u001b[33mb\u001b[39m\u001b[33m\"\u001b[39m \u001b[38;5;129;01mnot\u001b[39;00m \u001b[38;5;129;01min\u001b[39;00m ioargs.mode:\n\u001b[32m    855\u001b[39m         \u001b[38;5;66;03m# Encoding\u001b[39;00m\n\u001b[32m--> \u001b[39m\u001b[32m856\u001b[39m         handle = \u001b[38;5;28;43mopen\u001b[39;49m\u001b[43m(\u001b[49m\n\u001b[32m    857\u001b[39m \u001b[43m            \u001b[49m\u001b[43mhandle\u001b[49m\u001b[43m,\u001b[49m\n\u001b[32m    858\u001b[39m \u001b[43m            \u001b[49m\u001b[43mioargs\u001b[49m\u001b[43m.\u001b[49m\u001b[43mmode\u001b[49m\u001b[43m,\u001b[49m\n\u001b[32m    859\u001b[39m \u001b[43m            \u001b[49m\u001b[43mencoding\u001b[49m\u001b[43m=\u001b[49m\u001b[43mioargs\u001b[49m\u001b[43m.\u001b[49m\u001b[43mencoding\u001b[49m\u001b[43m,\u001b[49m\n\u001b[32m    860\u001b[39m \u001b[43m            \u001b[49m\u001b[43merrors\u001b[49m\u001b[43m=\u001b[49m\u001b[43merrors\u001b[49m\u001b[43m,\u001b[49m\n\u001b[32m    861\u001b[39m \u001b[43m            \u001b[49m\u001b[43mnewline\u001b[49m\u001b[43m=\u001b[49m\u001b[33;43m\"\u001b[39;49m\u001b[33;43m\"\u001b[39;49m\u001b[43m,\u001b[49m\n\u001b[32m    862\u001b[39m \u001b[43m        \u001b[49m\u001b[43m)\u001b[49m\n\u001b[32m    863\u001b[39m     \u001b[38;5;28;01melse\u001b[39;00m:\n\u001b[32m    864\u001b[39m         \u001b[38;5;66;03m# Binary mode\u001b[39;00m\n\u001b[32m    865\u001b[39m         handle = \u001b[38;5;28mopen\u001b[39m(handle, ioargs.mode)\n",
      "\u001b[31mFileNotFoundError\u001b[39m: [Errno 2] No such file or directory: './datasets/data.csv'"
     ]
    }
   ],
   "source": [
    "# Load dataset\n",
    "\n",
    "df = datasets.amazon()\n",
    "df"
   ]
  },
  {
   "cell_type": "code",
   "execution_count": 5,
   "id": "44c855ae",
   "metadata": {},
   "outputs": [],
   "source": [
    "# Removing the numbers\n",
    "df[\"name\"] = df[\"name\"].str.replace(r'\\d+', '', regex=True)"
   ]
  },
  {
   "cell_type": "code",
   "execution_count": 6,
   "id": "058422ae",
   "metadata": {},
   "outputs": [],
   "source": [
    "# Removing the punctuations\n",
    "df[\"name\"] = df[\"name\"].str.replace(r'[^\\w\\s]', '', regex=True)"
   ]
  },
  {
   "cell_type": "code",
   "execution_count": 7,
   "id": "fd3cf84c",
   "metadata": {},
   "outputs": [],
   "source": [
    "# Stopword removal\n",
    "def remove_stopwords(text):\n",
    "    \"\"\"Remove stopwords from text\"\"\"\n",
    "    if pd.isna(text):\n",
    "        return text\n",
    "    \n",
    "    # Get English stopwords\n",
    "    stop_words = set(stopwords.words('english'))\n",
    "    \n",
    "    # Tokenize the text\n",
    "    word_tokens = word_tokenize(text.lower())\n",
    "    \n",
    "    # Filter out stopwords\n",
    "    filtered_text = [word for word in word_tokens if word not in stop_words]\n",
    "    \n",
    "    return ' '.join(filtered_text)\n",
    "\n",
    "# Apply stopword removal\n",
    "df[\"name\"] = df[\"name\"].apply(remove_stopwords)"
   ]
  },
  {
   "cell_type": "code",
   "execution_count": 8,
   "id": "98333bf9",
   "metadata": {},
   "outputs": [
    {
     "data": {
      "application/vnd.microsoft.datawrangler.viewer.v0+json": {
       "columns": [
        {
         "name": "index",
         "rawType": "int64",
         "type": "integer"
        },
        {
         "name": "name",
         "rawType": "object",
         "type": "string"
        },
        {
         "name": "main_category",
         "rawType": "object",
         "type": "string"
        }
       ],
       "ref": "b4519f5e-a826-4c9b-a34c-6e58e6105273",
       "rows": [
        [
         "0",
         "lloyd ton star inverter split ac convertible copper antiviral pm filter model white glsi",
         "appliances"
        ],
        [
         "1",
         "lg ton star ai dual inverter split ac copper super convertible cooling hd filter antivirus protectio",
         "appliances"
        ],
        [
         "2",
         "lg ton star ai dual inverter split ac copper super convertible cooling hd filter anti virus protection",
         "appliances"
        ],
        [
         "3",
         "lg ton star ai dual inverter split ac copper super convertible cooling hd filter antivirus protectio",
         "appliances"
        ],
        [
         "4",
         "carrier ton star inverter split ac copperester dxi flexicool inverter modelrwhite",
         "appliances"
        ],
        [
         "5",
         "voltas ton star inverter split accopper adjustable cooling antidust filter model v vectra platina white",
         "appliances"
        ],
        [
         "6",
         "lloyd ton star inverter split ac convertible copper antiviral pm filter model white chr",
         "appliances"
        ],
        [
         "7",
         "lloyd ton star inverter split ac convertible copper antiviral pm filter model white chr",
         "appliances"
        ],
        [
         "8",
         "carrier ton star ai flexicool inverter split ac copper convertible coolingdual filtration hd pm f",
         "appliances"
        ],
        [
         "9",
         "voltas ton star inverter split accopper adjustable mode antidust filter model v dazj white",
         "appliances"
        ],
        [
         "10",
         "daikin ton star inverter split ac copper pm filter triple display dew clean technology coanda airflow",
         "appliances"
        ],
        [
         "11",
         "daikin ton star inverter split ac copper pm filter model mtkmu white",
         "appliances"
        ],
        [
         "12",
         "panasonic ton star wifi inverter smart split ac copper condenser convertible additional ai mode wa",
         "appliances"
        ],
        [
         "13",
         "carrier ton star ai flexicool inverter split ac copper convertible coolingdual filtration hd pm",
         "appliances"
        ],
        [
         "14",
         "whirlpool ton star flexicool inverter split ac copper convertible cooling mode hd filter model sk",
         "appliances"
        ],
        [
         "15",
         "samsung ton star inverter split ac copper convertible cooling mode easy filter plus antibacteria",
         "appliances"
        ],
        [
         "16",
         "lloyd ton star inverter split ac convertible copper antiviral pm filter model white chr",
         "appliances"
        ],
        [
         "17",
         "godrej ton star convertible inverter split ac copper heavy duty cooling c modelac e",
         "appliances"
        ],
        [
         "18",
         "godrej ton star inverter split ac model copperin convertible ac ei tinvrgwa split white",
         "appliances"
        ],
        [
         "19",
         "daikin ton star inverter split ac copper pm filter triple display dew clean technology coanda airflow mtkl",
         "appliances"
        ],
        [
         "20",
         "blue star ton star convertible cooling inverter split ac copper multi sensors stabalizer free operation",
         "appliances"
        ],
        [
         "21",
         "lg ton star dual inverter split ac copper convertible cooling hd filter antivirus protection",
         "appliances"
        ],
        [
         "22",
         "lg ton star ai dual inverter split ac copper super convertible cooling hd filter antivirus protectio",
         "appliances"
        ],
        [
         "23",
         "panasonic ton star wifi inverter smart split ac copper condenser convertible additional ai mode way",
         "appliances"
        ],
        [
         "24",
         "lloyd ton star fixed speed window ac copper model white silver deco strip glwcywsew",
         "appliances"
        ],
        [
         "25",
         "samsung ton star inverter split ac copper convertible cooling mode antibacteria model arcynzabe w",
         "appliances"
        ],
        [
         "26",
         "voltas ton star inverter window ac copper adjustable mode model v vertis elite white",
         "appliances"
        ],
        [
         "27",
         "samsung ton star inverter split ac copper convertible cooling mode easy filter plus antibacteria mo",
         "appliances"
        ],
        [
         "28",
         "lg ton star dual inverter wifi window ac copper convertible cooling pwqwuza model hd filter wh",
         "appliances"
        ],
        [
         "29",
         "godrej ton star convertible inverter split ac copperisense model ac ei tinvrgwaac",
         "appliances"
        ],
        [
         "30",
         "voltas ton star inverter split accopper adjustable mode antidust filter model v vectra elite wh",
         "appliances"
        ],
        [
         "31",
         "samsung ton star wifi enabled windfree technology inverter split ac copper convertible cooling mode ant",
         "appliances"
        ],
        [
         "32",
         "whirlpool ton star flexicool inverter split ac copper convertible cooling mode hd filter model sk",
         "appliances"
        ],
        [
         "33",
         "whirlpool ton star flexicool inverter split ac copper convertible cooling mode hd filter model si",
         "appliances"
        ],
        [
         "34",
         "voltas ton star inverter split accopper adjustable mode antidust filter model v vectra elite",
         "appliances"
        ],
        [
         "35",
         "lg ton star ai dual inverter split ac copper super convertible cooling hd filter anti virus protectio",
         "appliances"
        ],
        [
         "36",
         "daikin ton star inverter split ac copper pm filter model mtkmu white",
         "appliances"
        ],
        [
         "37",
         "blue star ton fixed speed portable ac copper anti bacterial silver coating self diagnosis comfort sleep modesautoc",
         "appliances"
        ],
        [
         "38",
         "blue star ton star fixed speed window ac copper turbo cool humidity control fan modesautohighmediumlow hydrop",
         "appliances"
        ],
        [
         "39",
         "panasonic ton star wifi inverter smart split ac copper condenser convertible additional ai mode pm",
         "appliances"
        ],
        [
         "40",
         "samsung ton star wifi enabled windfree technology inverter split ac copper convertible cooling mode anti",
         "appliances"
        ],
        [
         "41",
         "daikin ton star fixed speed split ac copper pm filter model ftlu white",
         "appliances"
        ],
        [
         "42",
         "carrier ton star fixed speed window ac copperhigh density filter dust filtration way air directional contro",
         "appliances"
        ],
        [
         "43",
         "ifb ton star heavy duty inverter split ac copper convertible flexi cooling pm filter model ci",
         "appliances"
        ],
        [
         "44",
         "blue star ton star inverter split ac copper turbo cool gold fins comfort sleep self clean technology multi sen",
         "appliances"
        ],
        [
         "45",
         "carrier ton star ai flexicool inverter split ac copper convertible coolingdual filtration hd pm f",
         "appliances"
        ],
        [
         "46",
         "blue star ton star convertible cooling inverter split ac copper multi sensors stabalizer free operation dus",
         "appliances"
        ],
        [
         "47",
         "cruise ton star inverter split ac stage air filtration copper convertible pm filter",
         "appliances"
        ],
        [
         "48",
         "amazonbasics ton star inverter split ac white air purifier copper",
         "appliances"
        ],
        [
         "49",
         "voltas ton star inverter split accopper adjustable mode antidust filter model v vectra elegant",
         "appliances"
        ]
       ],
       "shape": {
        "columns": 2,
        "rows": 1103170
       }
      },
      "text/html": [
       "<div>\n",
       "<style scoped>\n",
       "    .dataframe tbody tr th:only-of-type {\n",
       "        vertical-align: middle;\n",
       "    }\n",
       "\n",
       "    .dataframe tbody tr th {\n",
       "        vertical-align: top;\n",
       "    }\n",
       "\n",
       "    .dataframe thead th {\n",
       "        text-align: right;\n",
       "    }\n",
       "</style>\n",
       "<table border=\"1\" class=\"dataframe\">\n",
       "  <thead>\n",
       "    <tr style=\"text-align: right;\">\n",
       "      <th></th>\n",
       "      <th>name</th>\n",
       "      <th>main_category</th>\n",
       "    </tr>\n",
       "  </thead>\n",
       "  <tbody>\n",
       "    <tr>\n",
       "      <th>0</th>\n",
       "      <td>lloyd ton star inverter split ac convertible c...</td>\n",
       "      <td>appliances</td>\n",
       "    </tr>\n",
       "    <tr>\n",
       "      <th>1</th>\n",
       "      <td>lg ton star ai dual inverter split ac copper s...</td>\n",
       "      <td>appliances</td>\n",
       "    </tr>\n",
       "    <tr>\n",
       "      <th>2</th>\n",
       "      <td>lg ton star ai dual inverter split ac copper s...</td>\n",
       "      <td>appliances</td>\n",
       "    </tr>\n",
       "    <tr>\n",
       "      <th>3</th>\n",
       "      <td>lg ton star ai dual inverter split ac copper s...</td>\n",
       "      <td>appliances</td>\n",
       "    </tr>\n",
       "    <tr>\n",
       "      <th>4</th>\n",
       "      <td>carrier ton star inverter split ac copperester...</td>\n",
       "      <td>appliances</td>\n",
       "    </tr>\n",
       "    <tr>\n",
       "      <th>...</th>\n",
       "      <td>...</td>\n",
       "      <td>...</td>\n",
       "    </tr>\n",
       "    <tr>\n",
       "      <th>1103165</th>\n",
       "      <td>adidas regular fit mens track tops</td>\n",
       "      <td>sports &amp; fitness</td>\n",
       "    </tr>\n",
       "    <tr>\n",
       "      <th>1103166</th>\n",
       "      <td>redwolf noice toit smort hoodie black</td>\n",
       "      <td>sports &amp; fitness</td>\n",
       "    </tr>\n",
       "    <tr>\n",
       "      <th>1103167</th>\n",
       "      <td>redwolf schrute farms bb hoodie navy blue</td>\n",
       "      <td>sports &amp; fitness</td>\n",
       "    </tr>\n",
       "    <tr>\n",
       "      <th>1103168</th>\n",
       "      <td>puma men shorts</td>\n",
       "      <td>sports &amp; fitness</td>\n",
       "    </tr>\n",
       "    <tr>\n",
       "      <th>1103169</th>\n",
       "      <td>mothercare printed cotton elastane girls infan...</td>\n",
       "      <td>sports &amp; fitness</td>\n",
       "    </tr>\n",
       "  </tbody>\n",
       "</table>\n",
       "<p>1103170 rows × 2 columns</p>\n",
       "</div>"
      ],
      "text/plain": [
       "                                                      name     main_category\n",
       "0        lloyd ton star inverter split ac convertible c...        appliances\n",
       "1        lg ton star ai dual inverter split ac copper s...        appliances\n",
       "2        lg ton star ai dual inverter split ac copper s...        appliances\n",
       "3        lg ton star ai dual inverter split ac copper s...        appliances\n",
       "4        carrier ton star inverter split ac copperester...        appliances\n",
       "...                                                    ...               ...\n",
       "1103165                 adidas regular fit mens track tops  sports & fitness\n",
       "1103166              redwolf noice toit smort hoodie black  sports & fitness\n",
       "1103167          redwolf schrute farms bb hoodie navy blue  sports & fitness\n",
       "1103168                                    puma men shorts  sports & fitness\n",
       "1103169  mothercare printed cotton elastane girls infan...  sports & fitness\n",
       "\n",
       "[1103170 rows x 2 columns]"
      ]
     },
     "execution_count": 8,
     "metadata": {},
     "output_type": "execute_result"
    }
   ],
   "source": [
    "df"
   ]
  },
  {
   "cell_type": "code",
   "execution_count": 9,
   "id": "5302fc22",
   "metadata": {},
   "outputs": [
    {
     "name": "stdout",
     "output_type": "stream",
     "text": [
      "                         precision    recall  f1-score   support\n",
      "\n",
      "            accessories       0.90      0.96      0.93     46242\n",
      "             appliances       0.97      0.99      0.98     13209\n",
      "         bags & luggage       0.79      0.62      0.70      4248\n",
      "        beauty & health       0.93      0.93      0.93      4023\n",
      "        car & motorbike       0.95      0.92      0.93      2818\n",
      "grocery & gourmet foods       0.93      0.97      0.95      1337\n",
      "         home & kitchen       0.91      0.89      0.90      5774\n",
      "    industrial supplies       0.89      0.83      0.86      1624\n",
      "          kids' fashion       0.87      0.79      0.83      5367\n",
      "         men's clothing       0.96      0.99      0.97     30696\n",
      "            men's shoes       0.89      0.96      0.92     23077\n",
      "                  music       0.97      0.89      0.93       400\n",
      "           pet supplies       0.99      0.97      0.98       646\n",
      "       sports & fitness       0.82      0.71      0.76      4969\n",
      "                 stores       0.70      0.49      0.58     13146\n",
      "   toys & baby products       0.92      0.89      0.91      2491\n",
      "    tv, audio & cameras       0.98      0.99      0.98     27487\n",
      "       women's clothing       0.96      0.98      0.97     30824\n",
      "          women's shoes       0.91      0.93      0.92      2256\n",
      "\n",
      "               accuracy                           0.92    220634\n",
      "              macro avg       0.91      0.88      0.89    220634\n",
      "           weighted avg       0.92      0.92      0.92    220634\n",
      "\n"
     ]
    }
   ],
   "source": [
    "# BoW\n",
    "cv = CountVectorizer()\n",
    "X = cv.fit_transform(df[\"name\"])\n",
    "# Label Encoding\n",
    "le = LabelEncoder()\n",
    "y = le.fit_transform(df[\"main_category\"])\n",
    "# Model\n",
    "lr = models.LogisticRegression(max_iter=1000)\n",
    "lr = models.train_and_eval(X, y, classes=le.classes_, model=lr)"
   ]
  },
  {
   "cell_type": "code",
   "execution_count": null,
   "id": "578ebdb6",
   "metadata": {},
   "outputs": [],
   "source": [
    "models.save_model(lr, \"lr_full.pkl\")\n",
    "models.save_model(cv, \"vectorizer.pkl\")\n",
    "models.save_model(le, \"labelencoder.pkl\")"
   ]
  }
 ],
 "metadata": {
  "kernelspec": {
   "display_name": "venv",
   "language": "python",
   "name": "python3"
  },
  "language_info": {
   "codemirror_mode": {
    "name": "ipython",
    "version": 3
   },
   "file_extension": ".py",
   "mimetype": "text/x-python",
   "name": "python",
   "nbconvert_exporter": "python",
   "pygments_lexer": "ipython3",
   "version": "3.11.0"
  }
 },
 "nbformat": 4,
 "nbformat_minor": 5
}
