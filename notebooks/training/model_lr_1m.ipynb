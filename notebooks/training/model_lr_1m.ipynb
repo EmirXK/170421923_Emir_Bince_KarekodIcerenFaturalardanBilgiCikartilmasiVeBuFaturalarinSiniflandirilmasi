{
 "cells": [
  {
   "cell_type": "code",
   "execution_count": 3,
   "id": "cdd98ccd",
   "metadata": {},
   "outputs": [],
   "source": [
    "from module import models\n",
    "from module import datasets\n",
    "from sklearn.feature_extraction.text import CountVectorizer\n",
    "from sklearn.preprocessing import LabelEncoder\n",
    "import nltk\n",
    "import pandas as pd\n",
    "from nltk.corpus import stopwords\n",
    "from nltk.tokenize import word_tokenize"
   ]
  },
  {
   "cell_type": "code",
   "execution_count": 4,
   "id": "0f7496c7",
   "metadata": {},
   "outputs": [
    {
     "data": {
      "application/vnd.microsoft.datawrangler.viewer.v0+json": {
       "columns": [
        {
         "name": "index",
         "rawType": "int64",
         "type": "integer"
        },
        {
         "name": "name",
         "rawType": "object",
         "type": "string"
        },
        {
         "name": "main_category",
         "rawType": "object",
         "type": "string"
        }
       ],
       "ref": "e9f680d1-539d-4782-8eb9-f68845c96d62",
       "rows": [
        [
         "0",
         "Lloyd 1.5 Ton 3 Star Inverter Split Ac (5 In 1 Convertible, Copper, Anti-Viral + Pm 2.5 Filter, 2023 Model, White, Gls18I3...",
         "appliances"
        ],
        [
         "1",
         "LG 1.5 Ton 5 Star AI DUAL Inverter Split AC (Copper, Super Convertible 6-in-1 Cooling, HD Filter with Anti-Virus Protectio...",
         "appliances"
        ],
        [
         "2",
         "LG 1 Ton 4 Star Ai Dual Inverter Split Ac (Copper, Super Convertible 6-In-1 Cooling, Hd Filter With Anti Virus Protection,...",
         "appliances"
        ],
        [
         "3",
         "LG 1.5 Ton 3 Star AI DUAL Inverter Split AC (Copper, Super Convertible 6-in-1 Cooling, HD Filter with Anti-Virus Protectio...",
         "appliances"
        ],
        [
         "4",
         "Carrier 1.5 Ton 3 Star Inverter Split AC (Copper,ESTER Dxi, 4-in-1 Flexicool Inverter, 2022 Model,R32,White)",
         "appliances"
        ],
        [
         "5",
         "Voltas 1.4 Ton 3 Star Inverter Split AC(Copper, Adjustable Cooling, Anti-dust Filter, 2023 Model, 173V Vectra Platina, White)",
         "appliances"
        ],
        [
         "6",
         "Lloyd 1.0 Ton 3 Star Inverter Split Ac (5 In 1 Convertible, Copper, Anti-Viral + Pm 2.5 Filter, 2023 Model, White With Chr...",
         "appliances"
        ],
        [
         "7",
         "Lloyd 1.5 Ton 5 Star Inverter Split Ac (5 In 1 Convertible, Copper, Anti-Viral + Pm 2.5 Filter, 2023 Model, White With Chr...",
         "appliances"
        ],
        [
         "8",
         "Carrier 1 Ton 3 Star AI Flexicool Inverter Split AC (Copper, Convertible 4-in-1 Cooling,Dual Filtration with HD & PM 2.5 F...",
         "appliances"
        ],
        [
         "9",
         "Voltas 1.5 Ton, 5 Star, Inverter Split AC(Copper, 4-in-1 Adjustable Mode, Anti-dust Filter, 2023 Model, 185V DAZJ, White)",
         "appliances"
        ],
        [
         "10",
         "Daikin 1 Ton 3 Star Inverter Split AC (Copper, PM 2.5 Filter, Triple Display, Dew Clean Technology, Coanda Airflow, 2023 M...",
         "appliances"
        ],
        [
         "11",
         "Daikin 1.5 Ton 5 Star Inverter Split AC (Copper, PM 2.5 Filter, 2022 Model, MTKM50U, White)",
         "appliances"
        ],
        [
         "12",
         "Panasonic 1.5 Ton 5 Star Wi-Fi Inverter Smart Split AC (Copper Condenser, 7 in 1 Convertible with additional AI Mode, 4 Wa...",
         "appliances"
        ],
        [
         "13",
         "Carrier 1.5 Ton 5 Star AI Flexicool Inverter Split AC (Copper, Convertible 6-in-1 Cooling,Dual Filtration with HD & PM 2.5...",
         "appliances"
        ],
        [
         "14",
         "Whirlpool 1.5 Ton 3 Star, Flexicool Inverter Split AC (Copper, Convertible 4-in-1 Cooling Mode, HD Filter 2023 Model, S3K1...",
         "appliances"
        ],
        [
         "15",
         "Samsung 1.5 Ton 3 Star Inverter Split AC (Copper, Convertible 5-in-1 Cooling Mode, Easy Filter Plus (Anti-Bacteria), 2023 ...",
         "appliances"
        ],
        [
         "16",
         "Lloyd 1.0 Ton 5 Star Inverter Split Ac (5 In 1 Convertible, Copper, Anti-Viral + Pm 2.5 Filter, 2023 Model, White With Chr...",
         "appliances"
        ],
        [
         "17",
         "Godrej 1.5 Ton 5 Star 5-In-1 Convertible, Inverter Split AC (100% Copper, Heavy Duty Cooling at 52°C, 2023 Model,AC 1.5T E...",
         "appliances"
        ],
        [
         "18",
         "Godrej 1 Ton 3 Star Inverter Split Ac Model 2023 (100% Copper,5-In-1 Convertible, Ac 1T Ei 12Tinv3R32-Gwa Split, White)",
         "appliances"
        ],
        [
         "19",
         "Daikin 1.5 Ton 3 Star Inverter Split AC (Copper, PM 2.5 Filter, Triple Display, Dew Clean Technology, Coanda Airflow, MTKL...",
         "appliances"
        ],
        [
         "20",
         "Blue Star 1.5 Ton 3 Star Convertible 4 in 1 Cooling Inverter Split AC (Copper, Multi Sensors, Stabalizer Free Operation, D...",
         "appliances"
        ],
        [
         "21",
         "LG 1.5 Ton 2 Star DUAL Inverter Split AC (Copper, Convertible 4-in-1 Cooling, HD Filter with Anti-virus Protection, 2023 M...",
         "appliances"
        ],
        [
         "22",
         "LG 1.5 Ton 4 Star AI DUAL Inverter Split AC (Copper, Super Convertible 6-in-1 Cooling, HD Filter with Anti-Virus Protectio...",
         "appliances"
        ],
        [
         "23",
         "Panasonic 1 Ton 5 Star Wi-Fi Inverter Smart Split AC (Copper Condenser, 7 in 1 Convertible with additional AI Mode, 4 Way ...",
         "appliances"
        ],
        [
         "24",
         "Lloyd 1.5 Ton 3 Star Fixed Speed Window Ac (Copper, 2023 Model, White With Silver Deco Strip, Glw18C3Ywsew)",
         "appliances"
        ],
        [
         "25",
         "Samsung 1.5 Ton 5 Star Inverter Split AC (Copper, Convertible 5-in-1 Cooling Mode, Anti-Bacteria, 2023 Model AR18CYNZABE W...",
         "appliances"
        ],
        [
         "26",
         "Voltas 1.5 Ton 5 Star, Inverter Window AC (Copper, 2-in-1 Adjustable Mode, 2023 Model, 185V Vertis Elite, White)",
         "appliances"
        ],
        [
         "27",
         "Samsung 1 Ton 3 Star Inverter Split Ac (Copper, Convertible 5-In-1 Cooling Mode, Easy Filter Plus (Anti-Bacteria), 2023 Mo...",
         "appliances"
        ],
        [
         "28",
         "LG 1.0 Ton 5 Star DUAL Inverter Wi-Fi Window AC (Copper, Convertible 4-in-1 cooling, PW-Q12WUZA, 2022 Model, HD Filter, Wh...",
         "appliances"
        ],
        [
         "29",
         "Godrej 1.5 Ton 3 Star 5-In-1 Convertible, Inverter Split AC (100% Copper,I-Sense, 2023 Model, AC 1.5T EI 18TINV3R32-GWA/AC...",
         "appliances"
        ],
        [
         "30",
         "Voltas 2 Ton 3 Star, Inverter Split AC(Copper, 4-in-1 Adjustable Mode, Anti-dust Filter, 2023 Model, 243V Vectra Elite, Wh...",
         "appliances"
        ],
        [
         "31",
         "Samsung 1.5 Ton 3 Star Wi-fi Enabled, Wind-Free Technology Inverter Split AC (Copper, Convertible 5-in-1 Cooling Mode, Ant...",
         "appliances"
        ],
        [
         "32",
         "Whirlpool 1.0 Ton 3 Star, Flexicool Inverter Split AC (Copper, Convertible 4-in-1 Cooling Mode, HD Filter 2023 Model, S3K1...",
         "appliances"
        ],
        [
         "33",
         "Whirlpool 1.5 Ton 5 Star, Flexicool Inverter Split AC (Copper, Convertible 4-in-1 Cooling Mode, HD Filter 2023 Model, S3I3...",
         "appliances"
        ],
        [
         "34",
         "Voltas 0.8 Ton 3 Star, Inverter Split AC(Copper, 4-in-1 Adjustable Mode, Anti-dust Filter, 2023 Model, 103V Vectra Elite, ...",
         "appliances"
        ],
        [
         "35",
         "LG 0.8 Ton 3 Star AI DUAL Inverter Split AC (Copper, Super Convertible 6-in-1 Cooling, HD Filter with Anti Virus protectio...",
         "appliances"
        ],
        [
         "36",
         "Daikin 1 Ton 5 Star Inverter Split AC (Copper, PM 2.5 Filter, 2022 Model, MTKM35U, White)",
         "appliances"
        ],
        [
         "37",
         "Blue Star 1 Ton Fixed Speed Portable AC (Copper, Anti Bacterial Silver Coating, Self Diagnosis, Comfort Sleep Modes-Auto/C...",
         "appliances"
        ],
        [
         "38",
         "Blue Star 1 Ton 3 Star Fixed Speed Window AC (Copper, Turbo Cool, Humidity Control, Fan Modes-Auto/High/Medium/Low, Hydrop...",
         "appliances"
        ],
        [
         "39",
         "Panasonic 1.5 Ton 3 Star Wi-Fi Inverter Smart Split AC (Copper Condenser, 7 in 1 Convertible with additional AI Mode, PM ...",
         "appliances"
        ],
        [
         "40",
         "Samsung 1 Ton 3 Star Wi-fi Enabled, Wind-Free Technology Inverter Split AC (Copper, Convertible 5-in-1 Cooling Mode, Anti-...",
         "appliances"
        ],
        [
         "41",
         "Daikin 1.5 Ton 3 Star Fixed Speed Split AC (Copper, PM 2.5 Filter, 2022 Model, FTL50U, White)",
         "appliances"
        ],
        [
         "42",
         "Carrier 1.5 Ton 3 Star Fixed Speed Window AC( Copper,High Density Filter for Dust Filtration, 2Way Air Directional Contro...",
         "appliances"
        ],
        [
         "43",
         "IFB 1.5 Ton 3 Star Heavy Duty Inverter Split AC (Copper, Convertible Flexi 8-in-1 Cooling, PM 0.3 Filter, 2022 Model, CI18...",
         "appliances"
        ],
        [
         "44",
         "Blue Star 0.8 Ton 3 Star Inverter Split Ac (Copper, Turbo Cool, Gold Fins, Comfort Sleep, Self Clean Technology, Multi Sen...",
         "appliances"
        ],
        [
         "45",
         "Carrier 2 Ton 5 Star AI Flexicool Inverter Split AC (Copper, Convertible 6-in-1 Cooling,Dual Filtration with HD & PM 2.5 F...",
         "appliances"
        ],
        [
         "46",
         "Blue Star 1 Ton 3 Star Convertible 4 in 1 Cooling Inverter Split AC (Copper, Multi Sensors, Stabalizer Free Operation, Dus...",
         "appliances"
        ],
        [
         "47",
         "Cruise 1.5 Ton 3 Star Inverter Split AC with 7-Stage Air Filtration (100% Copper, Convertible 4-in-1, PM 2.5 Filter, 2022 ...",
         "appliances"
        ],
        [
         "48",
         "AmazonBasics 1.5 Ton 5 Star Inverter Split AC (White, Air Purifier, Copper)",
         "appliances"
        ],
        [
         "49",
         "Voltas 1 Ton 3 Star, Inverter Split AC(Copper, 4-in-1 Adjustable Mode, Anti-dust Filter, 2023 Model, 123V Vectra Elegant, ...",
         "appliances"
        ]
       ],
       "shape": {
        "columns": 2,
        "rows": 1103170
       }
      },
      "text/html": [
       "<div>\n",
       "<style scoped>\n",
       "    .dataframe tbody tr th:only-of-type {\n",
       "        vertical-align: middle;\n",
       "    }\n",
       "\n",
       "    .dataframe tbody tr th {\n",
       "        vertical-align: top;\n",
       "    }\n",
       "\n",
       "    .dataframe thead th {\n",
       "        text-align: right;\n",
       "    }\n",
       "</style>\n",
       "<table border=\"1\" class=\"dataframe\">\n",
       "  <thead>\n",
       "    <tr style=\"text-align: right;\">\n",
       "      <th></th>\n",
       "      <th>name</th>\n",
       "      <th>main_category</th>\n",
       "    </tr>\n",
       "  </thead>\n",
       "  <tbody>\n",
       "    <tr>\n",
       "      <th>0</th>\n",
       "      <td>Lloyd 1.5 Ton 3 Star Inverter Split Ac (5 In 1...</td>\n",
       "      <td>appliances</td>\n",
       "    </tr>\n",
       "    <tr>\n",
       "      <th>1</th>\n",
       "      <td>LG 1.5 Ton 5 Star AI DUAL Inverter Split AC (C...</td>\n",
       "      <td>appliances</td>\n",
       "    </tr>\n",
       "    <tr>\n",
       "      <th>2</th>\n",
       "      <td>LG 1 Ton 4 Star Ai Dual Inverter Split Ac (Cop...</td>\n",
       "      <td>appliances</td>\n",
       "    </tr>\n",
       "    <tr>\n",
       "      <th>3</th>\n",
       "      <td>LG 1.5 Ton 3 Star AI DUAL Inverter Split AC (C...</td>\n",
       "      <td>appliances</td>\n",
       "    </tr>\n",
       "    <tr>\n",
       "      <th>4</th>\n",
       "      <td>Carrier 1.5 Ton 3 Star Inverter Split AC (Copp...</td>\n",
       "      <td>appliances</td>\n",
       "    </tr>\n",
       "    <tr>\n",
       "      <th>...</th>\n",
       "      <td>...</td>\n",
       "      <td>...</td>\n",
       "    </tr>\n",
       "    <tr>\n",
       "      <th>1103165</th>\n",
       "      <td>Adidas Regular Fit Men's Track Tops</td>\n",
       "      <td>sports &amp; fitness</td>\n",
       "    </tr>\n",
       "    <tr>\n",
       "      <th>1103166</th>\n",
       "      <td>Redwolf Noice Toit Smort - Hoodie (Black)</td>\n",
       "      <td>sports &amp; fitness</td>\n",
       "    </tr>\n",
       "    <tr>\n",
       "      <th>1103167</th>\n",
       "      <td>Redwolf Schrute Farms B&amp;B - Hoodie (Navy Blue)</td>\n",
       "      <td>sports &amp; fitness</td>\n",
       "    </tr>\n",
       "    <tr>\n",
       "      <th>1103168</th>\n",
       "      <td>Puma Men Shorts</td>\n",
       "      <td>sports &amp; fitness</td>\n",
       "    </tr>\n",
       "    <tr>\n",
       "      <th>1103169</th>\n",
       "      <td>Mothercare Printed Cotton Elastane Girls Infan...</td>\n",
       "      <td>sports &amp; fitness</td>\n",
       "    </tr>\n",
       "  </tbody>\n",
       "</table>\n",
       "<p>1103170 rows × 2 columns</p>\n",
       "</div>"
      ],
      "text/plain": [
       "                                                      name     main_category\n",
       "0        Lloyd 1.5 Ton 3 Star Inverter Split Ac (5 In 1...        appliances\n",
       "1        LG 1.5 Ton 5 Star AI DUAL Inverter Split AC (C...        appliances\n",
       "2        LG 1 Ton 4 Star Ai Dual Inverter Split Ac (Cop...        appliances\n",
       "3        LG 1.5 Ton 3 Star AI DUAL Inverter Split AC (C...        appliances\n",
       "4        Carrier 1.5 Ton 3 Star Inverter Split AC (Copp...        appliances\n",
       "...                                                    ...               ...\n",
       "1103165                Adidas Regular Fit Men's Track Tops  sports & fitness\n",
       "1103166          Redwolf Noice Toit Smort - Hoodie (Black)  sports & fitness\n",
       "1103167     Redwolf Schrute Farms B&B - Hoodie (Navy Blue)  sports & fitness\n",
       "1103168                                    Puma Men Shorts  sports & fitness\n",
       "1103169  Mothercare Printed Cotton Elastane Girls Infan...  sports & fitness\n",
       "\n",
       "[1103170 rows x 2 columns]"
      ]
     },
     "execution_count": 4,
     "metadata": {},
     "output_type": "execute_result"
    }
   ],
   "source": [
    "# Load dataset\n",
    "\n",
    "df = datasets.amazon()\n",
    "df"
   ]
  },
  {
   "cell_type": "code",
   "execution_count": 5,
   "id": "44c855ae",
   "metadata": {},
   "outputs": [],
   "source": [
    "# Removing the numbers\n",
    "df[\"name\"] = df[\"name\"].str.replace(r'\\d+', '', regex=True)"
   ]
  },
  {
   "cell_type": "code",
   "execution_count": 6,
   "id": "058422ae",
   "metadata": {},
   "outputs": [],
   "source": [
    "# Removing the punctuations\n",
    "df[\"name\"] = df[\"name\"].str.replace(r'[^\\w\\s]', '', regex=True)"
   ]
  },
  {
   "cell_type": "code",
   "execution_count": 7,
   "id": "fd3cf84c",
   "metadata": {},
   "outputs": [],
   "source": [
    "# Stopword removal\n",
    "def remove_stopwords(text):\n",
    "    \"\"\"Remove stopwords from text\"\"\"\n",
    "    if pd.isna(text):\n",
    "        return text\n",
    "    \n",
    "    # Get English stopwords\n",
    "    stop_words = set(stopwords.words('english'))\n",
    "    \n",
    "    # Tokenize the text\n",
    "    word_tokens = word_tokenize(text.lower())\n",
    "    \n",
    "    # Filter out stopwords\n",
    "    filtered_text = [word for word in word_tokens if word not in stop_words]\n",
    "    \n",
    "    return ' '.join(filtered_text)\n",
    "\n",
    "# Apply stopword removal\n",
    "df[\"name\"] = df[\"name\"].apply(remove_stopwords)"
   ]
  },
  {
   "cell_type": "code",
   "execution_count": 8,
   "id": "98333bf9",
   "metadata": {},
   "outputs": [
    {
     "data": {
      "application/vnd.microsoft.datawrangler.viewer.v0+json": {
       "columns": [
        {
         "name": "index",
         "rawType": "int64",
         "type": "integer"
        },
        {
         "name": "name",
         "rawType": "object",
         "type": "string"
        },
        {
         "name": "main_category",
         "rawType": "object",
         "type": "string"
        }
       ],
       "ref": "b4519f5e-a826-4c9b-a34c-6e58e6105273",
       "rows": [
        [
         "0",
         "lloyd ton star inverter split ac convertible copper antiviral pm filter model white glsi",
         "appliances"
        ],
        [
         "1",
         "lg ton star ai dual inverter split ac copper super convertible cooling hd filter antivirus protectio",
         "appliances"
        ],
        [
         "2",
         "lg ton star ai dual inverter split ac copper super convertible cooling hd filter anti virus protection",
         "appliances"
        ],
        [
         "3",
         "lg ton star ai dual inverter split ac copper super convertible cooling hd filter antivirus protectio",
         "appliances"
        ],
        [
         "4",
         "carrier ton star inverter split ac copperester dxi flexicool inverter modelrwhite",
         "appliances"
        ],
        [
         "5",
         "voltas ton star inverter split accopper adjustable cooling antidust filter model v vectra platina white",
         "appliances"
        ],
        [
         "6",
         "lloyd ton star inverter split ac convertible copper antiviral pm filter model white chr",
         "appliances"
        ],
        [
         "7",
         "lloyd ton star inverter split ac convertible copper antiviral pm filter model white chr",
         "appliances"
        ],
        [
         "8",
         "carrier ton star ai flexicool inverter split ac copper convertible coolingdual filtration hd pm f",
         "appliances"
        ],
        [
         "9",
         "voltas ton star inverter split accopper adjustable mode antidust filter model v dazj white",
         "appliances"
        ],
        [
         "10",
         "daikin ton star inverter split ac copper pm filter triple display dew clean technology coanda airflow",
         "appliances"
        ],
        [
         "11",
         "daikin ton star inverter split ac copper pm filter model mtkmu white",
         "appliances"
        ],
        [
         "12",
         "panasonic ton star wifi inverter smart split ac copper condenser convertible additional ai mode wa",
         "appliances"
        ],
        [
         "13",
         "carrier ton star ai flexicool inverter split ac copper convertible coolingdual filtration hd pm",
         "appliances"
        ],
        [
         "14",
         "whirlpool ton star flexicool inverter split ac copper convertible cooling mode hd filter model sk",
         "appliances"
        ],
        [
         "15",
         "samsung ton star inverter split ac copper convertible cooling mode easy filter plus antibacteria",
         "appliances"
        ],
        [
         "16",
         "lloyd ton star inverter split ac convertible copper antiviral pm filter model white chr",
         "appliances"
        ],
        [
         "17",
         "godrej ton star convertible inverter split ac copper heavy duty cooling c modelac e",
         "appliances"
        ],
        [
         "18",
         "godrej ton star inverter split ac model copperin convertible ac ei tinvrgwa split white",
         "appliances"
        ],
        [
         "19",
         "daikin ton star inverter split ac copper pm filter triple display dew clean technology coanda airflow mtkl",
         "appliances"
        ],
        [
         "20",
         "blue star ton star convertible cooling inverter split ac copper multi sensors stabalizer free operation",
         "appliances"
        ],
        [
         "21",
         "lg ton star dual inverter split ac copper convertible cooling hd filter antivirus protection",
         "appliances"
        ],
        [
         "22",
         "lg ton star ai dual inverter split ac copper super convertible cooling hd filter antivirus protectio",
         "appliances"
        ],
        [
         "23",
         "panasonic ton star wifi inverter smart split ac copper condenser convertible additional ai mode way",
         "appliances"
        ],
        [
         "24",
         "lloyd ton star fixed speed window ac copper model white silver deco strip glwcywsew",
         "appliances"
        ],
        [
         "25",
         "samsung ton star inverter split ac copper convertible cooling mode antibacteria model arcynzabe w",
         "appliances"
        ],
        [
         "26",
         "voltas ton star inverter window ac copper adjustable mode model v vertis elite white",
         "appliances"
        ],
        [
         "27",
         "samsung ton star inverter split ac copper convertible cooling mode easy filter plus antibacteria mo",
         "appliances"
        ],
        [
         "28",
         "lg ton star dual inverter wifi window ac copper convertible cooling pwqwuza model hd filter wh",
         "appliances"
        ],
        [
         "29",
         "godrej ton star convertible inverter split ac copperisense model ac ei tinvrgwaac",
         "appliances"
        ],
        [
         "30",
         "voltas ton star inverter split accopper adjustable mode antidust filter model v vectra elite wh",
         "appliances"
        ],
        [
         "31",
         "samsung ton star wifi enabled windfree technology inverter split ac copper convertible cooling mode ant",
         "appliances"
        ],
        [
         "32",
         "whirlpool ton star flexicool inverter split ac copper convertible cooling mode hd filter model sk",
         "appliances"
        ],
        [
         "33",
         "whirlpool ton star flexicool inverter split ac copper convertible cooling mode hd filter model si",
         "appliances"
        ],
        [
         "34",
         "voltas ton star inverter split accopper adjustable mode antidust filter model v vectra elite",
         "appliances"
        ],
        [
         "35",
         "lg ton star ai dual inverter split ac copper super convertible cooling hd filter anti virus protectio",
         "appliances"
        ],
        [
         "36",
         "daikin ton star inverter split ac copper pm filter model mtkmu white",
         "appliances"
        ],
        [
         "37",
         "blue star ton fixed speed portable ac copper anti bacterial silver coating self diagnosis comfort sleep modesautoc",
         "appliances"
        ],
        [
         "38",
         "blue star ton star fixed speed window ac copper turbo cool humidity control fan modesautohighmediumlow hydrop",
         "appliances"
        ],
        [
         "39",
         "panasonic ton star wifi inverter smart split ac copper condenser convertible additional ai mode pm",
         "appliances"
        ],
        [
         "40",
         "samsung ton star wifi enabled windfree technology inverter split ac copper convertible cooling mode anti",
         "appliances"
        ],
        [
         "41",
         "daikin ton star fixed speed split ac copper pm filter model ftlu white",
         "appliances"
        ],
        [
         "42",
         "carrier ton star fixed speed window ac copperhigh density filter dust filtration way air directional contro",
         "appliances"
        ],
        [
         "43",
         "ifb ton star heavy duty inverter split ac copper convertible flexi cooling pm filter model ci",
         "appliances"
        ],
        [
         "44",
         "blue star ton star inverter split ac copper turbo cool gold fins comfort sleep self clean technology multi sen",
         "appliances"
        ],
        [
         "45",
         "carrier ton star ai flexicool inverter split ac copper convertible coolingdual filtration hd pm f",
         "appliances"
        ],
        [
         "46",
         "blue star ton star convertible cooling inverter split ac copper multi sensors stabalizer free operation dus",
         "appliances"
        ],
        [
         "47",
         "cruise ton star inverter split ac stage air filtration copper convertible pm filter",
         "appliances"
        ],
        [
         "48",
         "amazonbasics ton star inverter split ac white air purifier copper",
         "appliances"
        ],
        [
         "49",
         "voltas ton star inverter split accopper adjustable mode antidust filter model v vectra elegant",
         "appliances"
        ]
       ],
       "shape": {
        "columns": 2,
        "rows": 1103170
       }
      },
      "text/html": [
       "<div>\n",
       "<style scoped>\n",
       "    .dataframe tbody tr th:only-of-type {\n",
       "        vertical-align: middle;\n",
       "    }\n",
       "\n",
       "    .dataframe tbody tr th {\n",
       "        vertical-align: top;\n",
       "    }\n",
       "\n",
       "    .dataframe thead th {\n",
       "        text-align: right;\n",
       "    }\n",
       "</style>\n",
       "<table border=\"1\" class=\"dataframe\">\n",
       "  <thead>\n",
       "    <tr style=\"text-align: right;\">\n",
       "      <th></th>\n",
       "      <th>name</th>\n",
       "      <th>main_category</th>\n",
       "    </tr>\n",
       "  </thead>\n",
       "  <tbody>\n",
       "    <tr>\n",
       "      <th>0</th>\n",
       "      <td>lloyd ton star inverter split ac convertible c...</td>\n",
       "      <td>appliances</td>\n",
       "    </tr>\n",
       "    <tr>\n",
       "      <th>1</th>\n",
       "      <td>lg ton star ai dual inverter split ac copper s...</td>\n",
       "      <td>appliances</td>\n",
       "    </tr>\n",
       "    <tr>\n",
       "      <th>2</th>\n",
       "      <td>lg ton star ai dual inverter split ac copper s...</td>\n",
       "      <td>appliances</td>\n",
       "    </tr>\n",
       "    <tr>\n",
       "      <th>3</th>\n",
       "      <td>lg ton star ai dual inverter split ac copper s...</td>\n",
       "      <td>appliances</td>\n",
       "    </tr>\n",
       "    <tr>\n",
       "      <th>4</th>\n",
       "      <td>carrier ton star inverter split ac copperester...</td>\n",
       "      <td>appliances</td>\n",
       "    </tr>\n",
       "    <tr>\n",
       "      <th>...</th>\n",
       "      <td>...</td>\n",
       "      <td>...</td>\n",
       "    </tr>\n",
       "    <tr>\n",
       "      <th>1103165</th>\n",
       "      <td>adidas regular fit mens track tops</td>\n",
       "      <td>sports &amp; fitness</td>\n",
       "    </tr>\n",
       "    <tr>\n",
       "      <th>1103166</th>\n",
       "      <td>redwolf noice toit smort hoodie black</td>\n",
       "      <td>sports &amp; fitness</td>\n",
       "    </tr>\n",
       "    <tr>\n",
       "      <th>1103167</th>\n",
       "      <td>redwolf schrute farms bb hoodie navy blue</td>\n",
       "      <td>sports &amp; fitness</td>\n",
       "    </tr>\n",
       "    <tr>\n",
       "      <th>1103168</th>\n",
       "      <td>puma men shorts</td>\n",
       "      <td>sports &amp; fitness</td>\n",
       "    </tr>\n",
       "    <tr>\n",
       "      <th>1103169</th>\n",
       "      <td>mothercare printed cotton elastane girls infan...</td>\n",
       "      <td>sports &amp; fitness</td>\n",
       "    </tr>\n",
       "  </tbody>\n",
       "</table>\n",
       "<p>1103170 rows × 2 columns</p>\n",
       "</div>"
      ],
      "text/plain": [
       "                                                      name     main_category\n",
       "0        lloyd ton star inverter split ac convertible c...        appliances\n",
       "1        lg ton star ai dual inverter split ac copper s...        appliances\n",
       "2        lg ton star ai dual inverter split ac copper s...        appliances\n",
       "3        lg ton star ai dual inverter split ac copper s...        appliances\n",
       "4        carrier ton star inverter split ac copperester...        appliances\n",
       "...                                                    ...               ...\n",
       "1103165                 adidas regular fit mens track tops  sports & fitness\n",
       "1103166              redwolf noice toit smort hoodie black  sports & fitness\n",
       "1103167          redwolf schrute farms bb hoodie navy blue  sports & fitness\n",
       "1103168                                    puma men shorts  sports & fitness\n",
       "1103169  mothercare printed cotton elastane girls infan...  sports & fitness\n",
       "\n",
       "[1103170 rows x 2 columns]"
      ]
     },
     "execution_count": 8,
     "metadata": {},
     "output_type": "execute_result"
    }
   ],
   "source": [
    "df"
   ]
  },
  {
   "cell_type": "code",
   "execution_count": 9,
   "id": "5302fc22",
   "metadata": {},
   "outputs": [
    {
     "name": "stdout",
     "output_type": "stream",
     "text": [
      "                         precision    recall  f1-score   support\n",
      "\n",
      "            accessories       0.90      0.96      0.93     46242\n",
      "             appliances       0.97      0.99      0.98     13209\n",
      "         bags & luggage       0.79      0.62      0.70      4248\n",
      "        beauty & health       0.93      0.93      0.93      4023\n",
      "        car & motorbike       0.95      0.92      0.93      2818\n",
      "grocery & gourmet foods       0.93      0.97      0.95      1337\n",
      "         home & kitchen       0.91      0.89      0.90      5774\n",
      "    industrial supplies       0.89      0.83      0.86      1624\n",
      "          kids' fashion       0.87      0.79      0.83      5367\n",
      "         men's clothing       0.96      0.99      0.97     30696\n",
      "            men's shoes       0.89      0.96      0.92     23077\n",
      "                  music       0.97      0.89      0.93       400\n",
      "           pet supplies       0.99      0.97      0.98       646\n",
      "       sports & fitness       0.82      0.71      0.76      4969\n",
      "                 stores       0.70      0.49      0.58     13146\n",
      "   toys & baby products       0.92      0.89      0.91      2491\n",
      "    tv, audio & cameras       0.98      0.99      0.98     27487\n",
      "       women's clothing       0.96      0.98      0.97     30824\n",
      "          women's shoes       0.91      0.93      0.92      2256\n",
      "\n",
      "               accuracy                           0.92    220634\n",
      "              macro avg       0.91      0.88      0.89    220634\n",
      "           weighted avg       0.92      0.92      0.92    220634\n",
      "\n"
     ]
    }
   ],
   "source": [
    "# BoW\n",
    "cv = CountVectorizer()\n",
    "X = cv.fit_transform(df[\"name\"])\n",
    "# Label Encoding\n",
    "le = LabelEncoder()\n",
    "y = le.fit_transform(df[\"main_category\"])\n",
    "# Model\n",
    "lr = models.LogisticRegression(max_iter=1000)\n",
    "lr = models.train_and_eval(X, y, classes=le.classes_, model=lr)"
   ]
  },
  {
   "cell_type": "code",
   "execution_count": 10,
   "id": "578ebdb6",
   "metadata": {},
   "outputs": [],
   "source": [
    "models.save_model(lr, \"lr_full.pkl\")\n",
    "models.save_model(cv, \"vectorizer.pkl\")\n",
    "models.save_model(le, \"labelencoder.pkl\")"
   ]
  }
 ],
 "metadata": {
  "kernelspec": {
   "display_name": "venv",
   "language": "python",
   "name": "python3"
  },
  "language_info": {
   "codemirror_mode": {
    "name": "ipython",
    "version": 3
   },
   "file_extension": ".py",
   "mimetype": "text/x-python",
   "name": "python",
   "nbconvert_exporter": "python",
   "pygments_lexer": "ipython3",
   "version": "3.12.3"
  }
 },
 "nbformat": 4,
 "nbformat_minor": 5
}
