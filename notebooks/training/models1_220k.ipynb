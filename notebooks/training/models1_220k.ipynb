{
 "cells": [
  {
   "cell_type": "code",
   "execution_count": 1,
   "id": "f9a3c1cc",
   "metadata": {},
   "outputs": [
    {
     "name": "stderr",
     "output_type": "stream",
     "text": [
      "/home/yegekucuk/venv/bitirme/lib/python3.12/site-packages/tqdm/auto.py:21: TqdmWarning: IProgress not found. Please update jupyter and ipywidgets. See https://ipywidgets.readthedocs.io/en/stable/user_install.html\n",
      "  from .autonotebook import tqdm as notebook_tqdm\n"
     ]
    }
   ],
   "source": [
    "from module import datasets\n",
    "from module import models\n",
    "from sklearn.feature_extraction.text import CountVectorizer\n",
    "from sklearn.preprocessing import LabelEncoder"
   ]
  },
  {
   "cell_type": "code",
   "execution_count": 2,
   "id": "91dc3a96",
   "metadata": {},
   "outputs": [
    {
     "data": {
      "application/vnd.microsoft.datawrangler.viewer.v0+json": {
       "columns": [
        {
         "name": "index",
         "rawType": "int64",
         "type": "integer"
        },
        {
         "name": "name",
         "rawType": "object",
         "type": "string"
        },
        {
         "name": "main_category",
         "rawType": "object",
         "type": "string"
        }
       ],
       "ref": "9079e377-17c9-4b7b-8aab-b3f9b0bdcb9c",
       "rows": [
        [
         "0",
         "AILTINO Multicolor Women Potli Bag combo's and set's (Set of 6)",
         "accessories"
        ],
        [
         "1",
         "Wireless Bluetooth Headphones Earphones for OnePlus 8/8T, OnePlus 7, OnePlus 6T/ 6, OnePlus 5T/ 5, OnePlus 3T/ 3 Original ...",
         "tv, audio & cameras"
        ],
        [
         "2",
         "BATA Remo 825-6722-43 Men's Black Formal Leather Lace Up Shoes (9 UK)",
         "men's shoes"
        ],
        [
         "3",
         "Satya Paul Leather Black Wallet for Men",
         "stores"
        ],
        [
         "4",
         "Mclothings Women's Ethnic wear Silk n Blue Colour Kurti Kurta.",
         "women's clothing"
        ],
        [
         "5",
         "Women's Pure Kalyani Cotton Silk Saree with Zari Border and Blouse Piece (Lemon Green & Dark Green)",
         "women's clothing"
        ],
        [
         "6",
         "Wrangler Men's Slim Jeans (WMJN004650_Light Indigo",
         "men's clothing"
        ],
        [
         "7",
         "Mamta women's Large Multicolor Tote Hand Bag",
         "accessories"
        ],
        [
         "8",
         "American Eagle Men's Slim Jeans",
         "men's clothing"
        ],
        [
         "9",
         "Robokart 0.5 Ohm 8W Speaker",
         "tv, audio & cameras"
        ],
        [
         "10",
         "Spigen TPU Essential Sand Blast Back Cover Case Compatible For Samsung Galaxy M13 4G (Matte Black)",
         "tv, audio & cameras"
        ],
        [
         "11",
         "SHENSE Newest PR400 Camera 12MP 1080P Camera Wildlife Scouting Cameras s Scouting Game",
         "tv, audio & cameras"
        ],
        [
         "12",
         "Campus Men Twist Navy Running Shoes-9 UK (43 EU) (3G-484)",
         "men's shoes"
        ],
        [
         "13",
         "SG Century Sleeves, (White, Large)",
         "sports & fitness"
        ],
        [
         "14",
         "GODOX X2T-S TTL Wireless Flash Trigger for Sony",
         "tv, audio & cameras"
        ],
        [
         "15",
         "Silk Zone Women's Banarasi Art Silk Saree With Blouse Piece",
         "women's clothing"
        ],
        [
         "16",
         "Jack & Jones Men Shirt",
         "men's clothing"
        ],
        [
         "17",
         "Islamic Lifestyel Women's Tube Hijab Bonnet Cap Under Scarf Pullover Under scarf Combo 2 Piece cotton (Black and white)",
         "women's clothing"
        ],
        [
         "18",
         "Men's Skinny Fit Denim Mid Rise Jeans (Dark Blue, 40)-PID42911",
         "men's clothing"
        ],
        [
         "19",
         "Priority Go Getter 004 Revolution 32 litres Blue Polyester College Bag | Casual Backpack for Boys & Girls (25270)",
         "kids' fashion"
        ],
        [
         "20",
         "AKHILAM Women's Bhagalpuri Silk Checkered Printed Tant Saree with Unstitched Blouse Piece (18WOM189_Parent)",
         "women's clothing"
        ],
        [
         "21",
         "Ortho Care Women's Slipper",
         "women's shoes"
        ],
        [
         "22",
         "LEGACY ENTERPRICE Stylish Women Sling bags Cloud Sling bag Come with stylish Golden chrome Chain & a very soft fabric and ...",
         "accessories"
        ],
        [
         "23",
         "NEUTRON Present Analog Black Color Dial Women Watch - G268-(70-L-10) (Pack of 2)",
         "accessories"
        ],
        [
         "24",
         "Vector X RS-7200 Running/Jogging Shoes for Men",
         "men's shoes"
        ],
        [
         "25",
         "Puma Unisex-Adult RBR Neo Cat Mid Sneaker",
         "men's shoes"
        ],
        [
         "26",
         "PURVAJA Women’s High-Low Knee Length Dress(Ruby-062-to-069)",
         "stores"
        ],
        [
         "27",
         "adidas ADI2000 Shoes Men's",
         "men's shoes"
        ],
        [
         "28",
         "4K Camera Computer Camera USB Webcam CMOS IMX415 Image Sensor 9X Optical Manual Auto-Focus Comaptible with Window XP/7/10 ...",
         "tv, audio & cameras"
        ],
        [
         "29",
         "Zeya Yellow Gold Ring",
         "accessories"
        ],
        [
         "30",
         "Dr Brown's Flexees \"A\" Shaped Teether (Colours May Vary)",
         "toys & baby products"
        ],
        [
         "31",
         "LEVOIT Air Purifiers for Home Allergies and Pets Hair, H13 True HEPA Air Purifier Filter, Quiet Filtration System in Bedro...",
         "appliances"
        ],
        [
         "32",
         "Royal Canin Pug Adult Dry Dog Food, Meat Flavor, 3 Kg",
         "pet supplies"
        ],
        [
         "33",
         "SEGA New Runner",
         "men's shoes"
        ],
        [
         "34",
         "Optify® Kids Blueray Block UV Protected Bluecut Computer Glasses for 4-12 Years Black Blue",
         "women's clothing"
        ],
        [
         "35",
         "Cyperlink Mini Spy Hidden Full HD Small Secret Toy Dice Wireless Hidden Body Security Camera with Motion Detection, Night ...",
         "tv, audio & cameras"
        ],
        [
         "36",
         "Nike Jordan Kids Air Jordan Legacy 312 (GS) Basketball Shoe",
         "stores"
        ],
        [
         "37",
         "U.S. POLO ASSN. Men Men's T-Shirts & Polos",
         "men's clothing"
        ],
        [
         "38",
         "IKALL IK-202 4.1 Channel Speaker System with Bluetooth",
         "tv, audio & cameras"
        ],
        [
         "39",
         "Metro Men's Leather Mocassin (19-6452)",
         "men's shoes"
        ],
        [
         "40",
         "AGRO WATCH New Trending Pink Silicon Strap & Black Dial Look Like a Smart Watch for Women & Girls",
         "accessories"
        ],
        [
         "41",
         "ayushicreationa Boob Breast Lift 5 Meter Tape and 10 Pcs Cotton Nipple Cover Set, Breathable Breast Push Up & Lifting Tape...",
         "women's clothing"
        ],
        [
         "42",
         "Fashion205 Baby Girl's White Leather Shoes - 5.0-5.5 Years",
         "kids' fashion"
        ],
        [
         "43",
         "AMBORISH Regular/Loose/Slim Fit Cotton Round Neck Half Sleeve T-Shirt, Nightwear, Sleep, Yoga, Daily Use Gym and Lounge We...",
         "women's clothing"
        ],
        [
         "44",
         "Safari Accord Duffle Bags for Travel 66 cm 2 Wheel Travel Bags for Luggage Black Luggage Bag Strolley for Men and Women",
         "accessories"
        ],
        [
         "45",
         "ITSFORHER Bra, Silicone Stic Strapless Bra Reusable Invisible Push Up Bra (Skin Color)",
         "women's clothing"
        ],
        [
         "46",
         "Steelwood Plastic Vent Cover for Chimney_White_Q5",
         "appliances"
        ],
        [
         "47",
         "RAEGR Arc 400 Pro 15W Type-C PD |Made in India| Qi-Certified Wireless Charger with Fireproof ABS for iPhone 14/13/12/11 Se...",
         "tv, audio & cameras"
        ],
        [
         "48",
         "Lowepro Tahoe BP 150NE Black Camera Bag",
         "accessories"
        ],
        [
         "49",
         "Fila Mens RAY Tracer TR 2 MID Red Sport Shoes",
         "men's shoes"
        ]
       ],
       "shape": {
        "columns": 2,
        "rows": 220634
       }
      },
      "text/html": [
       "<div>\n",
       "<style scoped>\n",
       "    .dataframe tbody tr th:only-of-type {\n",
       "        vertical-align: middle;\n",
       "    }\n",
       "\n",
       "    .dataframe tbody tr th {\n",
       "        vertical-align: top;\n",
       "    }\n",
       "\n",
       "    .dataframe thead th {\n",
       "        text-align: right;\n",
       "    }\n",
       "</style>\n",
       "<table border=\"1\" class=\"dataframe\">\n",
       "  <thead>\n",
       "    <tr style=\"text-align: right;\">\n",
       "      <th></th>\n",
       "      <th>name</th>\n",
       "      <th>main_category</th>\n",
       "    </tr>\n",
       "  </thead>\n",
       "  <tbody>\n",
       "    <tr>\n",
       "      <th>0</th>\n",
       "      <td>AILTINO Multicolor Women Potli Bag combo's and...</td>\n",
       "      <td>accessories</td>\n",
       "    </tr>\n",
       "    <tr>\n",
       "      <th>1</th>\n",
       "      <td>Wireless Bluetooth Headphones Earphones for On...</td>\n",
       "      <td>tv, audio &amp; cameras</td>\n",
       "    </tr>\n",
       "    <tr>\n",
       "      <th>2</th>\n",
       "      <td>BATA Remo 825-6722-43 Men's Black Formal Leath...</td>\n",
       "      <td>men's shoes</td>\n",
       "    </tr>\n",
       "    <tr>\n",
       "      <th>3</th>\n",
       "      <td>Satya Paul Leather Black Wallet for Men</td>\n",
       "      <td>stores</td>\n",
       "    </tr>\n",
       "    <tr>\n",
       "      <th>4</th>\n",
       "      <td>Mclothings Women's Ethnic wear Silk n Blue Col...</td>\n",
       "      <td>women's clothing</td>\n",
       "    </tr>\n",
       "    <tr>\n",
       "      <th>...</th>\n",
       "      <td>...</td>\n",
       "      <td>...</td>\n",
       "    </tr>\n",
       "    <tr>\n",
       "      <th>220629</th>\n",
       "      <td>DREAM STORE - TVS Pep+ New BS6 Water Resistant...</td>\n",
       "      <td>car &amp; motorbike</td>\n",
       "    </tr>\n",
       "    <tr>\n",
       "      <th>220630</th>\n",
       "      <td>myaddiction Women Vintage Triangle Mirrored Su...</td>\n",
       "      <td>accessories</td>\n",
       "    </tr>\n",
       "    <tr>\n",
       "      <th>220631</th>\n",
       "      <td>Aircum Combo FITMAN Blue &amp; Grey Sneakers for M...</td>\n",
       "      <td>men's shoes</td>\n",
       "    </tr>\n",
       "    <tr>\n",
       "      <th>220632</th>\n",
       "      <td>Lee Men T-Shirt</td>\n",
       "      <td>men's clothing</td>\n",
       "    </tr>\n",
       "    <tr>\n",
       "      <th>220633</th>\n",
       "      <td>Style and Culture Cotton Canvas Reusable Veget...</td>\n",
       "      <td>accessories</td>\n",
       "    </tr>\n",
       "  </tbody>\n",
       "</table>\n",
       "<p>220634 rows × 2 columns</p>\n",
       "</div>"
      ],
      "text/plain": [
       "                                                     name        main_category\n",
       "0       AILTINO Multicolor Women Potli Bag combo's and...          accessories\n",
       "1       Wireless Bluetooth Headphones Earphones for On...  tv, audio & cameras\n",
       "2       BATA Remo 825-6722-43 Men's Black Formal Leath...          men's shoes\n",
       "3                 Satya Paul Leather Black Wallet for Men               stores\n",
       "4       Mclothings Women's Ethnic wear Silk n Blue Col...     women's clothing\n",
       "...                                                   ...                  ...\n",
       "220629  DREAM STORE - TVS Pep+ New BS6 Water Resistant...      car & motorbike\n",
       "220630  myaddiction Women Vintage Triangle Mirrored Su...          accessories\n",
       "220631  Aircum Combo FITMAN Blue & Grey Sneakers for M...          men's shoes\n",
       "220632                                    Lee Men T-Shirt       men's clothing\n",
       "220633  Style and Culture Cotton Canvas Reusable Veget...          accessories\n",
       "\n",
       "[220634 rows x 2 columns]"
      ]
     },
     "execution_count": 2,
     "metadata": {},
     "output_type": "execute_result"
    }
   ],
   "source": [
    "# Load dataset 220k\n",
    "\n",
    "df = datasets.amazon(220)\n",
    "df"
   ]
  },
  {
   "cell_type": "code",
   "execution_count": 3,
   "id": "37f46afd",
   "metadata": {},
   "outputs": [
    {
     "name": "stdout",
     "output_type": "stream",
     "text": [
      "                         precision    recall  f1-score   support\n",
      "\n",
      "            accessories       0.88      0.94      0.91      9410\n",
      "             appliances       0.95      0.97      0.96      2678\n",
      "         bags & luggage       0.67      0.48      0.56       812\n",
      "        beauty & health       0.87      0.87      0.87       778\n",
      "        car & motorbike       0.91      0.84      0.87       578\n",
      "grocery & gourmet foods       0.89      0.85      0.87       264\n",
      "         home & kitchen       0.82      0.80      0.81      1196\n",
      "    industrial supplies       0.74      0.62      0.68       296\n",
      "          kids' fashion       0.82      0.69      0.75      1077\n",
      "         men's clothing       0.95      0.98      0.97      6087\n",
      "            men's shoes       0.87      0.95      0.91      4594\n",
      "                  music       0.93      0.65      0.76        99\n",
      "           pet supplies       0.93      0.83      0.88       109\n",
      "       sports & fitness       0.75      0.65      0.69      1046\n",
      "                 stores       0.63      0.44      0.52      2598\n",
      "   toys & baby products       0.88      0.83      0.85       499\n",
      "    tv, audio & cameras       0.96      0.98      0.97      5438\n",
      "       women's clothing       0.95      0.97      0.96      6137\n",
      "          women's shoes       0.88      0.89      0.89       431\n",
      "\n",
      "               accuracy                           0.89     44127\n",
      "              macro avg       0.86      0.80      0.82     44127\n",
      "           weighted avg       0.89      0.89      0.89     44127\n",
      "\n"
     ]
    }
   ],
   "source": [
    "# Bag of Words, 220k dataset, LogisticRegression\n",
    "\n",
    "# BoW\n",
    "cv = CountVectorizer()\n",
    "X = cv.fit_transform(df[\"name\"])\n",
    "# Label Encoding\n",
    "le = LabelEncoder()\n",
    "y = le.fit_transform(df[\"main_category\"])\n",
    "# Model\n",
    "lr = models.LogisticRegression()\n",
    "lr = models.train_and_eval(X, y, classes=le.classes_, model=lr)"
   ]
  },
  {
   "cell_type": "code",
   "execution_count": 4,
   "id": "164e2278",
   "metadata": {},
   "outputs": [
    {
     "name": "stdout",
     "output_type": "stream",
     "text": [
      "                         precision    recall  f1-score   support\n",
      "\n",
      "            accessories       0.88      0.94      0.91      9410\n",
      "             appliances       0.94      0.97      0.96      2678\n",
      "         bags & luggage       0.69      0.52      0.59       812\n",
      "        beauty & health       0.85      0.87      0.86       778\n",
      "        car & motorbike       0.88      0.85      0.87       578\n",
      "grocery & gourmet foods       0.87      0.84      0.86       264\n",
      "         home & kitchen       0.82      0.78      0.80      1196\n",
      "    industrial supplies       0.73      0.63      0.68       296\n",
      "          kids' fashion       0.81      0.75      0.78      1077\n",
      "         men's clothing       0.95      0.98      0.97      6087\n",
      "            men's shoes       0.88      0.95      0.91      4594\n",
      "                  music       0.89      0.68      0.77        99\n",
      "           pet supplies       0.93      0.87      0.90       109\n",
      "       sports & fitness       0.76      0.66      0.71      1046\n",
      "                 stores       0.65      0.47      0.55      2598\n",
      "   toys & baby products       0.87      0.83      0.85       499\n",
      "    tv, audio & cameras       0.97      0.97      0.97      5438\n",
      "       women's clothing       0.96      0.97      0.96      6137\n",
      "          women's shoes       0.89      0.90      0.89       431\n",
      "\n",
      "               accuracy                           0.90     44127\n",
      "              macro avg       0.86      0.81      0.83     44127\n",
      "           weighted avg       0.89      0.90      0.89     44127\n",
      "\n"
     ]
    }
   ],
   "source": [
    "# Bag of Words, 220 dataset, SVM linear\n",
    "\n",
    "# BoW\n",
    "cv = CountVectorizer()\n",
    "X = cv.fit_transform(df[\"name\"])\n",
    "# Label Encoding\n",
    "le = LabelEncoder()\n",
    "y = le.fit_transform(df[\"main_category\"])\n",
    "# Model\n",
    "svc_linear = models.SVC(kernel=\"linear\")\n",
    "svc_linear = models.train_and_eval(X, y, classes=le.classes_, model=svc_linear)"
   ]
  },
  {
   "cell_type": "code",
   "execution_count": 5,
   "id": "da160d36",
   "metadata": {},
   "outputs": [
    {
     "name": "stdout",
     "output_type": "stream",
     "text": [
      "                         precision    recall  f1-score   support\n",
      "\n",
      "            accessories       0.88      0.96      0.92      9410\n",
      "             appliances       0.95      0.98      0.96      2678\n",
      "         bags & luggage       0.81      0.45      0.58       812\n",
      "        beauty & health       0.85      0.87      0.86       778\n",
      "        car & motorbike       0.92      0.80      0.86       578\n",
      "grocery & gourmet foods       0.91      0.80      0.85       264\n",
      "         home & kitchen       0.79      0.81      0.80      1196\n",
      "    industrial supplies       0.83      0.54      0.66       296\n",
      "          kids' fashion       0.84      0.74      0.78      1077\n",
      "         men's clothing       0.95      0.98      0.97      6087\n",
      "            men's shoes       0.88      0.96      0.92      4594\n",
      "                  music       1.00      0.38      0.55        99\n",
      "           pet supplies       0.94      0.78      0.85       109\n",
      "       sports & fitness       0.81      0.62      0.70      1046\n",
      "                 stores       0.72      0.45      0.56      2598\n",
      "   toys & baby products       0.89      0.76      0.82       499\n",
      "    tv, audio & cameras       0.94      0.98      0.96      5438\n",
      "       women's clothing       0.95      0.98      0.97      6137\n",
      "          women's shoes       0.87      0.90      0.89       431\n",
      "\n",
      "               accuracy                           0.90     44127\n",
      "              macro avg       0.88      0.78      0.81     44127\n",
      "           weighted avg       0.90      0.90      0.89     44127\n",
      "\n"
     ]
    }
   ],
   "source": [
    "# Bag of Words, 220k dataset, SVM rbf\n",
    "\n",
    "# BoW\n",
    "cv = CountVectorizer()\n",
    "X = cv.fit_transform(df[\"name\"])\n",
    "# Label Encoding\n",
    "le = LabelEncoder()\n",
    "y = le.fit_transform(df[\"main_category\"])\n",
    "# Model\n",
    "svc_rbf = models.SVC(kernel=\"rbf\")\n",
    "svc_rbf = models.train_and_eval(X, y, classes=le.classes_, model=svc_rbf)"
   ]
  },
  {
   "cell_type": "code",
   "execution_count": 6,
   "id": "79a55522",
   "metadata": {},
   "outputs": [
    {
     "name": "stdout",
     "output_type": "stream",
     "text": [
      "                         precision    recall  f1-score   support\n",
      "\n",
      "            accessories       0.88      0.95      0.91      9410\n",
      "             appliances       0.91      0.97      0.94      2678\n",
      "         bags & luggage       0.75      0.51      0.61       812\n",
      "        beauty & health       0.82      0.80      0.81       778\n",
      "        car & motorbike       0.91      0.78      0.84       578\n",
      "grocery & gourmet foods       0.84      0.77      0.80       264\n",
      "         home & kitchen       0.86      0.70      0.77      1196\n",
      "    industrial supplies       0.82      0.48      0.60       296\n",
      "          kids' fashion       0.83      0.69      0.75      1077\n",
      "         men's clothing       0.94      0.98      0.96      6087\n",
      "            men's shoes       0.87      0.94      0.90      4594\n",
      "                  music       0.97      0.31      0.47        99\n",
      "           pet supplies       0.97      0.80      0.87       109\n",
      "       sports & fitness       0.81      0.59      0.68      1046\n",
      "                 stores       0.65      0.49      0.56      2598\n",
      "   toys & baby products       0.91      0.74      0.82       499\n",
      "    tv, audio & cameras       0.94      0.98      0.96      5438\n",
      "       women's clothing       0.94      0.98      0.96      6137\n",
      "          women's shoes       0.93      0.86      0.89       431\n",
      "\n",
      "               accuracy                           0.89     44127\n",
      "              macro avg       0.87      0.75      0.80     44127\n",
      "           weighted avg       0.88      0.89      0.88     44127\n",
      "\n"
     ]
    }
   ],
   "source": [
    "# Bag of Words, 220k dataset, Random Forest\n",
    "\n",
    "# BoW\n",
    "cv = CountVectorizer()\n",
    "X = cv.fit_transform(df[\"name\"])\n",
    "# Label Encoding\n",
    "le = LabelEncoder()\n",
    "y = le.fit_transform(df[\"main_category\"])\n",
    "# Model\n",
    "rf = models.RandomForestClassifier(n_estimators=100)\n",
    "rf = models.train_and_eval(X, y, classes=le.classes_, model=rf)"
   ]
  }
 ],
 "metadata": {
  "kernelspec": {
   "display_name": "bitirme",
   "language": "python",
   "name": "python3"
  },
  "language_info": {
   "codemirror_mode": {
    "name": "ipython",
    "version": 3
   },
   "file_extension": ".py",
   "mimetype": "text/x-python",
   "name": "python",
   "nbconvert_exporter": "python",
   "pygments_lexer": "ipython3",
   "version": "3.12.3"
  }
 },
 "nbformat": 4,
 "nbformat_minor": 5
}
