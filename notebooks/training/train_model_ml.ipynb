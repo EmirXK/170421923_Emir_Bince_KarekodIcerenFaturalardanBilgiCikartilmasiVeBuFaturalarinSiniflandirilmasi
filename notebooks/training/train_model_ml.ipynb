{
 "cells": [
  {
   "cell_type": "code",
   "execution_count": 6,
   "id": "bc6b7193",
   "metadata": {},
   "outputs": [],
   "source": [
    "import pandas as pd\n",
    "from sklearn.feature_extraction.text import TfidfVectorizer\n",
    "from sklearn.preprocessing import LabelEncoder\n",
    "from sklearn.model_selection import train_test_split\n",
    "from sklearn.metrics import classification_report\n",
    "from sklearn.linear_model import LogisticRegression\n",
    "from sklearn.ensemble import RandomForestClassifier\n",
    "from sklearn.tree import DecisionTreeClassifier\n",
    "from sklearn.svm import SVC\n",
    "import pickle"
   ]
  },
  {
   "cell_type": "code",
   "execution_count": 2,
   "id": "a5125d64",
   "metadata": {},
   "outputs": [],
   "source": [
    "# Parameters\n",
    "# Folder for saving models\n",
    "models_folder = \"./models\"\n",
    "dataset = \"./data_sample.csv\"\n",
    "\n",
    "# Loading the dataset\n",
    "df = pd.read_csv(dataset)\n",
    "\n",
    "# TF-IDF vectorizer\n",
    "vectorizer = TfidfVectorizer(max_features=5000)\n",
    "X = vectorizer.fit_transform(df['name'])\n",
    "\n",
    "# Label Encoding\n",
    "le = LabelEncoder()\n",
    "y = le.fit_transform(df['main_category'])\n",
    "\n",
    "# Train test split\n",
    "X_train, X_test, y_train, y_test = train_test_split(X, y, test_size=0.2, random_state=42)"
   ]
  },
  {
   "cell_type": "code",
   "execution_count": 3,
   "id": "7fb74409",
   "metadata": {},
   "outputs": [],
   "source": [
    "def model_train(model, model_name:str):\n",
    "    print(f\"Started training {model_name}.\")\n",
    "    model.fit(X_train, y_train)\n",
    "\n",
    "    # Evaluation\n",
    "    y_pred = model.predict(X_test)\n",
    "    with open(f\"{models_folder}/{model_name}_eval.txt\", \"w\") as file:\n",
    "        file.write(classification_report(y_test, y_pred, target_names=le.classes_))\n",
    "\n",
    "    # Save the model\n",
    "    with open(f'{models_folder}/{model_name}.pkl', 'wb') as file:\n",
    "        pickle.dump(model, file)"
   ]
  },
  {
   "cell_type": "code",
   "execution_count": null,
   "id": "d15de787",
   "metadata": {},
   "outputs": [
    {
     "name": "stdout",
     "output_type": "stream",
     "text": [
      "Started training logisticregression.\n"
     ]
    },
    {
     "name": "stderr",
     "output_type": "stream",
     "text": [
      "/home/yegekucuk/venv/bitirme/lib/python3.12/site-packages/sklearn/linear_model/_logistic.py:465: ConvergenceWarning: lbfgs failed to converge (status=1):\n",
      "STOP: TOTAL NO. OF ITERATIONS REACHED LIMIT.\n",
      "\n",
      "Increase the number of iterations (max_iter) or scale the data as shown in:\n",
      "    https://scikit-learn.org/stable/modules/preprocessing.html\n",
      "Please also refer to the documentation for alternative solver options:\n",
      "    https://scikit-learn.org/stable/modules/linear_model.html#logistic-regression\n",
      "  n_iter_i = _check_optimize_result(\n"
     ]
    },
    {
     "name": "stdout",
     "output_type": "stream",
     "text": [
      "Started training decisiontree.\n"
     ]
    }
   ],
   "source": [
    "# Train 4 models\n",
    "model_train(LogisticRegression(), \"logisticregression\")\n",
    "model_train(DecisionTreeClassifier(), \"decisiontree\")"
   ]
  },
  {
   "cell_type": "code",
   "execution_count": 5,
   "id": "0e0a8310",
   "metadata": {},
   "outputs": [
    {
     "name": "stdout",
     "output_type": "stream",
     "text": [
      "Started training randomforest.\n"
     ]
    }
   ],
   "source": [
    "model_train(RandomForestClassifier(), \"randomforest\")"
   ]
  },
  {
   "cell_type": "code",
   "execution_count": 7,
   "id": "6b6b1f71",
   "metadata": {},
   "outputs": [
    {
     "name": "stdout",
     "output_type": "stream",
     "text": [
      "Started training svc-linear.\n",
      "Started training svc-polynomal.\n",
      "Started training svc-rbf.\n",
      "Started training svc-sigmoid.\n"
     ]
    }
   ],
   "source": [
    "model_train(SVC(kernel=\"linear\"), \"svc-linear\")\n",
    "model_train(SVC(kernel=\"poly\"), \"svc-polynomal\")\n",
    "model_train(SVC(kernel=\"rbf\"), \"svc-rbf\")\n",
    "model_train(SVC(kernel=\"sigmoid\"), \"svc-sigmoid\")"
   ]
  }
 ],
 "metadata": {
  "kernelspec": {
   "display_name": "bitirme",
   "language": "python",
   "name": "python3"
  },
  "language_info": {
   "codemirror_mode": {
    "name": "ipython",
    "version": 3
   },
   "file_extension": ".py",
   "mimetype": "text/x-python",
   "name": "python",
   "nbconvert_exporter": "python",
   "pygments_lexer": "ipython3",
   "version": "3.12.3"
  }
 },
 "nbformat": 4,
 "nbformat_minor": 5
}
