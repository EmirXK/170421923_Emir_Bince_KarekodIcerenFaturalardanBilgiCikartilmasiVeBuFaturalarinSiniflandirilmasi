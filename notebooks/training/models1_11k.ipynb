{
 "cells": [
  {
   "cell_type": "code",
   "execution_count": 1,
   "id": "f9a3c1cc",
   "metadata": {},
   "outputs": [
    {
     "name": "stderr",
     "output_type": "stream",
     "text": [
      "/home/yegekucuk/venv/bitirme/lib/python3.12/site-packages/tqdm/auto.py:21: TqdmWarning: IProgress not found. Please update jupyter and ipywidgets. See https://ipywidgets.readthedocs.io/en/stable/user_install.html\n",
      "  from .autonotebook import tqdm as notebook_tqdm\n"
     ]
    }
   ],
   "source": [
    "from module import datasets\n",
    "from module import models\n",
    "from sklearn.feature_extraction.text import CountVectorizer\n",
    "from sklearn.preprocessing import LabelEncoder"
   ]
  },
  {
   "cell_type": "code",
   "execution_count": 2,
   "id": "91dc3a96",
   "metadata": {},
   "outputs": [],
   "source": [
    "# Load dataset 11k\n",
    "\n",
    "df_11k = datasets.amazon(11)"
   ]
  },
  {
   "cell_type": "code",
   "execution_count": 3,
   "id": "37f46afd",
   "metadata": {},
   "outputs": [
    {
     "name": "stdout",
     "output_type": "stream",
     "text": [
      "                         precision    recall  f1-score   support\n",
      "\n",
      "            accessories       0.81      0.92      0.86       464\n",
      "             appliances       0.87      0.91      0.89       143\n",
      "         bags & luggage       0.53      0.28      0.36        36\n",
      "        beauty & health       0.81      0.50      0.62        44\n",
      "        car & motorbike       0.88      0.44      0.58        32\n",
      "grocery & gourmet foods       1.00      0.38      0.55        16\n",
      "         home & kitchen       0.62      0.52      0.57        63\n",
      "    industrial supplies       0.62      0.29      0.40        17\n",
      "          kids' fashion       0.56      0.38      0.45        40\n",
      "         men's clothing       0.91      0.97      0.93       296\n",
      "            men's shoes       0.80      0.93      0.86       224\n",
      "                  music       1.00      0.33      0.50         3\n",
      "           pet supplies       1.00      0.40      0.57        10\n",
      "       sports & fitness       0.76      0.51      0.61        43\n",
      "                 stores       0.53      0.33      0.41       137\n",
      "   toys & baby products       0.77      0.85      0.81        20\n",
      "    tv, audio & cameras       0.88      0.97      0.92       269\n",
      "       women's clothing       0.92      0.96      0.94       328\n",
      "          women's shoes       0.88      0.68      0.77        22\n",
      "\n",
      "               accuracy                           0.83      2207\n",
      "              macro avg       0.80      0.61      0.66      2207\n",
      "           weighted avg       0.82      0.83      0.82      2207\n",
      "\n"
     ]
    }
   ],
   "source": [
    "# Bag of Words, 11k dataset, LogisticRegression\n",
    "\n",
    "# BoW\n",
    "cv = CountVectorizer()\n",
    "X = cv.fit_transform(df_11k[\"name\"])\n",
    "# Label Encoding\n",
    "le = LabelEncoder()\n",
    "y = le.fit_transform(df_11k[\"main_category\"])\n",
    "# Model\n",
    "lr_11k = models.LogisticRegression()\n",
    "lr_11k = models.train_and_eval(X, y, classes=le.classes_, model=lr_11k)"
   ]
  },
  {
   "cell_type": "code",
   "execution_count": 4,
   "id": "164e2278",
   "metadata": {},
   "outputs": [
    {
     "name": "stdout",
     "output_type": "stream",
     "text": [
      "                         precision    recall  f1-score   support\n",
      "\n",
      "            accessories       0.79      0.91      0.85       464\n",
      "             appliances       0.88      0.90      0.89       143\n",
      "         bags & luggage       0.60      0.42      0.49        36\n",
      "        beauty & health       0.78      0.57      0.66        44\n",
      "        car & motorbike       0.76      0.41      0.53        32\n",
      "grocery & gourmet foods       1.00      0.38      0.55        16\n",
      "         home & kitchen       0.68      0.57      0.62        63\n",
      "    industrial supplies       0.56      0.29      0.38        17\n",
      "          kids' fashion       0.57      0.42      0.49        40\n",
      "         men's clothing       0.91      0.96      0.94       296\n",
      "            men's shoes       0.79      0.90      0.84       224\n",
      "                  music       1.00      0.33      0.50         3\n",
      "           pet supplies       1.00      0.50      0.67        10\n",
      "       sports & fitness       0.70      0.53      0.61        43\n",
      "                 stores       0.46      0.32      0.38       137\n",
      "   toys & baby products       0.89      0.85      0.87        20\n",
      "    tv, audio & cameras       0.90      0.96      0.93       269\n",
      "       women's clothing       0.93      0.95      0.94       328\n",
      "          women's shoes       0.94      0.68      0.79        22\n",
      "\n",
      "               accuracy                           0.83      2207\n",
      "              macro avg       0.80      0.62      0.68      2207\n",
      "           weighted avg       0.82      0.83      0.82      2207\n",
      "\n"
     ]
    }
   ],
   "source": [
    "# Bag of Words, 11k dataset, SVM linear\n",
    "\n",
    "# BoW\n",
    "cv = CountVectorizer()\n",
    "X = cv.fit_transform(df_11k[\"name\"])\n",
    "# Label Encoding\n",
    "le = LabelEncoder()\n",
    "y = le.fit_transform(df_11k[\"main_category\"])\n",
    "# Model\n",
    "svc_linear_11k = models.SVC(kernel=\"linear\")\n",
    "svc_linear_11k = models.train_and_eval(X, y, classes=le.classes_, model=svc_linear_11k)"
   ]
  },
  {
   "cell_type": "code",
   "execution_count": 5,
   "id": "80eeb857",
   "metadata": {},
   "outputs": [
    {
     "name": "stdout",
     "output_type": "stream",
     "text": [
      "                         precision    recall  f1-score   support\n",
      "\n",
      "            accessories       0.42      0.97      0.58       464\n",
      "             appliances       0.97      0.27      0.43       143\n",
      "         bags & luggage       0.50      0.06      0.10        36\n",
      "        beauty & health       1.00      0.09      0.17        44\n",
      "        car & motorbike       1.00      0.06      0.12        32\n",
      "grocery & gourmet foods       0.00      0.00      0.00        16\n",
      "         home & kitchen       1.00      0.03      0.06        63\n",
      "    industrial supplies       1.00      0.12      0.21        17\n",
      "          kids' fashion       0.70      0.17      0.28        40\n",
      "         men's clothing       0.84      0.94      0.88       296\n",
      "            men's shoes       0.78      0.84      0.81       224\n",
      "                  music       0.00      0.00      0.00         3\n",
      "           pet supplies       0.00      0.00      0.00        10\n",
      "       sports & fitness       1.00      0.09      0.17        43\n",
      "                 stores       0.57      0.03      0.06       137\n",
      "   toys & baby products       0.88      0.35      0.50        20\n",
      "    tv, audio & cameras       0.97      0.56      0.71       269\n",
      "       women's clothing       0.94      0.89      0.91       328\n",
      "          women's shoes       1.00      0.05      0.09        22\n",
      "\n",
      "               accuracy                           0.65      2207\n",
      "              macro avg       0.71      0.29      0.32      2207\n",
      "           weighted avg       0.76      0.65      0.60      2207\n",
      "\n"
     ]
    }
   ],
   "source": [
    "# Bag of Words, 11k dataset, SVM poly\n",
    "\n",
    "# BoW\n",
    "cv = CountVectorizer()\n",
    "X = cv.fit_transform(df_11k[\"name\"])\n",
    "# Label Encoding\n",
    "le = LabelEncoder()\n",
    "y = le.fit_transform(df_11k[\"main_category\"])\n",
    "# Model\n",
    "svc_poly_11k = models.SVC(kernel=\"poly\")\n",
    "svc_poly_11k = models.train_and_eval(X, y, classes=le.classes_, model=svc_poly_11k)"
   ]
  },
  {
   "cell_type": "code",
   "execution_count": 6,
   "id": "da160d36",
   "metadata": {},
   "outputs": [
    {
     "name": "stdout",
     "output_type": "stream",
     "text": [
      "                         precision    recall  f1-score   support\n",
      "\n",
      "            accessories       0.72      0.97      0.82       464\n",
      "             appliances       0.85      0.85      0.85       143\n",
      "         bags & luggage       0.80      0.11      0.20        36\n",
      "        beauty & health       0.93      0.32      0.47        44\n",
      "        car & motorbike       0.88      0.22      0.35        32\n",
      "grocery & gourmet foods       0.00      0.00      0.00        16\n",
      "         home & kitchen       0.81      0.33      0.47        63\n",
      "    industrial supplies       1.00      0.12      0.21        17\n",
      "          kids' fashion       0.75      0.30      0.43        40\n",
      "         men's clothing       0.90      0.97      0.93       296\n",
      "            men's shoes       0.78      0.93      0.85       224\n",
      "                  music       0.00      0.00      0.00         3\n",
      "           pet supplies       0.00      0.00      0.00        10\n",
      "       sports & fitness       0.88      0.33      0.47        43\n",
      "                 stores       0.69      0.23      0.34       137\n",
      "   toys & baby products       0.89      0.40      0.55        20\n",
      "    tv, audio & cameras       0.73      0.97      0.83       269\n",
      "       women's clothing       0.90      0.95      0.92       328\n",
      "          women's shoes       1.00      0.55      0.71        22\n",
      "\n",
      "               accuracy                           0.80      2207\n",
      "              macro avg       0.71      0.45      0.50      2207\n",
      "           weighted avg       0.80      0.80      0.76      2207\n",
      "\n"
     ]
    }
   ],
   "source": [
    "# Bag of Words, 11k dataset, SVM rbf\n",
    "\n",
    "# BoW\n",
    "cv = CountVectorizer()\n",
    "X = cv.fit_transform(df_11k[\"name\"])\n",
    "# Label Encoding\n",
    "le = LabelEncoder()\n",
    "y = le.fit_transform(df_11k[\"main_category\"])\n",
    "# Model\n",
    "svc_rbf_11k = models.SVC(kernel=\"rbf\")\n",
    "svc_rbf_11k = models.train_and_eval(X, y, classes=le.classes_, model=svc_rbf_11k)"
   ]
  },
  {
   "cell_type": "code",
   "execution_count": 7,
   "id": "8100032a",
   "metadata": {},
   "outputs": [
    {
     "name": "stdout",
     "output_type": "stream",
     "text": [
      "                         precision    recall  f1-score   support\n",
      "\n",
      "            accessories       0.76      0.97      0.85       464\n",
      "             appliances       0.79      0.96      0.87       143\n",
      "         bags & luggage       0.60      0.08      0.15        36\n",
      "        beauty & health       0.85      0.50      0.63        44\n",
      "        car & motorbike       1.00      0.22      0.36        32\n",
      "grocery & gourmet foods       1.00      0.50      0.67        16\n",
      "         home & kitchen       0.66      0.43      0.52        63\n",
      "    industrial supplies       1.00      0.24      0.38        17\n",
      "          kids' fashion       0.50      0.05      0.09        40\n",
      "         men's clothing       0.80      0.98      0.88       296\n",
      "            men's shoes       0.74      0.97      0.84       224\n",
      "                  music       0.00      0.00      0.00         3\n",
      "           pet supplies       0.00      0.00      0.00        10\n",
      "       sports & fitness       0.81      0.30      0.44        43\n",
      "                 stores       0.53      0.07      0.13       137\n",
      "   toys & baby products       0.87      0.65      0.74        20\n",
      "    tv, audio & cameras       0.90      0.97      0.93       269\n",
      "       women's clothing       0.88      0.91      0.89       328\n",
      "          women's shoes       1.00      0.32      0.48        22\n",
      "\n",
      "               accuracy                           0.80      2207\n",
      "              macro avg       0.72      0.48      0.52      2207\n",
      "           weighted avg       0.78      0.80      0.76      2207\n",
      "\n"
     ]
    }
   ],
   "source": [
    "# Bag of Words, 11k dataset, Naive Bayes Multinominal\n",
    "\n",
    "# BoW\n",
    "cv = CountVectorizer()\n",
    "X = cv.fit_transform(df_11k[\"name\"])\n",
    "# Label Encoding\n",
    "le = LabelEncoder()\n",
    "y = le.fit_transform(df_11k[\"main_category\"])\n",
    "# Model\n",
    "nb_multinomal_11k = models.MultinomialNB()\n",
    "nb_multinomal_11k = models.train_and_eval(X, y, classes=le.classes_, model=nb_multinomal_11k)"
   ]
  },
  {
   "cell_type": "code",
   "execution_count": 8,
   "id": "227c0ede",
   "metadata": {},
   "outputs": [
    {
     "name": "stdout",
     "output_type": "stream",
     "text": [
      "                         precision    recall  f1-score   support\n",
      "\n",
      "            accessories       0.80      0.77      0.78       464\n",
      "             appliances       0.78      0.88      0.83       143\n",
      "         bags & luggage       0.31      0.33      0.32        36\n",
      "        beauty & health       0.83      0.55      0.66        44\n",
      "        car & motorbike       0.79      0.34      0.48        32\n",
      "grocery & gourmet foods       1.00      0.50      0.67        16\n",
      "         home & kitchen       0.53      0.54      0.54        63\n",
      "    industrial supplies       0.70      0.41      0.52        17\n",
      "          kids' fashion       0.18      0.45      0.26        40\n",
      "         men's clothing       0.83      0.66      0.73       296\n",
      "            men's shoes       0.77      0.64      0.70       224\n",
      "                  music       0.00      0.00      0.00         3\n",
      "           pet supplies       1.00      0.20      0.33        10\n",
      "       sports & fitness       0.35      0.58      0.44        43\n",
      "                 stores       0.20      0.31      0.24       137\n",
      "   toys & baby products       0.64      0.70      0.67        20\n",
      "    tv, audio & cameras       0.87      0.96      0.91       269\n",
      "       women's clothing       0.90      0.71      0.80       328\n",
      "          women's shoes       0.24      0.50      0.32        22\n",
      "\n",
      "               accuracy                           0.69      2207\n",
      "              macro avg       0.62      0.53      0.54      2207\n",
      "           weighted avg       0.74      0.69      0.71      2207\n",
      "\n"
     ]
    }
   ],
   "source": [
    "# Bag of Words, 11k dataset, Naive Bayes Gaussian\n",
    "\n",
    "# BoW\n",
    "cv = CountVectorizer()\n",
    "X = cv.fit_transform(df_11k[\"name\"])\n",
    "# Label Encoding\n",
    "le = LabelEncoder()\n",
    "y = le.fit_transform(df_11k[\"main_category\"])\n",
    "# Model\n",
    "nb_gaussian_11k = models.GaussianNB()\n",
    "X = X.toarray()\n",
    "nb_gaussian_11k = models.train_and_eval(X, y, classes=le.classes_, model=nb_gaussian_11k)"
   ]
  },
  {
   "cell_type": "code",
   "execution_count": 9,
   "id": "74eb1c66",
   "metadata": {},
   "outputs": [
    {
     "name": "stdout",
     "output_type": "stream",
     "text": [
      "                         precision    recall  f1-score   support\n",
      "\n",
      "            accessories       0.56      0.99      0.72       464\n",
      "             appliances       0.97      0.41      0.57       143\n",
      "         bags & luggage       0.00      0.00      0.00        36\n",
      "        beauty & health       0.00      0.00      0.00        44\n",
      "        car & motorbike       0.00      0.00      0.00        32\n",
      "grocery & gourmet foods       0.00      0.00      0.00        16\n",
      "         home & kitchen       0.00      0.00      0.00        63\n",
      "    industrial supplies       0.00      0.00      0.00        17\n",
      "          kids' fashion       0.00      0.00      0.00        40\n",
      "         men's clothing       0.74      0.98      0.84       296\n",
      "            men's shoes       0.73      0.92      0.82       224\n",
      "                  music       0.00      0.00      0.00         3\n",
      "           pet supplies       0.00      0.00      0.00        10\n",
      "       sports & fitness       0.00      0.00      0.00        43\n",
      "                 stores       0.00      0.00      0.00       137\n",
      "   toys & baby products       0.00      0.00      0.00        20\n",
      "    tv, audio & cameras       0.80      0.93      0.86       269\n",
      "       women's clothing       0.85      0.88      0.87       328\n",
      "          women's shoes       0.00      0.00      0.00        22\n",
      "\n",
      "               accuracy                           0.70      2207\n",
      "              macro avg       0.24      0.27      0.25      2207\n",
      "           weighted avg       0.58      0.70      0.62      2207\n",
      "\n"
     ]
    }
   ],
   "source": [
    "# Bag of Words, 11k dataset, Naive Bayes Bernoulli\n",
    "\n",
    "# BoW\n",
    "cv = CountVectorizer()\n",
    "X = cv.fit_transform(df_11k[\"name\"])\n",
    "# Label Encoding\n",
    "le = LabelEncoder()\n",
    "y = le.fit_transform(df_11k[\"main_category\"])\n",
    "# Model\n",
    "nb_bernoulli = models.BernoulliNB()\n",
    "nb_bernoulli = models.train_and_eval(X, y, classes=le.classes_, model=nb_bernoulli)"
   ]
  },
  {
   "cell_type": "code",
   "execution_count": 10,
   "id": "308b02a8",
   "metadata": {},
   "outputs": [
    {
     "name": "stdout",
     "output_type": "stream",
     "text": [
      "                         precision    recall  f1-score   support\n",
      "\n",
      "            accessories       0.83      0.95      0.89       464\n",
      "             appliances       0.82      0.97      0.89       143\n",
      "         bags & luggage       0.46      0.17      0.24        36\n",
      "        beauty & health       0.74      0.64      0.68        44\n",
      "        car & motorbike       0.77      0.53      0.63        32\n",
      "grocery & gourmet foods       1.00      0.81      0.90        16\n",
      "         home & kitchen       0.69      0.46      0.55        63\n",
      "    industrial supplies       0.67      0.35      0.46        17\n",
      "          kids' fashion       0.50      0.07      0.13        40\n",
      "         men's clothing       0.79      0.96      0.87       296\n",
      "            men's shoes       0.74      0.97      0.84       224\n",
      "                  music       0.50      0.33      0.40         3\n",
      "           pet supplies       0.88      0.70      0.78        10\n",
      "       sports & fitness       0.78      0.42      0.55        43\n",
      "                 stores       0.67      0.09      0.15       137\n",
      "   toys & baby products       0.70      0.80      0.74        20\n",
      "    tv, audio & cameras       0.91      0.98      0.94       269\n",
      "       women's clothing       0.89      0.89      0.89       328\n",
      "          women's shoes       1.00      0.59      0.74        22\n",
      "\n",
      "               accuracy                           0.82      2207\n",
      "              macro avg       0.75      0.62      0.65      2207\n",
      "           weighted avg       0.80      0.82      0.79      2207\n",
      "\n"
     ]
    }
   ],
   "source": [
    "# Bag of Words, 11k dataset, Naive Bayes Complement\n",
    "\n",
    "# BoW\n",
    "cv = CountVectorizer()\n",
    "X = cv.fit_transform(df_11k[\"name\"])\n",
    "# Label Encoding\n",
    "le = LabelEncoder()\n",
    "y = le.fit_transform(df_11k[\"main_category\"])\n",
    "# Model\n",
    "nb_complement = models.ComplementNB()\n",
    "nb_complement = models.train_and_eval(X, y, classes=le.classes_, model=nb_complement)"
   ]
  },
  {
   "cell_type": "code",
   "execution_count": 11,
   "id": "e7581338",
   "metadata": {},
   "outputs": [
    {
     "name": "stdout",
     "output_type": "stream",
     "text": [
      "                         precision    recall  f1-score   support\n",
      "\n",
      "            accessories       0.74      0.85      0.79       464\n",
      "             appliances       0.75      0.71      0.73       143\n",
      "         bags & luggage       0.26      0.14      0.18        36\n",
      "        beauty & health       0.54      0.32      0.40        44\n",
      "        car & motorbike       0.59      0.50      0.54        32\n",
      "grocery & gourmet foods       0.36      0.31      0.33        16\n",
      "         home & kitchen       0.49      0.40      0.44        63\n",
      "    industrial supplies       0.50      0.24      0.32        17\n",
      "          kids' fashion       0.52      0.35      0.42        40\n",
      "         men's clothing       0.86      0.91      0.88       296\n",
      "            men's shoes       0.80      0.86      0.83       224\n",
      "                  music       0.00      0.00      0.00         3\n",
      "           pet supplies       1.00      0.60      0.75        10\n",
      "       sports & fitness       0.54      0.47      0.50        43\n",
      "                 stores       0.39      0.31      0.34       137\n",
      "   toys & baby products       0.59      0.65      0.62        20\n",
      "    tv, audio & cameras       0.82      0.87      0.85       269\n",
      "       women's clothing       0.86      0.87      0.86       328\n",
      "          women's shoes       0.75      0.55      0.63        22\n",
      "\n",
      "               accuracy                           0.75      2207\n",
      "              macro avg       0.60      0.52      0.55      2207\n",
      "           weighted avg       0.73      0.75      0.74      2207\n",
      "\n"
     ]
    }
   ],
   "source": [
    "# Bag of Words, 11k dataset, Decision Tree\n",
    "\n",
    "# BoW\n",
    "cv = CountVectorizer()\n",
    "X = cv.fit_transform(df_11k[\"name\"])\n",
    "# Label Encoding\n",
    "le = LabelEncoder()\n",
    "y = le.fit_transform(df_11k[\"main_category\"])\n",
    "# Model\n",
    "dt = models.DecisionTreeClassifier()\n",
    "dt = models.train_and_eval(X, y, classes=le.classes_, model=dt)"
   ]
  },
  {
   "cell_type": "code",
   "execution_count": 12,
   "id": "79a55522",
   "metadata": {},
   "outputs": [
    {
     "name": "stdout",
     "output_type": "stream",
     "text": [
      "                         precision    recall  f1-score   support\n",
      "\n",
      "            accessories       0.77      0.95      0.85       464\n",
      "             appliances       0.83      0.83      0.83       143\n",
      "         bags & luggage       0.55      0.17      0.26        36\n",
      "        beauty & health       0.81      0.39      0.52        44\n",
      "        car & motorbike       0.82      0.44      0.57        32\n",
      "grocery & gourmet foods       1.00      0.38      0.55        16\n",
      "         home & kitchen       0.88      0.33      0.48        63\n",
      "    industrial supplies       1.00      0.18      0.30        17\n",
      "          kids' fashion       0.63      0.30      0.41        40\n",
      "         men's clothing       0.87      0.97      0.92       296\n",
      "            men's shoes       0.75      0.94      0.83       224\n",
      "                  music       0.00      0.00      0.00         3\n",
      "           pet supplies       1.00      0.30      0.46        10\n",
      "       sports & fitness       0.70      0.37      0.48        43\n",
      "                 stores       0.38      0.20      0.26       137\n",
      "   toys & baby products       1.00      0.65      0.79        20\n",
      "    tv, audio & cameras       0.86      0.96      0.91       269\n",
      "       women's clothing       0.86      0.95      0.90       328\n",
      "          women's shoes       0.92      0.50      0.65        22\n",
      "\n",
      "               accuracy                           0.80      2207\n",
      "              macro avg       0.77      0.52      0.58      2207\n",
      "           weighted avg       0.79      0.80      0.78      2207\n",
      "\n"
     ]
    }
   ],
   "source": [
    "# Bag of Words, 11k dataset, Random Forest\n",
    "\n",
    "# BoW\n",
    "cv = CountVectorizer()\n",
    "X = cv.fit_transform(df_11k[\"name\"])\n",
    "# Label Encoding\n",
    "le = LabelEncoder()\n",
    "y = le.fit_transform(df_11k[\"main_category\"])\n",
    "# Model\n",
    "rf = models.RandomForestClassifier(n_estimators=100)\n",
    "rf = models.train_and_eval(X, y, classes=le.classes_, model=rf)"
   ]
  }
 ],
 "metadata": {
  "kernelspec": {
   "display_name": "bitirme",
   "language": "python",
   "name": "python3"
  },
  "language_info": {
   "codemirror_mode": {
    "name": "ipython",
    "version": 3
   },
   "file_extension": ".py",
   "mimetype": "text/x-python",
   "name": "python",
   "nbconvert_exporter": "python",
   "pygments_lexer": "ipython3",
   "version": "3.12.3"
  }
 },
 "nbformat": 4,
 "nbformat_minor": 5
}
