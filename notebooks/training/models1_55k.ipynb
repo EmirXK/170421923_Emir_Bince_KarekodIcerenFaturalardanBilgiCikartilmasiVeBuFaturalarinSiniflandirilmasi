{
 "cells": [
  {
   "cell_type": "code",
   "execution_count": 1,
   "id": "f9a3c1cc",
   "metadata": {},
   "outputs": [
    {
     "name": "stderr",
     "output_type": "stream",
     "text": [
      "/home/yegekucuk/venv/bitirme/lib/python3.12/site-packages/tqdm/auto.py:21: TqdmWarning: IProgress not found. Please update jupyter and ipywidgets. See https://ipywidgets.readthedocs.io/en/stable/user_install.html\n",
      "  from .autonotebook import tqdm as notebook_tqdm\n"
     ]
    }
   ],
   "source": [
    "from module import datasets\n",
    "from module import models\n",
    "from sklearn.feature_extraction.text import CountVectorizer\n",
    "from sklearn.preprocessing import LabelEncoder"
   ]
  },
  {
   "cell_type": "code",
   "execution_count": 2,
   "id": "91dc3a96",
   "metadata": {},
   "outputs": [],
   "source": [
    "# Load dataset 55k\n",
    "\n",
    "df = datasets.amazon(55)"
   ]
  },
  {
   "cell_type": "code",
   "execution_count": 3,
   "id": "37f46afd",
   "metadata": {},
   "outputs": [
    {
     "name": "stdout",
     "output_type": "stream",
     "text": [
      "                         precision    recall  f1-score   support\n",
      "\n",
      "            accessories       0.87      0.92      0.89      2396\n",
      "             appliances       0.92      0.96      0.94       697\n",
      "         bags & luggage       0.55      0.46      0.50       210\n",
      "        beauty & health       0.72      0.79      0.75       193\n",
      "        car & motorbike       0.84      0.70      0.77       151\n",
      "grocery & gourmet foods       0.81      0.86      0.84        65\n",
      "         home & kitchen       0.80      0.77      0.78       313\n",
      "    industrial supplies       0.71      0.49      0.58        73\n",
      "          kids' fashion       0.79      0.66      0.72       270\n",
      "         men's clothing       0.94      0.97      0.95      1477\n",
      "            men's shoes       0.87      0.93      0.90      1161\n",
      "                  music       0.92      0.50      0.65        22\n",
      "           pet supplies       0.81      0.52      0.63        25\n",
      "       sports & fitness       0.68      0.54      0.60       235\n",
      "                 stores       0.53      0.39      0.45       632\n",
      "   toys & baby products       0.84      0.66      0.74       127\n",
      "    tv, audio & cameras       0.94      0.95      0.95      1385\n",
      "       women's clothing       0.94      0.96      0.95      1482\n",
      "          women's shoes       0.92      0.82      0.87       118\n",
      "\n",
      "               accuracy                           0.87     11032\n",
      "              macro avg       0.81      0.73      0.76     11032\n",
      "           weighted avg       0.86      0.87      0.86     11032\n",
      "\n"
     ]
    }
   ],
   "source": [
    "# Bag of Words, 55k dataset, LogisticRegression\n",
    "\n",
    "# BoW\n",
    "cv = CountVectorizer()\n",
    "X = cv.fit_transform(df[\"name\"])\n",
    "# Label Encoding\n",
    "le = LabelEncoder()\n",
    "y = le.fit_transform(df[\"main_category\"])\n",
    "# Model\n",
    "lr = models.LogisticRegression()\n",
    "lr = models.train_and_eval(X, y, classes=le.classes_, model=lr)"
   ]
  },
  {
   "cell_type": "code",
   "execution_count": 4,
   "id": "164e2278",
   "metadata": {},
   "outputs": [
    {
     "name": "stdout",
     "output_type": "stream",
     "text": [
      "                         precision    recall  f1-score   support\n",
      "\n",
      "            accessories       0.85      0.92      0.88      2396\n",
      "             appliances       0.92      0.95      0.93       697\n",
      "         bags & luggage       0.55      0.47      0.51       210\n",
      "        beauty & health       0.74      0.78      0.76       193\n",
      "        car & motorbike       0.86      0.72      0.78       151\n",
      "grocery & gourmet foods       0.78      0.78      0.78        65\n",
      "         home & kitchen       0.75      0.72      0.74       313\n",
      "    industrial supplies       0.66      0.48      0.56        73\n",
      "          kids' fashion       0.74      0.69      0.71       270\n",
      "         men's clothing       0.94      0.97      0.95      1477\n",
      "            men's shoes       0.86      0.93      0.89      1161\n",
      "                  music       0.79      0.50      0.61        22\n",
      "           pet supplies       0.79      0.60      0.68        25\n",
      "       sports & fitness       0.63      0.49      0.55       235\n",
      "                 stores       0.55      0.41      0.47       632\n",
      "   toys & baby products       0.83      0.70      0.76       127\n",
      "    tv, audio & cameras       0.94      0.94      0.94      1385\n",
      "       women's clothing       0.95      0.96      0.95      1482\n",
      "          women's shoes       0.89      0.78      0.83       118\n",
      "\n",
      "               accuracy                           0.86     11032\n",
      "              macro avg       0.79      0.73      0.75     11032\n",
      "           weighted avg       0.86      0.86      0.86     11032\n",
      "\n"
     ]
    }
   ],
   "source": [
    "# Bag of Words, 55k dataset, SVM linear\n",
    "\n",
    "# BoW\n",
    "cv = CountVectorizer()\n",
    "X = cv.fit_transform(df[\"name\"])\n",
    "# Label Encoding\n",
    "le = LabelEncoder()\n",
    "y = le.fit_transform(df[\"main_category\"])\n",
    "# Model\n",
    "svc_linear = models.SVC(kernel=\"linear\")\n",
    "svc_linear = models.train_and_eval(X, y, classes=le.classes_, model=svc_linear)"
   ]
  },
  {
   "cell_type": "code",
   "execution_count": 5,
   "id": "80eeb857",
   "metadata": {},
   "outputs": [
    {
     "name": "stdout",
     "output_type": "stream",
     "text": [
      "                         precision    recall  f1-score   support\n",
      "\n",
      "            accessories       0.55      0.96      0.70      2396\n",
      "             appliances       0.95      0.65      0.77       697\n",
      "         bags & luggage       0.65      0.23      0.34       210\n",
      "        beauty & health       0.86      0.25      0.39       193\n",
      "        car & motorbike       0.84      0.21      0.34       151\n",
      "grocery & gourmet foods       1.00      0.03      0.06        65\n",
      "         home & kitchen       0.84      0.23      0.36       313\n",
      "    industrial supplies       0.75      0.08      0.15        73\n",
      "          kids' fashion       0.83      0.42      0.56       270\n",
      "         men's clothing       0.91      0.95      0.93      1477\n",
      "            men's shoes       0.80      0.94      0.87      1161\n",
      "                  music       1.00      0.14      0.24        22\n",
      "           pet supplies       1.00      0.08      0.15        25\n",
      "       sports & fitness       0.84      0.21      0.33       235\n",
      "                 stores       0.67      0.17      0.28       632\n",
      "   toys & baby products       0.89      0.31      0.46       127\n",
      "    tv, audio & cameras       0.96      0.80      0.87      1385\n",
      "       women's clothing       0.88      0.95      0.91      1482\n",
      "          women's shoes       1.00      0.14      0.24       118\n",
      "\n",
      "               accuracy                           0.75     11032\n",
      "              macro avg       0.85      0.41      0.47     11032\n",
      "           weighted avg       0.80      0.75      0.72     11032\n",
      "\n"
     ]
    }
   ],
   "source": [
    "# Bag of Words, 55k dataset, SVM poly\n",
    "\n",
    "# BoW\n",
    "cv = CountVectorizer()\n",
    "X = cv.fit_transform(df[\"name\"])\n",
    "# Label Encoding\n",
    "le = LabelEncoder()\n",
    "y = le.fit_transform(df[\"main_category\"])\n",
    "# Model\n",
    "svc_poly = models.SVC(kernel=\"poly\")\n",
    "svc_poly = models.train_and_eval(X, y, classes=le.classes_, model=svc_poly)"
   ]
  },
  {
   "cell_type": "code",
   "execution_count": 6,
   "id": "da160d36",
   "metadata": {},
   "outputs": [
    {
     "name": "stdout",
     "output_type": "stream",
     "text": [
      "                         precision    recall  f1-score   support\n",
      "\n",
      "            accessories       0.83      0.96      0.89      2396\n",
      "             appliances       0.93      0.95      0.94       697\n",
      "         bags & luggage       0.73      0.35      0.48       210\n",
      "        beauty & health       0.73      0.77      0.75       193\n",
      "        car & motorbike       0.89      0.56      0.69       151\n",
      "grocery & gourmet foods       0.92      0.52      0.67        65\n",
      "         home & kitchen       0.75      0.74      0.75       313\n",
      "    industrial supplies       0.95      0.29      0.44        73\n",
      "          kids' fashion       0.83      0.67      0.75       270\n",
      "         men's clothing       0.95      0.97      0.96      1477\n",
      "            men's shoes       0.87      0.95      0.91      1161\n",
      "                  music       1.00      0.09      0.17        22\n",
      "           pet supplies       0.75      0.24      0.36        25\n",
      "       sports & fitness       0.80      0.51      0.62       235\n",
      "                 stores       0.63      0.38      0.48       632\n",
      "   toys & baby products       0.87      0.54      0.67       127\n",
      "    tv, audio & cameras       0.87      0.97      0.92      1385\n",
      "       women's clothing       0.94      0.97      0.95      1482\n",
      "          women's shoes       0.91      0.73      0.81       118\n",
      "\n",
      "               accuracy                           0.87     11032\n",
      "              macro avg       0.85      0.64      0.69     11032\n",
      "           weighted avg       0.86      0.87      0.86     11032\n",
      "\n"
     ]
    }
   ],
   "source": [
    "# Bag of Words, 55k dataset, SVM rbf\n",
    "\n",
    "# BoW\n",
    "cv = CountVectorizer()\n",
    "X = cv.fit_transform(df[\"name\"])\n",
    "# Label Encoding\n",
    "le = LabelEncoder()\n",
    "y = le.fit_transform(df[\"main_category\"])\n",
    "# Model\n",
    "svc_rbf = models.SVC(kernel=\"rbf\")\n",
    "svc_rbf = models.train_and_eval(X, y, classes=le.classes_, model=svc_rbf)"
   ]
  },
  {
   "cell_type": "code",
   "execution_count": 7,
   "id": "8100032a",
   "metadata": {},
   "outputs": [
    {
     "name": "stdout",
     "output_type": "stream",
     "text": [
      "                         precision    recall  f1-score   support\n",
      "\n",
      "            accessories       0.82      0.96      0.88      2396\n",
      "             appliances       0.83      0.99      0.90       697\n",
      "         bags & luggage       0.69      0.33      0.45       210\n",
      "        beauty & health       0.78      0.73      0.75       193\n",
      "        car & motorbike       0.89      0.44      0.59       151\n",
      "grocery & gourmet foods       0.91      0.62      0.73        65\n",
      "         home & kitchen       0.75      0.71      0.73       313\n",
      "    industrial supplies       0.83      0.14      0.24        73\n",
      "          kids' fashion       0.89      0.42      0.57       270\n",
      "         men's clothing       0.87      0.98      0.92      1477\n",
      "            men's shoes       0.80      0.97      0.88      1161\n",
      "                  music       1.00      0.05      0.09        22\n",
      "           pet supplies       0.80      0.16      0.27        25\n",
      "       sports & fitness       0.81      0.39      0.53       235\n",
      "                 stores       0.50      0.18      0.26       632\n",
      "   toys & baby products       0.92      0.53      0.67       127\n",
      "    tv, audio & cameras       0.91      0.96      0.94      1385\n",
      "       women's clothing       0.89      0.94      0.92      1482\n",
      "          women's shoes       0.96      0.40      0.56       118\n",
      "\n",
      "               accuracy                           0.84     11032\n",
      "              macro avg       0.83      0.57      0.63     11032\n",
      "           weighted avg       0.83      0.84      0.82     11032\n",
      "\n"
     ]
    }
   ],
   "source": [
    "# Bag of Words, 55k dataset, Naive Bayes Multinominal\n",
    "\n",
    "# BoW\n",
    "cv = CountVectorizer()\n",
    "X = cv.fit_transform(df[\"name\"])\n",
    "# Label Encoding\n",
    "le = LabelEncoder()\n",
    "y = le.fit_transform(df[\"main_category\"])\n",
    "# Model\n",
    "nb_multinomal = models.MultinomialNB()\n",
    "nb_multinomal = models.train_and_eval(X, y, classes=le.classes_, model=nb_multinomal)"
   ]
  },
  {
   "cell_type": "code",
   "execution_count": 8,
   "id": "74eb1c66",
   "metadata": {},
   "outputs": [
    {
     "name": "stdout",
     "output_type": "stream",
     "text": [
      "                         precision    recall  f1-score   support\n",
      "\n",
      "            accessories       0.69      0.98      0.81      2396\n",
      "             appliances       0.74      0.92      0.82       697\n",
      "         bags & luggage       1.00      0.00      0.01       210\n",
      "        beauty & health       0.00      0.00      0.00       193\n",
      "        car & motorbike       0.00      0.00      0.00       151\n",
      "grocery & gourmet foods       0.00      0.00      0.00        65\n",
      "         home & kitchen       1.00      0.03      0.06       313\n",
      "    industrial supplies       0.00      0.00      0.00        73\n",
      "          kids' fashion       1.00      0.01      0.03       270\n",
      "         men's clothing       0.80      0.99      0.89      1477\n",
      "            men's shoes       0.75      0.98      0.85      1161\n",
      "                  music       0.00      0.00      0.00        22\n",
      "           pet supplies       0.00      0.00      0.00        25\n",
      "       sports & fitness       1.00      0.02      0.03       235\n",
      "                 stores       0.28      0.04      0.07       632\n",
      "   toys & baby products       0.00      0.00      0.00       127\n",
      "    tv, audio & cameras       0.81      0.97      0.88      1385\n",
      "       women's clothing       0.83      0.95      0.89      1482\n",
      "          women's shoes       0.00      0.00      0.00       118\n",
      "\n",
      "               accuracy                           0.76     11032\n",
      "              macro avg       0.47      0.31      0.28     11032\n",
      "           weighted avg       0.71      0.76      0.67     11032\n",
      "\n"
     ]
    }
   ],
   "source": [
    "# Bag of Words, 55k dataset, Naive Bayes Bernoulli\n",
    "\n",
    "# BoW\n",
    "cv = CountVectorizer()\n",
    "X = cv.fit_transform(df[\"name\"])\n",
    "# Label Encoding\n",
    "le = LabelEncoder()\n",
    "y = le.fit_transform(df[\"main_category\"])\n",
    "# Model\n",
    "nb_bernoulli = models.BernoulliNB()\n",
    "nb_bernoulli = models.train_and_eval(X, y, classes=le.classes_, model=nb_bernoulli)"
   ]
  },
  {
   "cell_type": "code",
   "execution_count": 9,
   "id": "308b02a8",
   "metadata": {},
   "outputs": [
    {
     "name": "stdout",
     "output_type": "stream",
     "text": [
      "                         precision    recall  f1-score   support\n",
      "\n",
      "            accessories       0.85      0.94      0.89      2396\n",
      "             appliances       0.84      0.98      0.90       697\n",
      "         bags & luggage       0.64      0.32      0.43       210\n",
      "        beauty & health       0.76      0.79      0.77       193\n",
      "        car & motorbike       0.85      0.58      0.69       151\n",
      "grocery & gourmet foods       0.82      0.83      0.82        65\n",
      "         home & kitchen       0.81      0.64      0.72       313\n",
      "    industrial supplies       0.80      0.38      0.52        73\n",
      "          kids' fashion       0.84      0.36      0.51       270\n",
      "         men's clothing       0.83      0.98      0.90      1477\n",
      "            men's shoes       0.77      0.97      0.86      1161\n",
      "                  music       0.79      0.50      0.61        22\n",
      "           pet supplies       0.88      0.88      0.88        25\n",
      "       sports & fitness       0.83      0.43      0.57       235\n",
      "                 stores       0.60      0.12      0.19       632\n",
      "   toys & baby products       0.81      0.62      0.71       127\n",
      "    tv, audio & cameras       0.89      0.97      0.93      1385\n",
      "       women's clothing       0.88      0.90      0.89      1482\n",
      "          women's shoes       0.90      0.54      0.68       118\n",
      "\n",
      "               accuracy                           0.84     11032\n",
      "              macro avg       0.81      0.67      0.71     11032\n",
      "           weighted avg       0.82      0.84      0.81     11032\n",
      "\n"
     ]
    }
   ],
   "source": [
    "# Bag of Words, 55k dataset, Naive Bayes Complement\n",
    "\n",
    "# BoW\n",
    "cv = CountVectorizer()\n",
    "X = cv.fit_transform(df[\"name\"])\n",
    "# Label Encoding\n",
    "le = LabelEncoder()\n",
    "y = le.fit_transform(df[\"main_category\"])\n",
    "# Model\n",
    "nb_complement = models.ComplementNB()\n",
    "nb_complement = models.train_and_eval(X, y, classes=le.classes_, model=nb_complement)"
   ]
  },
  {
   "cell_type": "code",
   "execution_count": 10,
   "id": "e7581338",
   "metadata": {},
   "outputs": [
    {
     "name": "stdout",
     "output_type": "stream",
     "text": [
      "                         precision    recall  f1-score   support\n",
      "\n",
      "            accessories       0.83      0.86      0.84      2396\n",
      "             appliances       0.87      0.85      0.86       697\n",
      "         bags & luggage       0.46      0.42      0.44       210\n",
      "        beauty & health       0.58      0.63      0.60       193\n",
      "        car & motorbike       0.72      0.52      0.60       151\n",
      "grocery & gourmet foods       0.58      0.55      0.57        65\n",
      "         home & kitchen       0.55      0.57      0.56       313\n",
      "    industrial supplies       0.52      0.34      0.41        73\n",
      "          kids' fashion       0.67      0.70      0.68       270\n",
      "         men's clothing       0.91      0.94      0.93      1477\n",
      "            men's shoes       0.84      0.88      0.86      1161\n",
      "                  music       0.33      0.14      0.19        22\n",
      "           pet supplies       0.88      0.56      0.68        25\n",
      "       sports & fitness       0.58      0.44      0.50       235\n",
      "                 stores       0.47      0.42      0.44       632\n",
      "   toys & baby products       0.65      0.45      0.53       127\n",
      "    tv, audio & cameras       0.88      0.91      0.90      1385\n",
      "       women's clothing       0.92      0.92      0.92      1482\n",
      "          women's shoes       0.89      0.69      0.78       118\n",
      "\n",
      "               accuracy                           0.81     11032\n",
      "              macro avg       0.69      0.62      0.65     11032\n",
      "           weighted avg       0.81      0.81      0.81     11032\n",
      "\n"
     ]
    }
   ],
   "source": [
    "# Bag of Words, 55k dataset, Decision Tree\n",
    "\n",
    "# BoW\n",
    "cv = CountVectorizer()\n",
    "X = cv.fit_transform(df[\"name\"])\n",
    "# Label Encoding\n",
    "le = LabelEncoder()\n",
    "y = le.fit_transform(df[\"main_category\"])\n",
    "# Model\n",
    "dt = models.DecisionTreeClassifier()\n",
    "dt = models.train_and_eval(X, y, classes=le.classes_, model=dt)"
   ]
  },
  {
   "cell_type": "code",
   "execution_count": 11,
   "id": "79a55522",
   "metadata": {},
   "outputs": [
    {
     "name": "stdout",
     "output_type": "stream",
     "text": [
      "                         precision    recall  f1-score   support\n",
      "\n",
      "            accessories       0.82      0.95      0.88      2396\n",
      "             appliances       0.89      0.95      0.92       697\n",
      "         bags & luggage       0.69      0.37      0.48       210\n",
      "        beauty & health       0.70      0.71      0.71       193\n",
      "        car & motorbike       0.82      0.53      0.65       151\n",
      "grocery & gourmet foods       0.81      0.65      0.72        65\n",
      "         home & kitchen       0.84      0.57      0.68       313\n",
      "    industrial supplies       0.83      0.26      0.40        73\n",
      "          kids' fashion       0.83      0.61      0.71       270\n",
      "         men's clothing       0.91      0.97      0.94      1477\n",
      "            men's shoes       0.83      0.95      0.88      1161\n",
      "                  music       1.00      0.09      0.17        22\n",
      "           pet supplies       0.86      0.48      0.62        25\n",
      "       sports & fitness       0.77      0.40      0.53       235\n",
      "                 stores       0.62      0.35      0.45       632\n",
      "   toys & baby products       0.92      0.54      0.68       127\n",
      "    tv, audio & cameras       0.90      0.97      0.93      1385\n",
      "       women's clothing       0.92      0.97      0.94      1482\n",
      "          women's shoes       0.91      0.73      0.81       118\n",
      "\n",
      "               accuracy                           0.86     11032\n",
      "              macro avg       0.84      0.63      0.69     11032\n",
      "           weighted avg       0.85      0.86      0.84     11032\n",
      "\n"
     ]
    }
   ],
   "source": [
    "# Bag of Words, 55k dataset, Random Forest\n",
    "\n",
    "# BoW\n",
    "cv = CountVectorizer()\n",
    "X = cv.fit_transform(df[\"name\"])\n",
    "# Label Encoding\n",
    "le = LabelEncoder()\n",
    "y = le.fit_transform(df[\"main_category\"])\n",
    "# Model\n",
    "rf = models.RandomForestClassifier(n_estimators=100)\n",
    "rf = models.train_and_eval(X, y, classes=le.classes_, model=rf)"
   ]
  }
 ],
 "metadata": {
  "kernelspec": {
   "display_name": "bitirme",
   "language": "python",
   "name": "python3"
  },
  "language_info": {
   "codemirror_mode": {
    "name": "ipython",
    "version": 3
   },
   "file_extension": ".py",
   "mimetype": "text/x-python",
   "name": "python",
   "nbconvert_exporter": "python",
   "pygments_lexer": "ipython3",
   "version": "3.12.3"
  }
 },
 "nbformat": 4,
 "nbformat_minor": 5
}
