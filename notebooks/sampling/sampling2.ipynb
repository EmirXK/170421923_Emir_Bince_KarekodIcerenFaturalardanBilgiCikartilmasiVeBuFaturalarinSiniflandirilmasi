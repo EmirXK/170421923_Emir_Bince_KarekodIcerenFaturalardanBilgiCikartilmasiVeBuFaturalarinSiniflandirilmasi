{
 "cells": [
  {
   "cell_type": "markdown",
   "id": "52cace3e",
   "metadata": {},
   "source": [
    "Data sampling 11k 22k 55k\n",
    "\n",
    "Logistic Regression model training with sample data11k 22k 55k\n",
    "\n",
    "Data summarizing 11k 22k 55k\n",
    "\n",
    "Logistic Regression model training with sample + summarized data 11k 22k 55k"
   ]
  },
  {
   "cell_type": "code",
   "execution_count": 1,
   "id": "8e64a9b2",
   "metadata": {},
   "outputs": [
    {
     "name": "stderr",
     "output_type": "stream",
     "text": [
      "/home/yegekucuk/venv/bitirme/lib/python3.12/site-packages/tqdm/auto.py:21: TqdmWarning: IProgress not found. Please update jupyter and ipywidgets. See https://ipywidgets.readthedocs.io/en/stable/user_install.html\n",
      "  from .autonotebook import tqdm as notebook_tqdm\n"
     ]
    }
   ],
   "source": [
    "from sklearn.model_selection import train_test_split\n",
    "from module import datasets\n",
    "from sklearn.feature_extraction.text import TfidfVectorizer\n",
    "from sklearn.metrics import classification_report\n",
    "from sklearn.linear_model import LogisticRegression\n",
    "from sklearn.preprocessing import LabelEncoder\n",
    "import pickle"
   ]
  },
  {
   "cell_type": "code",
   "execution_count": 2,
   "id": "51c1bd0e",
   "metadata": {},
   "outputs": [],
   "source": [
    "def train(dataset):\n",
    "    model = LogisticRegression()\n",
    "\n",
    "    vectorizer = TfidfVectorizer(max_features=5000)\n",
    "    X  = vectorizer.fit_transform(dataset['name'])\n",
    "\n",
    "    encoder = LabelEncoder()\n",
    "    y = encoder.fit_transform(dataset['main_category'])\n",
    "\n",
    "    x_train, x_test, y_train, y_test = train_test_split(X, y, test_size=0.2, random_state=42)\n",
    "    model.fit(x_train, y_train)\n",
    "\n",
    "    # Evaluation\n",
    "    y_pred_labels = model.predict(x_test)\n",
    "\n",
    "    print(classification_report(y_test, y_pred_labels, target_names=encoder.classes_))\n",
    "\n",
    "    return model"
   ]
  },
  {
   "cell_type": "code",
   "execution_count": 3,
   "id": "84d76491",
   "metadata": {},
   "outputs": [],
   "source": [
    "df = datasets.amazon_full()"
   ]
  },
  {
   "cell_type": "code",
   "execution_count": 4,
   "id": "96e5ca32",
   "metadata": {},
   "outputs": [
    {
     "name": "stdout",
     "output_type": "stream",
     "text": [
      "                         precision    recall  f1-score   support\n",
      "\n",
      "            accessories       0.75      0.96      0.84       464\n",
      "             appliances       0.84      0.90      0.87       143\n",
      "         bags & luggage       0.75      0.17      0.27        36\n",
      "        beauty & health       0.80      0.45      0.58        44\n",
      "        car & motorbike       0.89      0.25      0.39        32\n",
      "grocery & gourmet foods       1.00      0.06      0.12        16\n",
      "         home & kitchen       0.71      0.43      0.53        63\n",
      "    industrial supplies       1.00      0.06      0.11        17\n",
      "          kids' fashion       0.71      0.30      0.42        40\n",
      "         men's clothing       0.89      0.98      0.93       296\n",
      "            men's shoes       0.78      0.94      0.85       224\n",
      "                  music       0.00      0.00      0.00         3\n",
      "           pet supplies       0.00      0.00      0.00        10\n",
      "       sports & fitness       0.83      0.44      0.58        43\n",
      "                 stores       0.60      0.21      0.31       137\n",
      "   toys & baby products       0.93      0.65      0.76        20\n",
      "    tv, audio & cameras       0.83      0.97      0.89       269\n",
      "       women's clothing       0.90      0.97      0.94       328\n",
      "          women's shoes       1.00      0.59      0.74        22\n",
      "\n",
      "               accuracy                           0.82      2207\n",
      "              macro avg       0.75      0.49      0.53      2207\n",
      "           weighted avg       0.81      0.82      0.78      2207\n",
      "\n"
     ]
    }
   ],
   "source": [
    "_, df_sample_11k = train_test_split(df, \n",
    "                                test_size=0.01, \n",
    "                                stratify=df['main_category'], \n",
    "                                random_state=42)\n",
    "\n",
    "df_sample_11k\n",
    "df_sample_11k.to_csv(\"df_11k.csv\", index=False)\n",
    "\n",
    "model = train(df_sample_11k)\n",
    "\n",
    "with open('lr_11k.pkl', 'wb') as f:\n",
    "    pickle.dump(model, f)"
   ]
  },
  {
   "cell_type": "code",
   "execution_count": 5,
   "id": "32108ada",
   "metadata": {},
   "outputs": [
    {
     "name": "stdout",
     "output_type": "stream",
     "text": [
      "                         precision    recall  f1-score   support\n",
      "\n",
      "            accessories       0.80      0.95      0.87       945\n",
      "             appliances       0.85      0.97      0.91       272\n",
      "         bags & luggage       0.60      0.23      0.33        79\n",
      "        beauty & health       0.79      0.64      0.71        92\n",
      "        car & motorbike       0.87      0.58      0.69        57\n",
      "grocery & gourmet foods       1.00      0.57      0.73        28\n",
      "         home & kitchen       0.76      0.61      0.68       120\n",
      "    industrial supplies       0.78      0.18      0.30        38\n",
      "          kids' fashion       0.79      0.55      0.65       103\n",
      "         men's clothing       0.95      0.98      0.96       645\n",
      "            men's shoes       0.84      0.92      0.88       430\n",
      "                  music       0.00      0.00      0.00        13\n",
      "           pet supplies       1.00      0.44      0.62         9\n",
      "       sports & fitness       0.77      0.46      0.57       103\n",
      "                 stores       0.64      0.35      0.46       247\n",
      "   toys & baby products       0.94      0.63      0.76        49\n",
      "    tv, audio & cameras       0.86      0.97      0.92       542\n",
      "       women's clothing       0.92      0.97      0.94       590\n",
      "          women's shoes       0.97      0.65      0.78        51\n",
      "\n",
      "               accuracy                           0.85      4413\n",
      "              macro avg       0.80      0.61      0.67      4413\n",
      "           weighted avg       0.84      0.85      0.84      4413\n",
      "\n"
     ]
    }
   ],
   "source": [
    "_, df_sample_22k = train_test_split(df, \n",
    "                                test_size=0.02, \n",
    "                                stratify=df['main_category'], \n",
    "                                random_state=42)\n",
    "\n",
    "df_sample_22k\n",
    "df_sample_22k.to_csv(\"df_22k.csv\", index=False)\n",
    "\n",
    "model = train(df_sample_22k)\n",
    "\n",
    "with open('lr_22k.pkl', 'wb') as f:\n",
    "    pickle.dump(model, f)"
   ]
  },
  {
   "cell_type": "code",
   "execution_count": 6,
   "id": "9e8e3b8f",
   "metadata": {},
   "outputs": [
    {
     "name": "stdout",
     "output_type": "stream",
     "text": [
      "                         precision    recall  f1-score   support\n",
      "\n",
      "            accessories       0.85      0.94      0.89      2396\n",
      "             appliances       0.91      0.97      0.94       697\n",
      "         bags & luggage       0.60      0.40      0.48       210\n",
      "        beauty & health       0.72      0.79      0.75       193\n",
      "        car & motorbike       0.87      0.64      0.74       151\n",
      "grocery & gourmet foods       0.85      0.69      0.76        65\n",
      "         home & kitchen       0.76      0.76      0.76       313\n",
      "    industrial supplies       0.93      0.37      0.53        73\n",
      "          kids' fashion       0.83      0.65      0.73       270\n",
      "         men's clothing       0.93      0.98      0.95      1477\n",
      "            men's shoes       0.86      0.93      0.90      1161\n",
      "                  music       1.00      0.23      0.37        22\n",
      "           pet supplies       0.90      0.36      0.51        25\n",
      "       sports & fitness       0.74      0.52      0.61       235\n",
      "                 stores       0.56      0.35      0.43       632\n",
      "   toys & baby products       0.88      0.61      0.72       127\n",
      "    tv, audio & cameras       0.91      0.97      0.94      1385\n",
      "       women's clothing       0.93      0.97      0.95      1482\n",
      "          women's shoes       0.94      0.69      0.79       118\n",
      "\n",
      "               accuracy                           0.87     11032\n",
      "              macro avg       0.84      0.67      0.72     11032\n",
      "           weighted avg       0.86      0.87      0.86     11032\n",
      "\n"
     ]
    }
   ],
   "source": [
    "_, df_sample_55k = train_test_split(df, \n",
    "                                test_size=0.05, \n",
    "                                stratify=df['main_category'], \n",
    "                                random_state=42)\n",
    "\n",
    "df_sample_55k\n",
    "df_sample_55k.to_csv(\"df_55k.csv\", index=False)\n",
    "\n",
    "model = train(df_sample_55k)\n",
    "\n",
    "with open('lr_55k.pkl', 'wb') as f:\n",
    "    pickle.dump(model, f)"
   ]
  },
  {
   "cell_type": "code",
   "execution_count": 8,
   "id": "95f1979b",
   "metadata": {},
   "outputs": [
    {
     "name": "stdout",
     "output_type": "stream",
     "text": [
      "cuda\n"
     ]
    }
   ],
   "source": [
    "from transformers import T5Tokenizer, T5ForConditionalGeneration\n",
    "import torch\n",
    "\n",
    "device = torch.device(\"cuda\" if torch.cuda.is_available() else \"cpu\")\n",
    "print(device)\n",
    "tokenizer = T5Tokenizer.from_pretrained(\"t5-small\")\n",
    "model = T5ForConditionalGeneration.from_pretrained(\"t5-small\").to(device)\n",
    "\n",
    "def simplify_sentence(sentence):\n",
    "    input_text = \"summarize: \" + sentence\n",
    "    inputs = tokenizer.encode(input_text, return_tensors=\"pt\", max_length=512, truncation=True).to(device)\n",
    "    outputs = model.generate(inputs, max_length=10, num_beams=4, early_stopping=True)\n",
    "    return tokenizer.decode(outputs[0], skip_special_tokens=True)"
   ]
  },
  {
   "cell_type": "code",
   "execution_count": 9,
   "id": "cf1ea08d",
   "metadata": {},
   "outputs": [
    {
     "name": "stdout",
     "output_type": "stream",
     "text": [
      "883562\n",
      "326175\n"
     ]
    }
   ],
   "source": [
    "names = df_sample_11k[\"name\"].tolist()\n",
    "summarized = list(map(simplify_sentence, names))\n",
    "# Len of tokens\n",
    "print(len(\" \".join(names)))\n",
    "print(len(\" \".join(summarized)))\n",
    "df_sample_11k[\"name\"] = summarized\n",
    "df_sample_11k.to_csv(\"df_11k_summarized.csv\", index=False)"
   ]
  },
  {
   "cell_type": "code",
   "execution_count": 10,
   "id": "1e21c19c",
   "metadata": {},
   "outputs": [
    {
     "name": "stdout",
     "output_type": "stream",
     "text": [
      "1774129\n",
      "652379\n"
     ]
    }
   ],
   "source": [
    "names = df_sample_22k[\"name\"].tolist()\n",
    "summarized = list(map(simplify_sentence, names))\n",
    "# Len of tokens\n",
    "print(len(\" \".join(names)))\n",
    "print(len(\" \".join(summarized)))\n",
    "df_sample_22k[\"name\"] = summarized\n",
    "df_sample_22k.to_csv(\"df_22k_summarized.csv\", index=False)"
   ]
  },
  {
   "cell_type": "code",
   "execution_count": 11,
   "id": "22bc19b6",
   "metadata": {},
   "outputs": [
    {
     "name": "stdout",
     "output_type": "stream",
     "text": [
      "4424431\n",
      "1628690\n"
     ]
    }
   ],
   "source": [
    "names = df_sample_55k[\"name\"].tolist()\n",
    "summarized = list(map(simplify_sentence, names))\n",
    "# Len of tokens\n",
    "print(len(\" \".join(names)))\n",
    "print(len(\" \".join(summarized)))\n",
    "df_sample_55k[\"name\"] = summarized\n",
    "df_sample_55k.to_csv(\"df_55k_summarized.csv\", index=False)"
   ]
  },
  {
   "cell_type": "code",
   "execution_count": 12,
   "id": "e0297404",
   "metadata": {},
   "outputs": [
    {
     "name": "stdout",
     "output_type": "stream",
     "text": [
      "                         precision    recall  f1-score   support\n",
      "\n",
      "            accessories       0.59      0.90      0.72       464\n",
      "             appliances       0.80      0.66      0.72       143\n",
      "         bags & luggage       0.75      0.08      0.15        36\n",
      "        beauty & health       1.00      0.14      0.24        44\n",
      "        car & motorbike       0.83      0.16      0.26        32\n",
      "grocery & gourmet foods       0.00      0.00      0.00        16\n",
      "         home & kitchen       0.71      0.08      0.14        63\n",
      "    industrial supplies       0.00      0.00      0.00        17\n",
      "          kids' fashion       0.60      0.30      0.40        40\n",
      "         men's clothing       0.83      0.89      0.86       296\n",
      "            men's shoes       0.75      0.82      0.78       224\n",
      "                  music       0.00      0.00      0.00         3\n",
      "           pet supplies       0.00      0.00      0.00        10\n",
      "       sports & fitness       0.83      0.23      0.36        43\n",
      "                 stores       0.65      0.20      0.31       137\n",
      "   toys & baby products       1.00      0.35      0.52        20\n",
      "    tv, audio & cameras       0.69      0.92      0.79       269\n",
      "       women's clothing       0.81      0.88      0.84       328\n",
      "          women's shoes       1.00      0.09      0.17        22\n",
      "\n",
      "               accuracy                           0.71      2207\n",
      "              macro avg       0.62      0.35      0.38      2207\n",
      "           weighted avg       0.72      0.71      0.67      2207\n",
      "\n"
     ]
    }
   ],
   "source": [
    "model = train(df_sample_11k)\n",
    "\n",
    "with open('lr_11k_summarized.pkl', 'wb') as f:\n",
    "    pickle.dump(model, f)"
   ]
  },
  {
   "cell_type": "code",
   "execution_count": 13,
   "id": "9c501707",
   "metadata": {},
   "outputs": [
    {
     "name": "stdout",
     "output_type": "stream",
     "text": [
      "                         precision    recall  f1-score   support\n",
      "\n",
      "            accessories       0.65      0.89      0.75       945\n",
      "             appliances       0.74      0.76      0.75       272\n",
      "         bags & luggage       0.90      0.11      0.20        79\n",
      "        beauty & health       0.94      0.36      0.52        92\n",
      "        car & motorbike       0.89      0.30      0.45        57\n",
      "grocery & gourmet foods       0.83      0.18      0.29        28\n",
      "         home & kitchen       0.52      0.23      0.31       120\n",
      "    industrial supplies       1.00      0.03      0.05        38\n",
      "          kids' fashion       0.77      0.43      0.55       103\n",
      "         men's clothing       0.88      0.91      0.89       645\n",
      "            men's shoes       0.78      0.84      0.81       430\n",
      "                  music       0.00      0.00      0.00        13\n",
      "           pet supplies       1.00      0.22      0.36         9\n",
      "       sports & fitness       0.90      0.25      0.39       103\n",
      "                 stores       0.54      0.28      0.36       247\n",
      "   toys & baby products       0.81      0.27      0.40        49\n",
      "    tv, audio & cameras       0.72      0.89      0.80       542\n",
      "       women's clothing       0.82      0.91      0.86       590\n",
      "          women's shoes       1.00      0.22      0.35        51\n",
      "\n",
      "               accuracy                           0.74      4413\n",
      "              macro avg       0.77      0.42      0.48      4413\n",
      "           weighted avg       0.75      0.74      0.71      4413\n",
      "\n"
     ]
    }
   ],
   "source": [
    "model = train(df_sample_22k)\n",
    "\n",
    "with open('lr_22k_summarized.pkl', 'wb') as f:\n",
    "    pickle.dump(model, f)"
   ]
  },
  {
   "cell_type": "code",
   "execution_count": 14,
   "id": "8e08bf4c",
   "metadata": {},
   "outputs": [
    {
     "name": "stdout",
     "output_type": "stream",
     "text": [
      "                         precision    recall  f1-score   support\n",
      "\n",
      "            accessories       0.74      0.89      0.81      2396\n",
      "             appliances       0.78      0.81      0.79       697\n",
      "         bags & luggage       0.69      0.28      0.40       210\n",
      "        beauty & health       0.66      0.36      0.47       193\n",
      "        car & motorbike       0.79      0.36      0.50       151\n",
      "grocery & gourmet foods       0.88      0.35      0.51        65\n",
      "         home & kitchen       0.60      0.38      0.46       313\n",
      "    industrial supplies       0.62      0.14      0.22        73\n",
      "          kids' fashion       0.78      0.56      0.65       270\n",
      "         men's clothing       0.86      0.92      0.89      1477\n",
      "            men's shoes       0.81      0.88      0.85      1161\n",
      "                  music       1.00      0.05      0.09        22\n",
      "           pet supplies       1.00      0.16      0.28        25\n",
      "       sports & fitness       0.69      0.31      0.43       235\n",
      "                 stores       0.51      0.26      0.34       632\n",
      "   toys & baby products       0.77      0.38      0.51       127\n",
      "    tv, audio & cameras       0.74      0.91      0.82      1385\n",
      "       women's clothing       0.84      0.91      0.87      1482\n",
      "          women's shoes       0.84      0.31      0.46       118\n",
      "\n",
      "               accuracy                           0.77     11032\n",
      "              macro avg       0.77      0.49      0.54     11032\n",
      "           weighted avg       0.76      0.77      0.75     11032\n",
      "\n"
     ]
    }
   ],
   "source": [
    "model = train(df_sample_55k)\n",
    "\n",
    "with open('lr_55k_summarized.pkl', 'wb') as f:\n",
    "    pickle.dump(model, f)"
   ]
  }
 ],
 "metadata": {
  "kernelspec": {
   "display_name": "bitirme",
   "language": "python",
   "name": "python3"
  },
  "language_info": {
   "codemirror_mode": {
    "name": "ipython",
    "version": 3
   },
   "file_extension": ".py",
   "mimetype": "text/x-python",
   "name": "python",
   "nbconvert_exporter": "python",
   "pygments_lexer": "ipython3",
   "version": "3.12.3"
  }
 },
 "nbformat": 4,
 "nbformat_minor": 5
}
