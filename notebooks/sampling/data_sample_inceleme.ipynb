{
 "cells": [
  {
   "cell_type": "code",
   "execution_count": 1,
   "id": "4762f76f",
   "metadata": {},
   "outputs": [],
   "source": [
    "import pandas as pd"
   ]
  },
  {
   "cell_type": "code",
   "execution_count": 2,
   "id": "bb690e12",
   "metadata": {},
   "outputs": [
    {
     "data": {
      "application/vnd.microsoft.datawrangler.viewer.v0+json": {
       "columns": [
        {
         "name": "index",
         "rawType": "int64",
         "type": "integer"
        },
        {
         "name": "name",
         "rawType": "object",
         "type": "string"
        },
        {
         "name": "main_category",
         "rawType": "object",
         "type": "string"
        }
       ],
       "conversionMethod": "pd.DataFrame",
       "ref": "1f5b79e8-8800-4768-a756-785e8c50efd6",
       "rows": [
        [
         "0",
         "Zeya Yellow Gold Ring",
         "accessories"
        ],
        [
         "1",
         "Gizga Essentials Professional 6-in-1 Cleaning Kit for Cameras & Sensitive Electronics (Includes: Air Blower, Cotton Swabs,...",
         "tv, audio & cameras"
        ],
        [
         "2",
         "Pepe Jeans Innerwear Men's Cotton Brief",
         "men's clothing"
        ],
        [
         "3",
         "Flat 10% off at checkout||Jack & Jones E-Gift Card",
         "accessories"
        ],
        [
         "4",
         "MOSTOS ; Brings Superior® - 58mm Lens Cap For Canon Camera Cover Cap Compatible for Canon EF-S 18-55mm Lens Compatible wit...",
         "tv, audio & cameras"
        ],
        [
         "5",
         "AFJ Gold 1 Gram Gold Plated Traditional Designer Trendy Stone Bangles Sets for Women & Girls (Bangle 3, 2.4)",
         "accessories"
        ],
        [
         "6",
         "INDO ERA Women's White Floral Flared Kurta Sets with Dupatta(KH0WH8728)",
         "women's clothing"
        ],
        [
         "7",
         "Sonata Essentials Analog Champagne Dial Men's Watch-NN77082YL01W/NP77082YL01W",
         "stores"
        ],
        [
         "8",
         "MIRCHI FASHION Women's Cotton Blend Leheriya Printed Saree with Blouse Piece",
         "women's clothing"
        ],
        [
         "9",
         "SMARNN Women's 22K Gold Plated Jadau Sita Rani with Detachable Dori",
         "accessories"
        ],
        [
         "10",
         "Monte Carlo Womens Blend Wool Blue Solid V Neck Cardigan |1220716SL-1089",
         "women's clothing"
        ],
        [
         "11",
         "JOREN Women's Cotton Hipsters Panties (Pack of 3)",
         "women's clothing"
        ],
        [
         "12",
         "Royal Export Women's Straight Floral Printed Kurta Pant & Dupatta",
         "women's clothing"
        ],
        [
         "13",
         "SIRIL Women's Crepe Unstitched Dress Material",
         "women's clothing"
        ],
        [
         "14",
         "TODANI JEMS Unisex 7.25 Ratti Natural Panna Emerald Gemstone Stone Ring with Lab Certificate",
         "accessories"
        ],
        [
         "15",
         "Energizer MAX Alkaline Battery E92BP4 AAA Value Pack - Total 4 AAA Batteries",
         "tv, audio & cameras"
        ],
        [
         "16",
         "Eve's Beauty Women's Tanktop",
         "women's clothing"
        ],
        [
         "17",
         "Nike Men's Charge SLR Txt Unisex Cd6279-001 9.5 M US Black/Black-Black",
         "stores"
        ],
        [
         "18",
         "DECORVAIZ Home Decor Wood & Metal Floor Lamp (Brown) Pack of 1",
         "home & kitchen"
        ],
        [
         "19",
         "PC Jeweller The Marquis 18KT Yellow Gold and Solitaire Ring for Women",
         "accessories"
        ],
        [
         "20",
         "(Renewed) boAt Aavante Bar 550 Portable Soundbar 16 w Bluetooth Home Audio Speaker(Black, Mono Channel)",
         "tv, audio & cameras"
        ],
        [
         "21",
         "Tway Sneakers for Men Casual Shoes for Men Sports Running Shoes for Men Boys Pack of 1",
         "men's shoes"
        ],
        [
         "22",
         "Caprese Nancy Women's Sling Bag (Fuschia)",
         "accessories"
        ],
        [
         "23",
         "Spigen RFID Aluminium Blocking Wallet Slim Minimalist Credit Card Holder with Key Ring up to 12 Cards, Carabiner for Men a...",
         "tv, audio & cameras"
        ],
        [
         "24",
         "Comfabie PU Leather Stylish Sling Bag for Women/Trendy Branded Sling Bag for Girls Latest Small Shoulder Bags for Women Mi...",
         "accessories"
        ],
        [
         "25",
         "Max Men's Eco Wash Slim Fit Dark Structured Jeans",
         "men's clothing"
        ],
        [
         "26",
         "BIBA Women's Cotton Dupatta (FLORAL B14936_Navy Blue/Red_Free_Navy Blue, red_Free Size)",
         "women's clothing"
        ],
        [
         "27",
         "SAMEER Wall Cum Table Fan || Powerful High 3 Speed Motor 230 mm Anti Dust 3 Blade Table Fan,Black",
         "appliances"
        ],
        [
         "28",
         "HAMZ Light Weight Stainless Steel Strap Suitable for iWatch 45mm/44mm/42mm Series 7/6/SE/5/4/3/2/1 (Silver-Black)",
         "tv, audio & cameras"
        ],
        [
         "29",
         "Bollyclues Women's Net Embroidered Readymade Salwar Suit Set",
         "women's clothing"
        ],
        [
         "30",
         "C&E 15ft(4.5M) High Speed Ultra 4K HDMI Cable with Ethernet Gold (15 Feet/4.5 Meters) Supports 4Kx2K@60HZ, 18 Gbps - 24 AW...",
         "tv, audio & cameras"
        ],
        [
         "31",
         "Jack & Jones Mens 231115202 Skate Shoe",
         "men's shoes"
        ],
        [
         "32",
         "Arrow Men Shirt",
         "men's clothing"
        ],
        [
         "33",
         "Whirlpool 245 L 3 Star Frost-Free Inverter Double Door Refrigerator (NEO DF258 ROY GERMAN STEEL (3S-N, German Steel, 2022 ...",
         "appliances"
        ],
        [
         "34",
         "Sabates-Men's Stylish Woven Faux Leather Corporate Height Increasing Casual Oxford Shoes Tan",
         "men's shoes"
        ],
        [
         "35",
         "NEUTRON Stylish Analog White and Black Color Dial Women Watch - GW70-G572 (Pack of 2)",
         "accessories"
        ],
        [
         "36",
         "PC Jeweller The Guiseppina 18KT Yellow Gold and Diamond Ring for Men",
         "accessories"
        ],
        [
         "37",
         "FREDDY Full Rim reading glasses for Men and women",
         "kids' fashion"
        ],
        [
         "38",
         "Portable Megaphone Speaker Siren Record Bullhorn - Compact and Battery Operated, (80 Watt - Red)",
         "tv, audio & cameras"
        ],
        [
         "39",
         "Blue Printed Kurta With Pant And Dupatta",
         "stores"
        ],
        [
         "40",
         "PKST Mini A8 Audio Recorder | Recorder Product Microphone | Audio Small Communication Device | Built-in Rechargeable Batte...",
         "tv, audio & cameras"
        ],
        [
         "41",
         "Loafer Shoes for Men",
         "men's shoes"
        ],
        [
         "42",
         "IKEA BLASKA Clothes-basket, white, 36 l (10 gallon) ,polypropylene;Plastic",
         "appliances"
        ],
        [
         "43",
         "Women Casual Shoe",
         "women's shoes"
        ],
        [
         "44",
         "Arrow Men's Slim Fit Shirt",
         "men's clothing"
        ],
        [
         "45",
         "Koel by Lavie Women's Mila Sling Bag (Mint)",
         "stores"
        ],
        [
         "46",
         "AADGEX Portable Tape Sealing Machine Portable Bag Sealer Kitchen Gadget/Portable Household Sealing Machine for Kitchen Bin...",
         "appliances"
        ],
        [
         "47",
         "SIMMAA Men's Polo T-Shirt Full Hand (Polyester)",
         "men's clothing"
        ],
        [
         "48",
         "Melorra 18K Floral Enigma Gold Earrings",
         "accessories"
        ],
        [
         "49",
         "PC Jeweller The Giacomo 18KT Rose Gold and Diamond Ring for Women",
         "accessories"
        ]
       ],
       "shape": {
        "columns": 2,
        "rows": 55159
       }
      },
      "text/html": [
       "<div>\n",
       "<style scoped>\n",
       "    .dataframe tbody tr th:only-of-type {\n",
       "        vertical-align: middle;\n",
       "    }\n",
       "\n",
       "    .dataframe tbody tr th {\n",
       "        vertical-align: top;\n",
       "    }\n",
       "\n",
       "    .dataframe thead th {\n",
       "        text-align: right;\n",
       "    }\n",
       "</style>\n",
       "<table border=\"1\" class=\"dataframe\">\n",
       "  <thead>\n",
       "    <tr style=\"text-align: right;\">\n",
       "      <th></th>\n",
       "      <th>name</th>\n",
       "      <th>main_category</th>\n",
       "    </tr>\n",
       "  </thead>\n",
       "  <tbody>\n",
       "    <tr>\n",
       "      <th>0</th>\n",
       "      <td>Zeya Yellow Gold Ring</td>\n",
       "      <td>accessories</td>\n",
       "    </tr>\n",
       "    <tr>\n",
       "      <th>1</th>\n",
       "      <td>Gizga Essentials Professional 6-in-1 Cleaning ...</td>\n",
       "      <td>tv, audio &amp; cameras</td>\n",
       "    </tr>\n",
       "    <tr>\n",
       "      <th>2</th>\n",
       "      <td>Pepe Jeans Innerwear Men's Cotton Brief</td>\n",
       "      <td>men's clothing</td>\n",
       "    </tr>\n",
       "    <tr>\n",
       "      <th>3</th>\n",
       "      <td>Flat 10% off at checkout||Jack &amp; Jones E-Gift ...</td>\n",
       "      <td>accessories</td>\n",
       "    </tr>\n",
       "    <tr>\n",
       "      <th>4</th>\n",
       "      <td>MOSTOS ; Brings Superior® - 58mm Lens Cap For ...</td>\n",
       "      <td>tv, audio &amp; cameras</td>\n",
       "    </tr>\n",
       "    <tr>\n",
       "      <th>...</th>\n",
       "      <td>...</td>\n",
       "      <td>...</td>\n",
       "    </tr>\n",
       "    <tr>\n",
       "      <th>55154</th>\n",
       "      <td>truke Air Buds Lite True Wireless in Ear Earbu...</td>\n",
       "      <td>tv, audio &amp; cameras</td>\n",
       "    </tr>\n",
       "    <tr>\n",
       "      <th>55155</th>\n",
       "      <td>Van Heusen Women Casual Pants</td>\n",
       "      <td>women's clothing</td>\n",
       "    </tr>\n",
       "    <tr>\n",
       "      <th>55156</th>\n",
       "      <td>bluei Boss 3.5mm Jack in-Ear Wired Earphones P...</td>\n",
       "      <td>tv, audio &amp; cameras</td>\n",
       "    </tr>\n",
       "    <tr>\n",
       "      <th>55157</th>\n",
       "      <td>Varkala Silk Sarees Women's | Paithani | Soft ...</td>\n",
       "      <td>women's clothing</td>\n",
       "    </tr>\n",
       "    <tr>\n",
       "      <th>55158</th>\n",
       "      <td>LuckOn Batwa Women's Genuine Leather Small Han...</td>\n",
       "      <td>accessories</td>\n",
       "    </tr>\n",
       "  </tbody>\n",
       "</table>\n",
       "<p>55159 rows × 2 columns</p>\n",
       "</div>"
      ],
      "text/plain": [
       "                                                    name        main_category\n",
       "0                                  Zeya Yellow Gold Ring          accessories\n",
       "1      Gizga Essentials Professional 6-in-1 Cleaning ...  tv, audio & cameras\n",
       "2                Pepe Jeans Innerwear Men's Cotton Brief       men's clothing\n",
       "3      Flat 10% off at checkout||Jack & Jones E-Gift ...          accessories\n",
       "4      MOSTOS ; Brings Superior® - 58mm Lens Cap For ...  tv, audio & cameras\n",
       "...                                                  ...                  ...\n",
       "55154  truke Air Buds Lite True Wireless in Ear Earbu...  tv, audio & cameras\n",
       "55155                      Van Heusen Women Casual Pants     women's clothing\n",
       "55156  bluei Boss 3.5mm Jack in-Ear Wired Earphones P...  tv, audio & cameras\n",
       "55157  Varkala Silk Sarees Women's | Paithani | Soft ...     women's clothing\n",
       "55158  LuckOn Batwa Women's Genuine Leather Small Han...          accessories\n",
       "\n",
       "[55159 rows x 2 columns]"
      ]
     },
     "execution_count": 2,
     "metadata": {},
     "output_type": "execute_result"
    }
   ],
   "source": [
    "df = pd.read_csv(\"./data_sample.csv\")\n",
    "\n",
    "df"
   ]
  },
  {
   "cell_type": "code",
   "execution_count": 3,
   "id": "387282fb",
   "metadata": {},
   "outputs": [
    {
     "name": "stdout",
     "output_type": "stream",
     "text": [
      "main_category\n",
      "accessories                11614\n",
      "men's clothing              7666\n",
      "women's clothing            7651\n",
      "tv, audio & cameras         6866\n",
      "men's shoes                 5746\n",
      "appliances                  3310\n",
      "stores                      3290\n",
      "home & kitchen              1459\n",
      "kids' fashion               1349\n",
      "sports & fitness            1265\n",
      "bags & luggage              1042\n",
      "beauty & health             1012\n",
      "car & motorbike              708\n",
      "toys & baby products         622\n",
      "women's shoes                547\n",
      "industrial supplies          410\n",
      "grocery & gourmet foods      331\n",
      "pet supplies                 163\n",
      "music                        108\n",
      "Name: count, dtype: int64\n"
     ]
    }
   ],
   "source": [
    "print(df['main_category'].value_counts())"
   ]
  },
  {
   "cell_type": "code",
   "execution_count": null,
   "id": "7ec15d11",
   "metadata": {},
   "outputs": [
    {
     "name": "stdout",
     "output_type": "stream",
     "text": [
      "19\n"
     ]
    }
   ],
   "source": [
    "# uniques (len classes)\n",
    "print(len(set(df['main_category'].to_list())))"
   ]
  }
 ],
 "metadata": {
  "kernelspec": {
   "display_name": "bitirme",
   "language": "python",
   "name": "python3"
  },
  "language_info": {
   "codemirror_mode": {
    "name": "ipython",
    "version": 3
   },
   "file_extension": ".py",
   "mimetype": "text/x-python",
   "name": "python",
   "nbconvert_exporter": "python",
   "pygments_lexer": "ipython3",
   "version": "3.12.3"
  }
 },
 "nbformat": 4,
 "nbformat_minor": 5
}
