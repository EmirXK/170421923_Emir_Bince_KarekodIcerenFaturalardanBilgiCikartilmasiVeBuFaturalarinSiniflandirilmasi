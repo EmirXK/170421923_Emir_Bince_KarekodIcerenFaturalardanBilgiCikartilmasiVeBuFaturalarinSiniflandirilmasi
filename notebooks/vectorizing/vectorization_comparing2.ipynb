{
 "cells": [
  {
   "cell_type": "code",
   "execution_count": 1,
   "id": "f8b1217e",
   "metadata": {},
   "outputs": [
    {
     "name": "stderr",
     "output_type": "stream",
     "text": [
      "/home/yegekucuk/venv/bitirme/lib/python3.12/site-packages/tqdm/auto.py:21: TqdmWarning: IProgress not found. Please update jupyter and ipywidgets. See https://ipywidgets.readthedocs.io/en/stable/user_install.html\n",
      "  from .autonotebook import tqdm as notebook_tqdm\n"
     ]
    }
   ],
   "source": [
    "from module import datasets\n",
    "from module import models\n",
    "from sklearn.feature_extraction.text import CountVectorizer\n",
    "from sklearn.feature_extraction.text import TfidfVectorizer\n",
    "from sklearn.preprocessing import LabelEncoder"
   ]
  },
  {
   "cell_type": "code",
   "execution_count": 2,
   "id": "8b52ce50",
   "metadata": {},
   "outputs": [
    {
     "name": "stdout",
     "output_type": "stream",
     "text": [
      "                                                     name        main_category\n",
      "0       AILTINO Multicolor Women Potli Bag combo's and...          accessories\n",
      "1       Wireless Bluetooth Headphones Earphones for On...  tv, audio & cameras\n",
      "2       BATA Remo 825-6722-43 Men's Black Formal Leath...          men's shoes\n",
      "3                 Satya Paul Leather Black Wallet for Men               stores\n",
      "4       Mclothings Women's Ethnic wear Silk n Blue Col...     women's clothing\n",
      "...                                                   ...                  ...\n",
      "220629  DREAM STORE - TVS Pep+ New BS6 Water Resistant...      car & motorbike\n",
      "220630  myaddiction Women Vintage Triangle Mirrored Su...          accessories\n",
      "220631  Aircum Combo FITMAN Blue & Grey Sneakers for M...          men's shoes\n",
      "220632                                    Lee Men T-Shirt       men's clothing\n",
      "220633  Style and Culture Cotton Canvas Reusable Veget...          accessories\n",
      "\n",
      "[220634 rows x 2 columns]\n"
     ]
    }
   ],
   "source": [
    "# Load datasets\n",
    "df = datasets.amazon(220)\n",
    "print(df)"
   ]
  },
  {
   "cell_type": "code",
   "execution_count": 3,
   "id": "91f87515",
   "metadata": {},
   "outputs": [
    {
     "name": "stdout",
     "output_type": "stream",
     "text": [
      "                         precision    recall  f1-score   support\n",
      "\n",
      "            accessories       0.88      0.94      0.91      9410\n",
      "             appliances       0.95      0.97      0.96      2678\n",
      "         bags & luggage       0.67      0.48      0.56       812\n",
      "        beauty & health       0.87      0.87      0.87       778\n",
      "        car & motorbike       0.91      0.84      0.87       578\n",
      "grocery & gourmet foods       0.89      0.85      0.87       264\n",
      "         home & kitchen       0.82      0.80      0.81      1196\n",
      "    industrial supplies       0.74      0.62      0.68       296\n",
      "          kids' fashion       0.82      0.69      0.75      1077\n",
      "         men's clothing       0.95      0.98      0.97      6087\n",
      "            men's shoes       0.87      0.95      0.91      4594\n",
      "                  music       0.93      0.65      0.76        99\n",
      "           pet supplies       0.93      0.83      0.88       109\n",
      "       sports & fitness       0.75      0.65      0.69      1046\n",
      "                 stores       0.63      0.44      0.52      2598\n",
      "   toys & baby products       0.88      0.83      0.85       499\n",
      "    tv, audio & cameras       0.96      0.98      0.97      5438\n",
      "       women's clothing       0.95      0.97      0.96      6137\n",
      "          women's shoes       0.88      0.89      0.89       431\n",
      "\n",
      "               accuracy                           0.89     44127\n",
      "              macro avg       0.86      0.80      0.82     44127\n",
      "           weighted avg       0.89      0.89      0.89     44127\n",
      "\n"
     ]
    }
   ],
   "source": [
    "# Label Encoding Y\n",
    "le = LabelEncoder()\n",
    "y = le.fit_transform(df['main_category'])\n",
    "\n",
    "# Bag of Words X\n",
    "names = df[\"name\"]\n",
    "\n",
    "cv = CountVectorizer()\n",
    "X = cv.fit_transform(names)\n",
    "\n",
    "model_220k = models.train_and_eval(X, y, le.classes_)\n",
    "\n",
    "# Save the model\n",
    "models.save_model(model_220k, \"lr_220k_BoW.pkl\")"
   ]
  },
  {
   "cell_type": "code",
   "execution_count": 5,
   "id": "9a5b7bbe",
   "metadata": {},
   "outputs": [
    {
     "name": "stdout",
     "output_type": "stream",
     "text": [
      "                         precision    recall  f1-score   support\n",
      "\n",
      "            accessories       0.87      0.95      0.91      9410\n",
      "             appliances       0.93      0.97      0.95      2678\n",
      "         bags & luggage       0.69      0.42      0.52       812\n",
      "        beauty & health       0.85      0.86      0.85       778\n",
      "        car & motorbike       0.89      0.78      0.83       578\n",
      "grocery & gourmet foods       0.93      0.82      0.87       264\n",
      "         home & kitchen       0.80      0.78      0.79      1196\n",
      "    industrial supplies       0.81      0.49      0.61       296\n",
      "          kids' fashion       0.80      0.67      0.73      1077\n",
      "         men's clothing       0.94      0.98      0.96      6087\n",
      "            men's shoes       0.87      0.95      0.91      4594\n",
      "                  music       1.00      0.37      0.54        99\n",
      "           pet supplies       0.93      0.77      0.84       109\n",
      "       sports & fitness       0.78      0.62      0.69      1046\n",
      "                 stores       0.67      0.40      0.51      2598\n",
      "   toys & baby products       0.87      0.76      0.81       499\n",
      "    tv, audio & cameras       0.94      0.98      0.96      5438\n",
      "       women's clothing       0.94      0.98      0.96      6137\n",
      "          women's shoes       0.89      0.84      0.87       431\n",
      "\n",
      "               accuracy                           0.89     44127\n",
      "              macro avg       0.86      0.76      0.80     44127\n",
      "           weighted avg       0.88      0.89      0.88     44127\n",
      "\n"
     ]
    }
   ],
   "source": [
    "# Label Encoding Y\n",
    "le = LabelEncoder()\n",
    "y = le.fit_transform(df['main_category'])\n",
    "\n",
    "# TF-IDF X\n",
    "names = df[\"name\"]\n",
    "\n",
    "cv = TfidfVectorizer()\n",
    "X = cv.fit_transform(names)\n",
    "\n",
    "model_220k = models.train_and_eval(X, y, le.classes_)\n",
    "\n",
    "# Save the model\n",
    "models.save_model(model_220k, \"lr_220k.pkl\")"
   ]
  }
 ],
 "metadata": {
  "kernelspec": {
   "display_name": "bitirme",
   "language": "python",
   "name": "python3"
  },
  "language_info": {
   "codemirror_mode": {
    "name": "ipython",
    "version": 3
   },
   "file_extension": ".py",
   "mimetype": "text/x-python",
   "name": "python",
   "nbconvert_exporter": "python",
   "pygments_lexer": "ipython3",
   "version": "3.12.3"
  }
 },
 "nbformat": 4,
 "nbformat_minor": 5
}
