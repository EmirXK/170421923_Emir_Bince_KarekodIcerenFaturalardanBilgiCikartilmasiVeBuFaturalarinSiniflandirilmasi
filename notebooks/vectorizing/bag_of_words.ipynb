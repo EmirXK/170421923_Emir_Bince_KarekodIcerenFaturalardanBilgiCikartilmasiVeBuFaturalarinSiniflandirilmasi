{
 "cells": [
  {
   "cell_type": "code",
   "execution_count": 1,
   "id": "1c5639fc",
   "metadata": {},
   "outputs": [
    {
     "name": "stderr",
     "output_type": "stream",
     "text": [
      "/home/yegekucuk/venv/bitirme/lib/python3.12/site-packages/tqdm/auto.py:21: TqdmWarning: IProgress not found. Please update jupyter and ipywidgets. See https://ipywidgets.readthedocs.io/en/stable/user_install.html\n",
      "  from .autonotebook import tqdm as notebook_tqdm\n"
     ]
    }
   ],
   "source": [
    "from sklearn.feature_extraction.text import CountVectorizer\n",
    "from sklearn.preprocessing import LabelEncoder\n",
    "from module import amazon\n",
    "from module import models\n",
    "from sklearn.model_selection import train_test_split\n",
    "from sklearn.metrics import classification_report"
   ]
  },
  {
   "cell_type": "code",
   "execution_count": 2,
   "id": "d42dd3b0",
   "metadata": {},
   "outputs": [
    {
     "data": {
      "application/vnd.microsoft.datawrangler.viewer.v0+json": {
       "columns": [
        {
         "name": "index",
         "rawType": "int64",
         "type": "integer"
        },
        {
         "name": "name",
         "rawType": "object",
         "type": "string"
        },
        {
         "name": "main_category",
         "rawType": "object",
         "type": "string"
        }
       ],
       "conversionMethod": "pd.DataFrame",
       "ref": "79b88b47-23ab-4523-b668-2e2694f3b897",
       "rows": [
        [
         "0",
         "ASJAR Men's Ultra-Soft Lycra Material | Ice-Silk Men's Short | Underwear | Multi-Colored.",
         "men's clothing"
        ],
        [
         "1",
         "EditLook Men's Slim Fit Wash Knee Distressed Jeans Black",
         "men's clothing"
        ],
        [
         "2",
         "Pepe Jeans Men's Slim Fit Jeans (PIMC0003498_Dep-Indi_38W x 34L) Blue",
         "men's clothing"
        ],
        [
         "3",
         "Red Tape Men Blue Walking Shoes",
         "men's shoes"
        ],
        [
         "4",
         "FEDUS USB 3.0 Extension Cable 1.5M, Aluminum Alloy USB Cable Extender SuperSpeed USB 3.0 Type A Male to USB A Female Exten...",
         "tv, audio & cameras"
        ],
        [
         "5",
         "Boltove® Decoration Sky Blue Backdrop Curtain Tulle Net Transparent for Birthdays Anniversary Baby Shower Photo Shoot Wedd...",
         "tv, audio & cameras"
        ],
        [
         "6",
         "Neu Look Gym wear Leggings Ankle Length Workout Active wear | Stretchable Tights | High Waist Sports Fitness Yoga Track Pa...",
         "women's clothing"
        ],
        [
         "7",
         "Sidharth Gems Zircon Cubic Zirconia American Diamond Loose Natural Certified Precious Gemstone 6.25",
         "accessories"
        ],
        [
         "8",
         "Dhanuka Agritech Limited DHANUKA AGRITECH Weedmar 2, 4-D Dimethyl Amine Salt 58% Sl (1000 ML) for lawns Garden and Crops W...",
         "industrial supplies"
        ],
        [
         "9",
         "MAUTIK SADIWALA 10 face rudraksha mala 10 mukhi rudraksha mala 10 mukhi rudraksha mala Ten face rudrksha mala 108+1= 109 B...",
         "accessories"
        ],
        [
         "10",
         "Catvision DD Free Dish Set Top Box for (90+ Channels | White)",
         "tv, audio & cameras"
        ],
        [
         "11",
         "IndiWeaves� Boys Snowfall Solid Regular Fit Full Sleeves T-Shirts {Pack of 3}",
         "kids' fashion"
        ],
        [
         "12",
         "TheGiftKart Sleek Back Cover Case for iPhone 11 | Slim Fit Protective Design | Ultra Matte Finish | Camera Protection Bump...",
         "tv, audio & cameras"
        ],
        [
         "13",
         "Homgeel Mini Sock Washing Machine Bidirectional Washing Blue Light Small Bucket with Handle Household Baby Clothes Underwe...",
         "appliances"
        ],
        [
         "14",
         "HammerSmith Men's Regular Fit Casual Shirts",
         "men's clothing"
        ],
        [
         "15",
         "Skechers Mens Max Cushioning Arch Fit Sneaker",
         "men's shoes"
        ],
        [
         "16",
         "Naman Shoe's kidsHossey Material Sports Shoes | Blue and Black",
         "men's shoes"
        ],
        [
         "17",
         "Epoch Nylon 55 litres Waterproof Strolley Duffle Bag- 2 Wheels - Luggage Bag - (Black)",
         "accessories"
        ],
        [
         "18",
         "Shining Diva Fashion Long Chain Angel Wings Pendent for Women and Girls (Silver)(rrsd8620np)",
         "accessories"
        ],
        [
         "19",
         "DTR FASHION Women's Cotton Lycra Spandex Stretchable Gym WEAR and Sports WEAR_Single Size(Between 28-32 in INCHES Waist)_C...",
         "women's clothing"
        ],
        [
         "20",
         "FLAWISH Pair Universal 4inch Car Speaker Spacer Adapter Bracket Holder Black",
         "tv, audio & cameras"
        ],
        [
         "21",
         "Tailian Phoneholder Spacious Crossbody Arm-Strap Multipurpose Jogging Sling Bag",
         "accessories"
        ],
        [
         "22",
         "Mysha Grip Wire No Rolling Down Tummy Tucker Women's Shapewear",
         "women's clothing"
        ],
        [
         "23",
         "MITHILA Creation Men's Printed Regular Boxer Shorts Boxer Man Combo|| Boxer Men Cotton|| Boxer Men Combo|| Men Boxer|| Men...",
         "men's clothing"
        ],
        [
         "24",
         "Womens Seamless Butt Lifter Padded Control Panties Fake Buttock Briefs Hip Enhancer Underwear Shapewear Boyshort",
         "women's clothing"
        ],
        [
         "25",
         "Max Women Dress",
         "women's clothing"
        ],
        [
         "26",
         "PGSA2Z® 3-Blade Fan for 2mm Shaft (Multicolour) Pack of 1",
         "appliances"
        ],
        [
         "27",
         "Earphone for Motorola Moto E7 Plus, E7 Plus, E7+, E7 + Universal Earphones Headset Music with 3.5mm Jack Hi-Fi Gaming Soun...",
         "tv, audio & cameras"
        ],
        [
         "28",
         "Strontium Nitro A1 128GB Micro SDXC Memory Card 100MB/s A1 UHS-I U3 Class 10 with High Speed Adapter for Smartphones Table...",
         "tv, audio & cameras"
        ],
        [
         "29",
         "Sports India New ODI Retro Jersey 2022 Long Sleeve and CSKJersey 2022-23 Long Sleeve_Boys & Men",
         "men's clothing"
        ],
        [
         "30",
         "Orient Electric New Air 24-inch 52-Watt High Speed Ceiling Fan (White, 600 mm)",
         "appliances"
        ],
        [
         "31",
         "Poomex Men's Cotton Inner Elastic IE Brief (Pack of 3) Colour May Vary",
         "men's clothing"
        ],
        [
         "32",
         "jainstar Art.Yoga and Exercise mat of4 mm (Blue) Yoga Mat with Yoga Mat Carry Strap 100% Eco Friendly",
         "sports & fitness"
        ],
        [
         "33",
         "HITAGE HPB-831 Earphones Headphones Earplugs Headset High Definition Sound Deep Extra Bass Wired Earphone with in-line Mic...",
         "tv, audio & cameras"
        ],
        [
         "34",
         "Blenzza Deco™ Nursery Print Glace Cotton Queen Size Bedsheet with 2 Pillow Covers(180 Tc)-Sunshine",
         "home & kitchen"
        ],
        [
         "35",
         "DIGITEK® (DPTR 605 VD) (183 cm) Professional Heavy Duty Tripod, with 2 Way Adjustable Pan Head, for Digital Video Cameras,...",
         "tv, audio & cameras"
        ],
        [
         "36",
         "Baggit Women's Sling Bag - XXS",
         "accessories"
        ],
        [
         "37",
         "Clovia Women's Non-Padded Non-Wired T-Shirt Bra in Baby Pink - Cotton Rich",
         "women's clothing"
        ],
        [
         "38",
         "LMDPRAJAPATIS Natural Certified 16.30 Carat Ruby/Manik Panchdhatu Gold Plated Birthstone/Rashi Ratan Adjustable Ring for M...",
         "accessories"
        ],
        [
         "39",
         "Calendar Women's Georgette Printed Silk Saree With Unstiched Blouse Piece",
         "women's clothing"
        ],
        [
         "40",
         "Imprexis Store Red Designer Punjabi Chuda Bridal Bangles for Women Traditional Chuda for Any Special Occasion",
         "accessories"
        ],
        [
         "41",
         "Dixcy Scott Men's Cotton Trunks (Pack of 4) (Dixcy-Move-Trunk-4-90_Assorted_L)",
         "men's clothing"
        ],
        [
         "42",
         "JQR MOJ 401 Men's Running Shoes",
         "men's shoes"
        ],
        [
         "43",
         "Tweens Women's Cotton Non-Padded Wire Free T Shirt Bra",
         "women's clothing"
        ],
        [
         "44",
         "ACESHLEY 19mm Soft Silicone Smartwatch Band, Color Metal Buckle Strap for Noise ColorFit Pulse, ColorFit Pro 2/Oxy, Noise ...",
         "tv, audio & cameras"
        ],
        [
         "45",
         "Paperiva Aluminum Dream Catcher (Blue)",
         "home & kitchen"
        ],
        [
         "46",
         "Boldfit Tummy Shaper for Women & Men Sweat Slim Belt Tummy Belt Shapewear for Belly. Body Shaper Belt for Stomach Fitness ...",
         "women's clothing"
        ],
        [
         "47",
         "FOURSEVEN® 925 Sterling Silver Make it Happen Story Bead with Black Triple Layer Faux Leather Magnetic Clasp Bracelet - Me...",
         "accessories"
        ],
        [
         "48",
         "Shopnet Wireless Bluetooth Speaker TG113 For Asus PadFone Infinity Ultra Boost Bass with DJ Sound Portable Home Speaker wi...",
         "tv, audio & cameras"
        ],
        [
         "49",
         "Van Heusen Academy Men Jeans",
         "men's clothing"
        ]
       ],
       "shape": {
        "columns": 2,
        "rows": 11032
       }
      },
      "text/html": [
       "<div>\n",
       "<style scoped>\n",
       "    .dataframe tbody tr th:only-of-type {\n",
       "        vertical-align: middle;\n",
       "    }\n",
       "\n",
       "    .dataframe tbody tr th {\n",
       "        vertical-align: top;\n",
       "    }\n",
       "\n",
       "    .dataframe thead th {\n",
       "        text-align: right;\n",
       "    }\n",
       "</style>\n",
       "<table border=\"1\" class=\"dataframe\">\n",
       "  <thead>\n",
       "    <tr style=\"text-align: right;\">\n",
       "      <th></th>\n",
       "      <th>name</th>\n",
       "      <th>main_category</th>\n",
       "    </tr>\n",
       "  </thead>\n",
       "  <tbody>\n",
       "    <tr>\n",
       "      <th>0</th>\n",
       "      <td>ASJAR Men's Ultra-Soft Lycra Material | Ice-Si...</td>\n",
       "      <td>men's clothing</td>\n",
       "    </tr>\n",
       "    <tr>\n",
       "      <th>1</th>\n",
       "      <td>EditLook Men's Slim Fit Wash Knee Distressed J...</td>\n",
       "      <td>men's clothing</td>\n",
       "    </tr>\n",
       "    <tr>\n",
       "      <th>2</th>\n",
       "      <td>Pepe Jeans Men's Slim Fit Jeans (PIMC0003498_D...</td>\n",
       "      <td>men's clothing</td>\n",
       "    </tr>\n",
       "    <tr>\n",
       "      <th>3</th>\n",
       "      <td>Red Tape Men Blue Walking Shoes</td>\n",
       "      <td>men's shoes</td>\n",
       "    </tr>\n",
       "    <tr>\n",
       "      <th>4</th>\n",
       "      <td>FEDUS USB 3.0 Extension Cable 1.5M, Aluminum A...</td>\n",
       "      <td>tv, audio &amp; cameras</td>\n",
       "    </tr>\n",
       "    <tr>\n",
       "      <th>...</th>\n",
       "      <td>...</td>\n",
       "      <td>...</td>\n",
       "    </tr>\n",
       "    <tr>\n",
       "      <th>11027</th>\n",
       "      <td>Vast Aviator Unisex Sunglasses (Polo9739|Brown...</td>\n",
       "      <td>accessories</td>\n",
       "    </tr>\n",
       "    <tr>\n",
       "      <th>11028</th>\n",
       "      <td>Tommy Hilfiger Brown &amp; Navy Leather Men's Wall...</td>\n",
       "      <td>accessories</td>\n",
       "    </tr>\n",
       "    <tr>\n",
       "      <th>11029</th>\n",
       "      <td>ZUPERIA Diamond Studded Combo Watches for Girl...</td>\n",
       "      <td>accessories</td>\n",
       "    </tr>\n",
       "    <tr>\n",
       "      <th>11030</th>\n",
       "      <td>INDIAN FLOWER Cotton Nighty for Women</td>\n",
       "      <td>women's clothing</td>\n",
       "    </tr>\n",
       "    <tr>\n",
       "      <th>11031</th>\n",
       "      <td>Zeya Yellow Gold The Crossover Hoop Stud Earri...</td>\n",
       "      <td>accessories</td>\n",
       "    </tr>\n",
       "  </tbody>\n",
       "</table>\n",
       "<p>11032 rows × 2 columns</p>\n",
       "</div>"
      ],
      "text/plain": [
       "                                                    name        main_category\n",
       "0      ASJAR Men's Ultra-Soft Lycra Material | Ice-Si...       men's clothing\n",
       "1      EditLook Men's Slim Fit Wash Knee Distressed J...       men's clothing\n",
       "2      Pepe Jeans Men's Slim Fit Jeans (PIMC0003498_D...       men's clothing\n",
       "3                        Red Tape Men Blue Walking Shoes          men's shoes\n",
       "4      FEDUS USB 3.0 Extension Cable 1.5M, Aluminum A...  tv, audio & cameras\n",
       "...                                                  ...                  ...\n",
       "11027  Vast Aviator Unisex Sunglasses (Polo9739|Brown...          accessories\n",
       "11028  Tommy Hilfiger Brown & Navy Leather Men's Wall...          accessories\n",
       "11029  ZUPERIA Diamond Studded Combo Watches for Girl...          accessories\n",
       "11030              INDIAN FLOWER Cotton Nighty for Women     women's clothing\n",
       "11031  Zeya Yellow Gold The Crossover Hoop Stud Earri...          accessories\n",
       "\n",
       "[11032 rows x 2 columns]"
      ]
     },
     "execution_count": 2,
     "metadata": {},
     "output_type": "execute_result"
    }
   ],
   "source": [
    "df = amazon(11)\n",
    "df"
   ]
  },
  {
   "cell_type": "code",
   "execution_count": 3,
   "id": "b140efd1",
   "metadata": {},
   "outputs": [
    {
     "name": "stdout",
     "output_type": "stream",
     "text": [
      "['00' '000' '00000126' ... 'यम' 'रत' 'ᵀᴹ']\n",
      "[[0 0 0 ... 0 0 0]\n",
      " [0 0 0 ... 0 0 0]\n",
      " [0 0 0 ... 0 0 0]\n",
      " ...\n",
      " [0 0 0 ... 0 0 0]\n",
      " [0 0 0 ... 0 0 0]\n",
      " [0 0 0 ... 0 0 0]]\n"
     ]
    }
   ],
   "source": [
    "names = df[\"name\"].tolist()\n",
    "\n",
    "# Vektörizer oluştur\n",
    "vectorizer = CountVectorizer()\n",
    "\n",
    "# Vektörleri oluştur\n",
    "X = vectorizer.fit_transform(names)\n",
    "\n",
    "# Kelime dağarcığını gör\n",
    "print(vectorizer.get_feature_names_out())\n",
    "\n",
    "# Vektörleri gör (sparse matrix -> dense array)\n",
    "print(X.toarray())"
   ]
  },
  {
   "cell_type": "code",
   "execution_count": 4,
   "id": "3dc35ba4",
   "metadata": {},
   "outputs": [],
   "source": [
    "# Label Encoding\n",
    "le = LabelEncoder()\n",
    "y = le.fit_transform(df['main_category'])"
   ]
  },
  {
   "cell_type": "code",
   "execution_count": 5,
   "id": "5e52c4e9",
   "metadata": {},
   "outputs": [
    {
     "name": "stdout",
     "output_type": "stream",
     "text": [
      "                         precision    recall  f1-score   support\n",
      "\n",
      "            accessories       0.81      0.92      0.86       464\n",
      "             appliances       0.87      0.91      0.89       143\n",
      "         bags & luggage       0.53      0.28      0.36        36\n",
      "        beauty & health       0.81      0.50      0.62        44\n",
      "        car & motorbike       0.88      0.44      0.58        32\n",
      "grocery & gourmet foods       1.00      0.38      0.55        16\n",
      "         home & kitchen       0.62      0.52      0.57        63\n",
      "    industrial supplies       0.62      0.29      0.40        17\n",
      "          kids' fashion       0.56      0.38      0.45        40\n",
      "         men's clothing       0.91      0.97      0.93       296\n",
      "            men's shoes       0.80      0.93      0.86       224\n",
      "                  music       1.00      0.33      0.50         3\n",
      "           pet supplies       1.00      0.40      0.57        10\n",
      "       sports & fitness       0.76      0.51      0.61        43\n",
      "                 stores       0.53      0.33      0.41       137\n",
      "   toys & baby products       0.77      0.85      0.81        20\n",
      "    tv, audio & cameras       0.88      0.97      0.92       269\n",
      "       women's clothing       0.92      0.96      0.94       328\n",
      "          women's shoes       0.88      0.68      0.77        22\n",
      "\n",
      "               accuracy                           0.83      2207\n",
      "              macro avg       0.80      0.61      0.66      2207\n",
      "           weighted avg       0.82      0.83      0.82      2207\n",
      "\n"
     ]
    }
   ],
   "source": [
    "model = models.train_and_eval(X, y, le.classes_)"
   ]
  },
  {
   "cell_type": "code",
   "execution_count": null,
   "id": "966f4a72",
   "metadata": {},
   "outputs": [],
   "source": [
    "models.save_model(model, \"lr_11k_BoW.pkl\")"
   ]
  }
 ],
 "metadata": {
  "kernelspec": {
   "display_name": "bitirme",
   "language": "python",
   "name": "python3"
  },
  "language_info": {
   "codemirror_mode": {
    "name": "ipython",
    "version": 3
   },
   "file_extension": ".py",
   "mimetype": "text/x-python",
   "name": "python",
   "nbconvert_exporter": "python",
   "pygments_lexer": "ipython3",
   "version": "3.12.3"
  }
 },
 "nbformat": 4,
 "nbformat_minor": 5
}
