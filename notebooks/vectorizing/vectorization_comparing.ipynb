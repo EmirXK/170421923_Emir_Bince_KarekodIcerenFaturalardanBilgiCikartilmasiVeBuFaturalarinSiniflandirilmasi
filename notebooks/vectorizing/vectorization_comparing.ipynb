{
 "cells": [
  {
   "cell_type": "code",
   "execution_count": 1,
   "id": "f8b1217e",
   "metadata": {},
   "outputs": [
    {
     "name": "stderr",
     "output_type": "stream",
     "text": [
      "/home/yegekucuk/venv/bitirme/lib/python3.12/site-packages/tqdm/auto.py:21: TqdmWarning: IProgress not found. Please update jupyter and ipywidgets. See https://ipywidgets.readthedocs.io/en/stable/user_install.html\n",
      "  from .autonotebook import tqdm as notebook_tqdm\n"
     ]
    }
   ],
   "source": [
    "from module import datasets\n",
    "from module import models\n",
    "from sklearn.feature_extraction.text import CountVectorizer\n",
    "from sklearn.feature_extraction.text import TfidfVectorizer\n",
    "from sklearn.preprocessing import LabelEncoder"
   ]
  },
  {
   "cell_type": "code",
   "execution_count": 2,
   "id": "8b52ce50",
   "metadata": {},
   "outputs": [
    {
     "name": "stdout",
     "output_type": "stream",
     "text": [
      "                                                    name        main_category\n",
      "0      ASJAR Men's Ultra-Soft Lycra Material | Ice-Si...       men's clothing\n",
      "1      EditLook Men's Slim Fit Wash Knee Distressed J...       men's clothing\n",
      "2      Pepe Jeans Men's Slim Fit Jeans (PIMC0003498_D...       men's clothing\n",
      "3                        Red Tape Men Blue Walking Shoes          men's shoes\n",
      "4      FEDUS USB 3.0 Extension Cable 1.5M, Aluminum A...  tv, audio & cameras\n",
      "...                                                  ...                  ...\n",
      "11027  Vast Aviator Unisex Sunglasses (Polo9739|Brown...          accessories\n",
      "11028  Tommy Hilfiger Brown & Navy Leather Men's Wall...          accessories\n",
      "11029  ZUPERIA Diamond Studded Combo Watches for Girl...          accessories\n",
      "11030              INDIAN FLOWER Cotton Nighty for Women     women's clothing\n",
      "11031  Zeya Yellow Gold The Crossover Hoop Stud Earri...          accessories\n",
      "\n",
      "[11032 rows x 2 columns]\n",
      "                                                    name        main_category\n",
      "0      Designer Mobile Pouch for Women Multicolored E...          accessories\n",
      "1      WON Brand NL4FC Speakon Cable Amplifier Male C...  tv, audio & cameras\n",
      "2      STREETMODE - Cotton Sweatshirts Pullovers for ...     sports & fitness\n",
      "3               Cherokee by Unlimited Men's Skinny Jeans       men's clothing\n",
      "4      Your Gift Studio Customized Slim Genuine Leath...               stores\n",
      "...                                                  ...                  ...\n",
      "22059  LooksGud Dhruvi Trendz Women's Cotton Silk Sol...     women's clothing\n",
      "22060           Personalized Embossed Advocate Key chain          accessories\n",
      "22061  Generic Women's Linen Regular Short Kurti (Pri...     women's clothing\n",
      "22062                               BIBA womens Suit Set     women's clothing\n",
      "22063  Sidharth Gems 10.25 Ratti / 9.50 Carat Zircon ...          accessories\n",
      "\n",
      "[22064 rows x 2 columns]\n",
      "                                                    name        main_category\n",
      "0                                  Zeya Yellow Gold Ring          accessories\n",
      "1      Gizga Essentials Professional 6-in-1 Cleaning ...  tv, audio & cameras\n",
      "2                Pepe Jeans Innerwear Men's Cotton Brief       men's clothing\n",
      "3      Flat 10% off at checkout||Jack & Jones E-Gift ...          accessories\n",
      "4      MOSTOS ; Brings Superior® - 58mm Lens Cap For ...  tv, audio & cameras\n",
      "...                                                  ...                  ...\n",
      "55154  truke Air Buds Lite True Wireless in Ear Earbu...  tv, audio & cameras\n",
      "55155                      Van Heusen Women Casual Pants     women's clothing\n",
      "55156  bluei Boss 3.5mm Jack in-Ear Wired Earphones P...  tv, audio & cameras\n",
      "55157  Varkala Silk Sarees Women's | Paithani | Soft ...     women's clothing\n",
      "55158  LuckOn Batwa Women's Genuine Leather Small Han...          accessories\n",
      "\n",
      "[55159 rows x 2 columns]\n"
     ]
    }
   ],
   "source": [
    "# Load datasets\n",
    "df_11k = datasets.amazon(11)\n",
    "df_22k = datasets.amazon(22)\n",
    "df_55k = datasets.amazon(55)\n",
    "\n",
    "print(df_11k)\n",
    "print(df_22k)\n",
    "print(df_55k)"
   ]
  },
  {
   "cell_type": "code",
   "execution_count": 3,
   "id": "91f87515",
   "metadata": {},
   "outputs": [
    {
     "name": "stdout",
     "output_type": "stream",
     "text": [
      "                         precision    recall  f1-score   support\n",
      "\n",
      "            accessories       0.81      0.92      0.86       464\n",
      "             appliances       0.87      0.91      0.89       143\n",
      "         bags & luggage       0.53      0.28      0.36        36\n",
      "        beauty & health       0.81      0.50      0.62        44\n",
      "        car & motorbike       0.88      0.44      0.58        32\n",
      "grocery & gourmet foods       1.00      0.38      0.55        16\n",
      "         home & kitchen       0.62      0.52      0.57        63\n",
      "    industrial supplies       0.62      0.29      0.40        17\n",
      "          kids' fashion       0.56      0.38      0.45        40\n",
      "         men's clothing       0.91      0.97      0.93       296\n",
      "            men's shoes       0.80      0.93      0.86       224\n",
      "                  music       1.00      0.33      0.50         3\n",
      "           pet supplies       1.00      0.40      0.57        10\n",
      "       sports & fitness       0.76      0.51      0.61        43\n",
      "                 stores       0.53      0.33      0.41       137\n",
      "   toys & baby products       0.77      0.85      0.81        20\n",
      "    tv, audio & cameras       0.88      0.97      0.92       269\n",
      "       women's clothing       0.92      0.96      0.94       328\n",
      "          women's shoes       0.88      0.68      0.77        22\n",
      "\n",
      "               accuracy                           0.83      2207\n",
      "              macro avg       0.80      0.61      0.66      2207\n",
      "           weighted avg       0.82      0.83      0.82      2207\n",
      "\n"
     ]
    }
   ],
   "source": [
    "# Label Encoding Y\n",
    "le = LabelEncoder()\n",
    "y = le.fit_transform(df_11k['main_category'])\n",
    "\n",
    "# Bag of Words X\n",
    "names = df_11k[\"name\"]\n",
    "\n",
    "cv = CountVectorizer()\n",
    "X = cv.fit_transform(names)\n",
    "\n",
    "model_11k = models.train_and_eval(X, y, le.classes_)"
   ]
  },
  {
   "cell_type": "code",
   "execution_count": 4,
   "id": "8a333d13",
   "metadata": {},
   "outputs": [
    {
     "name": "stdout",
     "output_type": "stream",
     "text": [
      "                         precision    recall  f1-score   support\n",
      "\n",
      "            accessories       0.83      0.92      0.87       945\n",
      "             appliances       0.88      0.98      0.93       272\n",
      "         bags & luggage       0.48      0.30      0.37        79\n",
      "        beauty & health       0.76      0.71      0.73        92\n",
      "        car & motorbike       0.84      0.65      0.73        57\n",
      "grocery & gourmet foods       0.95      0.71      0.82        28\n",
      "         home & kitchen       0.73      0.61      0.66       120\n",
      "    industrial supplies       0.77      0.45      0.57        38\n",
      "          kids' fashion       0.71      0.56      0.63       103\n",
      "         men's clothing       0.94      0.98      0.96       645\n",
      "            men's shoes       0.85      0.91      0.88       430\n",
      "                  music       1.00      0.15      0.27        13\n",
      "           pet supplies       0.89      0.89      0.89         9\n",
      "       sports & fitness       0.74      0.51      0.61       103\n",
      "                 stores       0.55      0.41      0.47       247\n",
      "   toys & baby products       0.79      0.67      0.73        49\n",
      "    tv, audio & cameras       0.92      0.97      0.94       542\n",
      "       women's clothing       0.93      0.97      0.95       590\n",
      "          women's shoes       0.95      0.71      0.81        51\n",
      "\n",
      "               accuracy                           0.86      4413\n",
      "              macro avg       0.82      0.69      0.73      4413\n",
      "           weighted avg       0.85      0.86      0.85      4413\n",
      "\n"
     ]
    }
   ],
   "source": [
    "# Label Encoding Y\n",
    "le = LabelEncoder()\n",
    "y = le.fit_transform(df_22k['main_category'])\n",
    "\n",
    "# Bag of Words X\n",
    "names = df_22k[\"name\"]\n",
    "\n",
    "cv = CountVectorizer()\n",
    "X = cv.fit_transform(names)\n",
    "\n",
    "model_22k = models.train_and_eval(X, y, le.classes_)"
   ]
  },
  {
   "cell_type": "code",
   "execution_count": 5,
   "id": "273db86c",
   "metadata": {},
   "outputs": [
    {
     "name": "stdout",
     "output_type": "stream",
     "text": [
      "                         precision    recall  f1-score   support\n",
      "\n",
      "            accessories       0.87      0.92      0.89      2396\n",
      "             appliances       0.92      0.96      0.94       697\n",
      "         bags & luggage       0.55      0.46      0.50       210\n",
      "        beauty & health       0.72      0.79      0.75       193\n",
      "        car & motorbike       0.84      0.70      0.77       151\n",
      "grocery & gourmet foods       0.81      0.86      0.84        65\n",
      "         home & kitchen       0.80      0.77      0.78       313\n",
      "    industrial supplies       0.71      0.49      0.58        73\n",
      "          kids' fashion       0.79      0.66      0.72       270\n",
      "         men's clothing       0.94      0.97      0.95      1477\n",
      "            men's shoes       0.87      0.93      0.90      1161\n",
      "                  music       0.92      0.50      0.65        22\n",
      "           pet supplies       0.81      0.52      0.63        25\n",
      "       sports & fitness       0.68      0.54      0.60       235\n",
      "                 stores       0.53      0.39      0.45       632\n",
      "   toys & baby products       0.84      0.66      0.74       127\n",
      "    tv, audio & cameras       0.94      0.95      0.95      1385\n",
      "       women's clothing       0.94      0.96      0.95      1482\n",
      "          women's shoes       0.92      0.82      0.87       118\n",
      "\n",
      "               accuracy                           0.87     11032\n",
      "              macro avg       0.81      0.73      0.76     11032\n",
      "           weighted avg       0.86      0.87      0.86     11032\n",
      "\n"
     ]
    }
   ],
   "source": [
    "# Label Encoding Y\n",
    "le = LabelEncoder()\n",
    "y = le.fit_transform(df_55k['main_category'])\n",
    "\n",
    "# Bag of Words X\n",
    "names = df_55k[\"name\"]\n",
    "\n",
    "cv = CountVectorizer()\n",
    "X = cv.fit_transform(names)\n",
    "\n",
    "model_55k = models.train_and_eval(X, y, le.classes_)"
   ]
  },
  {
   "cell_type": "code",
   "execution_count": 6,
   "id": "28b006bd",
   "metadata": {},
   "outputs": [],
   "source": [
    "# Save the models\n",
    "models.save_model(model_11k, \"lr_11k_BoW.pkl\")\n",
    "models.save_model(model_22k, \"lr_22k_BoW.pkl\")\n",
    "models.save_model(model_55k, \"lr_55k_BoW.pkl\")"
   ]
  }
 ],
 "metadata": {
  "kernelspec": {
   "display_name": "bitirme",
   "language": "python",
   "name": "python3"
  },
  "language_info": {
   "codemirror_mode": {
    "name": "ipython",
    "version": 3
   },
   "file_extension": ".py",
   "mimetype": "text/x-python",
   "name": "python",
   "nbconvert_exporter": "python",
   "pygments_lexer": "ipython3",
   "version": "3.12.3"
  }
 },
 "nbformat": 4,
 "nbformat_minor": 5
}
