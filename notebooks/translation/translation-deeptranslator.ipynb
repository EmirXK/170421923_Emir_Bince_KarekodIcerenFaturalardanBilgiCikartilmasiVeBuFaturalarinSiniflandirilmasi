{
 "cells": [
  {
   "cell_type": "code",
   "execution_count": 4,
   "id": "5df1baea",
   "metadata": {},
   "outputs": [],
   "source": [
    "from deep_translator import GoogleTranslator\n",
    "from module import amazon_sample"
   ]
  },
  {
   "cell_type": "code",
   "execution_count": 12,
   "id": "2e9d9b1c",
   "metadata": {},
   "outputs": [
    {
     "data": {
      "text/plain": [
       "['Zeya Yellow Gold Ring',\n",
       " 'Gizga Essentials Professional 6-in-1 Cleaning Kit for Cameras & Sensitive Electronics (Includes: Air Blower, Cotton Swabs,...',\n",
       " \"Pepe Jeans Innerwear Men's Cotton Brief\",\n",
       " 'Flat 10% off at checkout||Jack & Jones E-Gift Card',\n",
       " 'MOSTOS ; Brings Superior® - 58mm Lens Cap For Canon Camera Cover Cap Compatible for Canon EF-S 18-55mm Lens Compatible wit...',\n",
       " 'AFJ Gold 1 Gram Gold Plated Traditional Designer Trendy Stone Bangles Sets for Women & Girls (Bangle 3, 2.4)',\n",
       " \"INDO ERA Women's White Floral Flared Kurta Sets with Dupatta(KH0WH8728)\",\n",
       " \"Sonata Essentials Analog Champagne Dial Men's Watch-NN77082YL01W/NP77082YL01W\",\n",
       " \"MIRCHI FASHION Women's Cotton Blend Leheriya Printed Saree with Blouse Piece\",\n",
       " \"SMARNN Women's 22K Gold Plated Jadau Sita Rani with Detachable Dori\"]"
      ]
     },
     "execution_count": 12,
     "metadata": {},
     "output_type": "execute_result"
    }
   ],
   "source": [
    "x = amazon_sample()[0:10]\n",
    "x = x[\"name\"].tolist()\n",
    "x"
   ]
  },
  {
   "cell_type": "code",
   "execution_count": 13,
   "id": "eb289ba5",
   "metadata": {},
   "outputs": [
    {
     "data": {
      "text/plain": [
       "['Zeya sarı qızıl üzük',\n",
       " 'Gizga Essentials Professional 6-in-1 Kameralar və həssas elektronika üçün təmizlik dəsti (daxildir: hava üfleyi, pambıq köpüklər, ...',\n",
       " 'Pepe Jeans Innerwear Kişi pambıq qısa',\n",
       " 'Yoxlama zamanı düz 10% endirim || Jack & Jones e-Hədiyyə Kartı',\n",
       " 'Mostos; Canon, Canon Kamera örtükü üçün 58mm lens qapağı - Canon EF-S 18-55mm Lens uyğun ağıl üçün uyğun ...',\n",
       " 'AFJ GOLD 1 GRAM Qızıl Ənənəvi dizayner Trendy Daş Bangles Qadınlar və Qızlar üçün Dəstlər (Bangle 3, 2.4)',\n",
       " 'Indo Era Qadın Ağ Floral Dupatta (Kh0Wh8728) ilə birlikdə Kurta dəstləri',\n",
       " 'Sonata Essentials Analog Champagne Dial Kişi Saat-NN77082YL01W / NP77082YL01W',\n",
       " 'Mirchi moda qadın pambıq qarışığı Leheriya, bluza parçası ilə Saree çap etdi',\n",
       " 'Smarnn Qadınlar 22K qızıl, ayrıla bilən dori ilə Jadau Sita Rani ilə örtülmüşdür']"
      ]
     },
     "execution_count": 13,
     "metadata": {},
     "output_type": "execute_result"
    }
   ],
   "source": [
    "translated = GoogleTranslator('en', 'az').translate_batch(x)\n",
    "translated"
   ]
  }
 ],
 "metadata": {
  "kernelspec": {
   "display_name": "bitirme",
   "language": "python",
   "name": "python3"
  },
  "language_info": {
   "codemirror_mode": {
    "name": "ipython",
    "version": 3
   },
   "file_extension": ".py",
   "mimetype": "text/x-python",
   "name": "python",
   "nbconvert_exporter": "python",
   "pygments_lexer": "ipython3",
   "version": "3.12.3"
  }
 },
 "nbformat": 4,
 "nbformat_minor": 5
}
