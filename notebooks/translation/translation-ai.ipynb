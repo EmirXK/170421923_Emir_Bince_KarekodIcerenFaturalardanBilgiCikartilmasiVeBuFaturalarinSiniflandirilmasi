{
 "cells": [
  {
   "cell_type": "code",
   "execution_count": 1,
   "id": "f3eb5f62",
   "metadata": {},
   "outputs": [
    {
     "name": "stderr",
     "output_type": "stream",
     "text": [
      "/home/yegekucuk/venv/bitirme/lib/python3.12/site-packages/tqdm/auto.py:21: TqdmWarning: IProgress not found. Please update jupyter and ipywidgets. See https://ipywidgets.readthedocs.io/en/stable/user_install.html\n",
      "  from .autonotebook import tqdm as notebook_tqdm\n",
      "2025-05-20 15:32:38.238484: E external/local_xla/xla/stream_executor/cuda/cuda_fft.cc:485] Unable to register cuFFT factory: Attempting to register factory for plugin cuFFT when one has already been registered\n",
      "2025-05-20 15:32:38.251710: E external/local_xla/xla/stream_executor/cuda/cuda_dnn.cc:8454] Unable to register cuDNN factory: Attempting to register factory for plugin cuDNN when one has already been registered\n",
      "2025-05-20 15:32:38.255598: E external/local_xla/xla/stream_executor/cuda/cuda_blas.cc:1452] Unable to register cuBLAS factory: Attempting to register factory for plugin cuBLAS when one has already been registered\n",
      "2025-05-20 15:32:38.266413: I tensorflow/core/platform/cpu_feature_guard.cc:210] This TensorFlow binary is optimized to use available CPU instructions in performance-critical operations.\n",
      "To enable the following instructions: AVX2 FMA, in other operations, rebuild TensorFlow with the appropriate compiler flags.\n",
      "2025-05-20 15:32:39.201345: W tensorflow/compiler/tf2tensorrt/utils/py_utils.cc:38] TF-TRT Warning: Could not find TensorRT\n"
     ]
    },
    {
     "name": "stdout",
     "output_type": "stream",
     "text": [
      "Azerbaijani: YARADILIŞ 3-CKO-nın QİÇS (1111)\n"
     ]
    }
   ],
   "source": [
    "from transformers import MarianMTModel, MarianTokenizer\n",
    "\n",
    "# Model ve tokenizer'ı yükle\n",
    "model_name = \"Helsinki-NLP/opus-mt-en-az\"\n",
    "tokenizer = MarianTokenizer.from_pretrained(model_name)\n",
    "model = MarianMTModel.from_pretrained(model_name)\n",
    "\n",
    "def translate_en_to_az(text):\n",
    "    # Girdi metni token'lara ayrılır\n",
    "    inputs = tokenizer(text, return_tensors=\"pt\", padding=True)\n",
    "    # Model ile çeviri yapılır\n",
    "    translated = model.generate(**inputs)\n",
    "    # Token'lar çözümlenir ve çıktı alınır\n",
    "    az_text = tokenizer.decode(translated[0], skip_special_tokens=True)\n",
    "    return az_text\n",
    "\n",
    "# Örnek kullanım\n",
    "english_text = \"LG 1.5 Ton 3 Star AI DUAL Inverter Split AC (Copper, Super Convertible 6-in-1 Cooling, HD Filter with Anti-Virus Protection..\"\n",
    "azerbaijani_translation = translate_en_to_az(english_text)\n",
    "print(\"Azerbaijani:\", azerbaijani_translation)"
   ]
  },
  {
   "cell_type": "code",
   "execution_count": 2,
   "id": "a828014c",
   "metadata": {},
   "outputs": [],
   "source": [
    "import pandas as pd\n",
    "from module import datasets\n",
    "\n",
    "df = datasets.amazon_sample()[0:10]  # İngilizce metin içeren CSV\n",
    "column_to_translate = \"name\"   # Çevrilecek sütun\n",
    "\n",
    "df[\"name\"] = df[column_to_translate].apply(translate_en_to_az)\n",
    "df.to_csv(\"cevrilmis.csv\", index=False)"
   ]
  }
 ],
 "metadata": {
  "kernelspec": {
   "display_name": "bitirme",
   "language": "python",
   "name": "python3"
  },
  "language_info": {
   "codemirror_mode": {
    "name": "ipython",
    "version": 3
   },
   "file_extension": ".py",
   "mimetype": "text/x-python",
   "name": "python",
   "nbconvert_exporter": "python",
   "pygments_lexer": "ipython3",
   "version": "3.12.3"
  }
 },
 "nbformat": 4,
 "nbformat_minor": 5
}
